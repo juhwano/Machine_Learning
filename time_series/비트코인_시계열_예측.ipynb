{
  "nbformat": 4,
  "nbformat_minor": 0,
  "metadata": {
    "colab": {
      "name": "비트코인_시계열_예측.ipynb",
      "provenance": [],
      "collapsed_sections": []
    },
    "kernelspec": {
      "name": "python3",
      "display_name": "Python 3"
    },
    "language_info": {
      "name": "python"
    }
  },
  "cells": [
    {
      "cell_type": "code",
      "source": [
        "!sudo apt-get install -y fonts-nanum\n",
        "!sudo fc-cache -fv\n",
        "!rm ~/.cache/matplotlib -rf"
      ],
      "metadata": {
        "colab": {
          "base_uri": "https://localhost:8080/"
        },
        "id": "J_-RIW2qUBWL",
        "outputId": "79e740b0-df4f-49ba-90d5-b5f14968f48d"
      },
      "execution_count": 1,
      "outputs": [
        {
          "output_type": "stream",
          "name": "stdout",
          "text": [
            "Reading package lists... Done\n",
            "Building dependency tree       \n",
            "Reading state information... Done\n",
            "fonts-nanum is already the newest version (20170925-1).\n",
            "0 upgraded, 0 newly installed, 0 to remove and 37 not upgraded.\n",
            "/usr/share/fonts: caching, new cache contents: 0 fonts, 1 dirs\n",
            "/usr/share/fonts/truetype: caching, new cache contents: 0 fonts, 3 dirs\n",
            "/usr/share/fonts/truetype/humor-sans: caching, new cache contents: 1 fonts, 0 dirs\n",
            "/usr/share/fonts/truetype/liberation: caching, new cache contents: 16 fonts, 0 dirs\n",
            "/usr/share/fonts/truetype/nanum: caching, new cache contents: 10 fonts, 0 dirs\n",
            "/usr/local/share/fonts: caching, new cache contents: 0 fonts, 0 dirs\n",
            "/root/.local/share/fonts: skipping, no such directory\n",
            "/root/.fonts: skipping, no such directory\n",
            "/var/cache/fontconfig: cleaning cache directory\n",
            "/root/.cache/fontconfig: not cleaning non-existent cache directory\n",
            "/root/.fontconfig: not cleaning non-existent cache directory\n",
            "fc-cache: succeeded\n"
          ]
        }
      ]
    },
    {
      "cell_type": "code",
      "source": [
        "from google.colab import drive\n",
        "drive.mount('/gdrive')\n",
        "%cd /gdrive"
      ],
      "metadata": {
        "colab": {
          "base_uri": "https://localhost:8080/"
        },
        "id": "v6XLNOAnEklT",
        "outputId": "c1bcb0a3-1135-4df3-f80b-6f440d28607e"
      },
      "execution_count": 2,
      "outputs": [
        {
          "output_type": "stream",
          "name": "stdout",
          "text": [
            "Drive already mounted at /gdrive; to attempt to forcibly remount, call drive.mount(\"/gdrive\", force_remount=True).\n",
            "/gdrive\n"
          ]
        }
      ]
    },
    {
      "cell_type": "code",
      "execution_count": 3,
      "metadata": {
        "id": "4wwiPWxZ4PSi"
      },
      "outputs": [],
      "source": [
        "import pandas as pd\n",
        "import numpy as np\n",
        "import matplotlib.pyplot as plt\n",
        "plt.rc('font', family='NanumBarunGothic')\n",
        "import seaborn as sns"
      ]
    },
    {
      "cell_type": "code",
      "source": [
        "file_path = \"/gdrive/MyDrive/ssac_bigdata/data/bitcoin_price_1y.csv\"\n",
        "bitcoin_df = pd.read_csv(file_path, names = ['day', 'price'])"
      ],
      "metadata": {
        "id": "I5q0YUGw40h1"
      },
      "execution_count": 4,
      "outputs": []
    },
    {
      "cell_type": "code",
      "source": [
        "# 맨 뒤의 5일치 미리 빼둠\n",
        "bitcoin_train_df = bitcoin_df.iloc[:361]\n",
        "bitcoin_train_df.tail()"
      ],
      "metadata": {
        "colab": {
          "base_uri": "https://localhost:8080/",
          "height": 206
        },
        "id": "laOi07iO40ua",
        "outputId": "3e2c2073-773e-4c78-afb9-4510147bb110"
      },
      "execution_count": 5,
      "outputs": [
        {
          "output_type": "execute_result",
          "data": {
            "text/html": [
              "<div>\n",
              "<style scoped>\n",
              "    .dataframe tbody tr th:only-of-type {\n",
              "        vertical-align: middle;\n",
              "    }\n",
              "\n",
              "    .dataframe tbody tr th {\n",
              "        vertical-align: top;\n",
              "    }\n",
              "\n",
              "    .dataframe thead th {\n",
              "        text-align: right;\n",
              "    }\n",
              "</style>\n",
              "<table border=\"1\" class=\"dataframe\">\n",
              "  <thead>\n",
              "    <tr style=\"text-align: right;\">\n",
              "      <th></th>\n",
              "      <th>day</th>\n",
              "      <th>price</th>\n",
              "    </tr>\n",
              "  </thead>\n",
              "  <tbody>\n",
              "    <tr>\n",
              "      <th>356</th>\n",
              "      <td>2021-11-30</td>\n",
              "      <td>57828.45</td>\n",
              "    </tr>\n",
              "    <tr>\n",
              "      <th>357</th>\n",
              "      <td>2021-12-01</td>\n",
              "      <td>57025.79</td>\n",
              "    </tr>\n",
              "    <tr>\n",
              "      <th>358</th>\n",
              "      <td>2021-12-02</td>\n",
              "      <td>57229.76</td>\n",
              "    </tr>\n",
              "    <tr>\n",
              "      <th>359</th>\n",
              "      <td>2021-12-03</td>\n",
              "      <td>56508.48</td>\n",
              "    </tr>\n",
              "    <tr>\n",
              "      <th>360</th>\n",
              "      <td>2021-12-04</td>\n",
              "      <td>53713.84</td>\n",
              "    </tr>\n",
              "  </tbody>\n",
              "</table>\n",
              "</div>"
            ],
            "text/plain": [
              "            day     price\n",
              "356  2021-11-30  57828.45\n",
              "357  2021-12-01  57025.79\n",
              "358  2021-12-02  57229.76\n",
              "359  2021-12-03  56508.48\n",
              "360  2021-12-04  53713.84"
            ]
          },
          "metadata": {},
          "execution_count": 5
        }
      ]
    },
    {
      "cell_type": "code",
      "source": [
        "bitcoin_train_df.info()"
      ],
      "metadata": {
        "colab": {
          "base_uri": "https://localhost:8080/"
        },
        "id": "b4VDcSSn5F5g",
        "outputId": "9d94fe4a-e25d-4aa8-e9cf-4b20ae8a2333"
      },
      "execution_count": 6,
      "outputs": [
        {
          "output_type": "stream",
          "name": "stdout",
          "text": [
            "<class 'pandas.core.frame.DataFrame'>\n",
            "RangeIndex: 361 entries, 0 to 360\n",
            "Data columns (total 2 columns):\n",
            " #   Column  Non-Null Count  Dtype  \n",
            "---  ------  --------------  -----  \n",
            " 0   day     361 non-null    object \n",
            " 1   price   361 non-null    float64\n",
            "dtypes: float64(1), object(1)\n",
            "memory usage: 5.8+ KB\n"
          ]
        }
      ]
    },
    {
      "cell_type": "code",
      "source": [
        "#시계열은 날짜로 인식시켜야하기떄문에\n",
        "#날짜로 인식시키기위해서 바꿔준다."
      ],
      "metadata": {
        "id": "8OXSQ6ke6f8t"
      },
      "execution_count": 7,
      "outputs": []
    },
    {
      "cell_type": "code",
      "source": [
        "bitcoin_train_df['day'] = pd.to_datetime(bitcoin_train_df['day'])\n",
        "bitcoin_train_df.info()"
      ],
      "metadata": {
        "colab": {
          "base_uri": "https://localhost:8080/"
        },
        "id": "73AJ0qh56f_1",
        "outputId": "5b666473-aa17-4c37-ceb2-2b0ebb10c76c"
      },
      "execution_count": 8,
      "outputs": [
        {
          "output_type": "stream",
          "name": "stdout",
          "text": [
            "<class 'pandas.core.frame.DataFrame'>\n",
            "RangeIndex: 361 entries, 0 to 360\n",
            "Data columns (total 2 columns):\n",
            " #   Column  Non-Null Count  Dtype         \n",
            "---  ------  --------------  -----         \n",
            " 0   day     361 non-null    datetime64[ns]\n",
            " 1   price   361 non-null    float64       \n",
            "dtypes: datetime64[ns](1), float64(1)\n",
            "memory usage: 5.8 KB\n"
          ]
        },
        {
          "output_type": "stream",
          "name": "stderr",
          "text": [
            "/usr/local/lib/python3.7/dist-packages/ipykernel_launcher.py:1: SettingWithCopyWarning: \n",
            "A value is trying to be set on a copy of a slice from a DataFrame.\n",
            "Try using .loc[row_indexer,col_indexer] = value instead\n",
            "\n",
            "See the caveats in the documentation: https://pandas.pydata.org/pandas-docs/stable/user_guide/indexing.html#returning-a-view-versus-a-copy\n",
            "  \"\"\"Entry point for launching an IPython kernel.\n"
          ]
        }
      ]
    },
    {
      "cell_type": "code",
      "source": [
        "# bitcoin_train_df.set_index('day', inplace=True) #렘에서만 바꾸닌 비파괴 inplace= True 해줘야 비파괴 아님\n",
        "bitcoin_train_df.index = bitcoin_train_df['day'] # 복사\n",
        "bitcoin_train_df.set_index('day', inplace=True)\n",
        "bitcoin_train_df"
      ],
      "metadata": {
        "id": "nAqS9tWp7Cn2",
        "colab": {
          "base_uri": "https://localhost:8080/",
          "height": 455
        },
        "outputId": "fc7bf9d3-15fc-4c70-cf4b-828a76b9bd05"
      },
      "execution_count": 9,
      "outputs": [
        {
          "output_type": "execute_result",
          "data": {
            "text/html": [
              "<div>\n",
              "<style scoped>\n",
              "    .dataframe tbody tr th:only-of-type {\n",
              "        vertical-align: middle;\n",
              "    }\n",
              "\n",
              "    .dataframe tbody tr th {\n",
              "        vertical-align: top;\n",
              "    }\n",
              "\n",
              "    .dataframe thead th {\n",
              "        text-align: right;\n",
              "    }\n",
              "</style>\n",
              "<table border=\"1\" class=\"dataframe\">\n",
              "  <thead>\n",
              "    <tr style=\"text-align: right;\">\n",
              "      <th></th>\n",
              "      <th>price</th>\n",
              "    </tr>\n",
              "    <tr>\n",
              "      <th>day</th>\n",
              "      <th></th>\n",
              "    </tr>\n",
              "  </thead>\n",
              "  <tbody>\n",
              "    <tr>\n",
              "      <th>2020-12-09</th>\n",
              "      <td>18318.87</td>\n",
              "    </tr>\n",
              "    <tr>\n",
              "      <th>2020-12-10</th>\n",
              "      <td>18554.15</td>\n",
              "    </tr>\n",
              "    <tr>\n",
              "      <th>2020-12-11</th>\n",
              "      <td>18247.76</td>\n",
              "    </tr>\n",
              "    <tr>\n",
              "      <th>2020-12-12</th>\n",
              "      <td>18029.36</td>\n",
              "    </tr>\n",
              "    <tr>\n",
              "      <th>2020-12-13</th>\n",
              "      <td>18803.44</td>\n",
              "    </tr>\n",
              "    <tr>\n",
              "      <th>...</th>\n",
              "      <td>...</td>\n",
              "    </tr>\n",
              "    <tr>\n",
              "      <th>2021-11-30</th>\n",
              "      <td>57828.45</td>\n",
              "    </tr>\n",
              "    <tr>\n",
              "      <th>2021-12-01</th>\n",
              "      <td>57025.79</td>\n",
              "    </tr>\n",
              "    <tr>\n",
              "      <th>2021-12-02</th>\n",
              "      <td>57229.76</td>\n",
              "    </tr>\n",
              "    <tr>\n",
              "      <th>2021-12-03</th>\n",
              "      <td>56508.48</td>\n",
              "    </tr>\n",
              "    <tr>\n",
              "      <th>2021-12-04</th>\n",
              "      <td>53713.84</td>\n",
              "    </tr>\n",
              "  </tbody>\n",
              "</table>\n",
              "<p>361 rows × 1 columns</p>\n",
              "</div>"
            ],
            "text/plain": [
              "               price\n",
              "day                 \n",
              "2020-12-09  18318.87\n",
              "2020-12-10  18554.15\n",
              "2020-12-11  18247.76\n",
              "2020-12-12  18029.36\n",
              "2020-12-13  18803.44\n",
              "...              ...\n",
              "2021-11-30  57828.45\n",
              "2021-12-01  57025.79\n",
              "2021-12-02  57229.76\n",
              "2021-12-03  56508.48\n",
              "2021-12-04  53713.84\n",
              "\n",
              "[361 rows x 1 columns]"
            ]
          },
          "metadata": {},
          "execution_count": 9
        }
      ]
    },
    {
      "cell_type": "code",
      "source": [
        "# 시각화\n",
        "bitcoin_train_df.plot()\n",
        "plt.show()"
      ],
      "metadata": {
        "colab": {
          "base_uri": "https://localhost:8080/",
          "height": 294
        },
        "id": "W9SiR_YB7dLf",
        "outputId": "1b9f844a-5daa-4331-f97f-892d74777b91"
      },
      "execution_count": 10,
      "outputs": [
        {
          "output_type": "display_data",
          "data": {
            "image/png": "[encoded data removed]",
            "text/plain": [
              "<Figure size 432x288 with 1 Axes>"
            ]
          },
          "metadata": {
            "needs_background": "light"
          }
        }
      ]
    },
    {
      "cell_type": "markdown",
      "source": [
        "# ARIMA 모델 = AR + I + MA\n",
        "AR + MA모델이었는데 I모델이 추가되었다<br/>\n",
        "AR : AutoRegression, 일반적인 회귀(이전데이터들에서 학습한 내용을 가지고 예측)<br/>\n",
        "MA : Moving Average, (이전데이터들의 학습에서 끝나는 게 아닌, 오차를 반영해서 예측), AR의 응용<br/>\n",
        "I : Difference  , 차이값 부여"
      ],
      "metadata": {
        "id": "_RI35oq173Wc"
      }
    },
    {
      "cell_type": "code",
      "source": [
        "from statsmodels.tsa.arima_model import ARIMA\n",
        "import statsmodels.api as sm"
      ],
      "metadata": {
        "colab": {
          "base_uri": "https://localhost:8080/"
        },
        "id": "o3oD33Ut-GHO",
        "outputId": "55a8f696-52e4-4dc0-8546-e0e159f272f2"
      },
      "execution_count": 11,
      "outputs": [
        {
          "output_type": "stream",
          "name": "stderr",
          "text": [
            "/usr/local/lib/python3.7/dist-packages/statsmodels/tools/_testing.py:19: FutureWarning: pandas.util.testing is deprecated. Use the functions in the public API at pandas.testing instead.\n",
            "  import pandas.util.testing as tm\n"
          ]
        }
      ]
    },
    {
      "cell_type": "markdown",
      "source": [
        "ARIMA(p,d,q)모형은 차수 p,d,q의 값에 따라 다른이름으로 불린다.\n",
        "\n",
        "  : p는 AR모형과 관련이 있음\n",
        "\n",
        "  : q는 MA모형과 관련이 있음\n",
        "\n",
        "\n",
        "  예1) d=0이면, ARMA(p,q)모형이라 부르고 이 모형은 정상성을 만족한다.\n",
        "\n",
        "  예2) p=0이면, IMA(d,q)모형이라 부르고 d번 차분하면 MA(q)모형을 따르게 된다.\n",
        "\n",
        "  예3) q=0이면, ARI(p,d)모형이라 부르며, d번 차분한 시계열이 AR(p)모형을 따르게 된다."
      ],
      "metadata": {
        "id": "7pLOgfjOF2jx"
      }
    },
    {
      "cell_type": "code",
      "source": [
        "# AR -> 회귀\n",
        "# MA -> 변동의 오차(가중치 반영),\n",
        "# 어디까지 오차를 줄 것인가? KNN의 K값과 비슷, 3번째 파라미터 높으면 오버피팅 가능성, 적으면 언더피팅 가능성\n",
        "# (AR = 2, 차분 = 1, MA = 2)로 ARIMA 모델을 학습\n",
        "model = ARIMA(bitcoin_train_df.values, order=(2,1,2)) # order(안에 파라메터는 순서대로 AR ,I ,MA)\n",
        "model"
      ],
      "metadata": {
        "colab": {
          "base_uri": "https://localhost:8080/"
        },
        "id": "EDrnTC0W-J0H",
        "outputId": "138047e9-ca79-420d-e6f7-b265d88e999e"
      },
      "execution_count": 12,
      "outputs": [
        {
          "output_type": "execute_result",
          "data": {
            "text/plain": [
              "<statsmodels.tsa.arima_model.ARIMA at 0x7fe7625de7d0>"
            ]
          },
          "metadata": {},
          "execution_count": 12
        }
      ]
    },
    {
      "cell_type": "code",
      "source": [
        "# full_output : 보고서, True면 다 보여줘\n",
        "# disp(display) : 다 보여주냐?\n",
        "model_fit=model.fit(trend='c', full_output = True, disp =True)\n",
        "model_fit"
      ],
      "metadata": {
        "colab": {
          "base_uri": "https://localhost:8080/"
        },
        "id": "3CoruFjZ-_O0",
        "outputId": "8a5a6582-33c3-4b2d-8def-1e397b47a98e"
      },
      "execution_count": 13,
      "outputs": [
        {
          "output_type": "execute_result",
          "data": {
            "text/plain": [
              "<statsmodels.tsa.arima_model.ARIMAResultsWrapper at 0x7fe7625731d0>"
            ]
          },
          "metadata": {},
          "execution_count": 13
        }
      ]
    },
    {
      "cell_type": "markdown",
      "source": [
        "P>|z| : 계산에서 나온 타당하지 않은 가능성, 반대되는 입장, 0.05보다 작으면 내가 맞았다는 근거(5%)<br/>\n",
        "일반적으로 내가 옳다고 주장하려면 95%는 되야함. 조금 더 많이 우기면 98%(암)<br/>\n",
        "앞으로 보고서를 많이 보게 될텐데 P값을 봐라. 그것을 통해 쓸지 말지 결정<br/>\n",
        "내부적으로 보고서를 가지고 있는 모델이 있음(피쳐 분석). 5% 밑인지 아닌지 자동 계싼"
      ],
      "metadata": {
        "id": "7ZN4i9wlHTX5"
      }
    },
    {
      "cell_type": "code",
      "source": [
        "# P>|z|  P = 가능성 probabiliy, 가장 중요한 값\n",
        "# P값의 0은 내부적으로 문제가없다 ar ,ma를 써도된다는 의미 (0.05의 기준으로)\n",
        "# p값을 보고 써도되는지 안되는지의 판단 유무를 보기떄문에 보고서를볼떄 p값을 보자\n",
        "\n",
        "# ar : ar은 regression한 것\n",
        "# ma : 오차도까지 계산해서 정확도 높임\n",
        "\n",
        "# ar.L1, ar.L2 두 번 함\n",
        "model_fit.summary()"
      ],
      "metadata": {
        "colab": {
          "base_uri": "https://localhost:8080/",
          "height": 416
        },
        "id": "M83KL7Sb-_RZ",
        "outputId": "377c9efb-3cd2-43d5-b238-7b58d56f1487"
      },
      "execution_count": 14,
      "outputs": [
        {
          "output_type": "execute_result",
          "data": {
            "text/html": [
              "<table class=\"simpletable\">\n",
              "<caption>ARIMA Model Results</caption>\n",
              "<tr>\n",
              "  <th>Dep. Variable:</th>        <td>D.y</td>       <th>  No. Observations:  </th>    <td>360</td>   \n",
              "</tr>\n",
              "<tr>\n",
              "  <th>Model:</th>          <td>ARIMA(2, 1, 2)</td>  <th>  Log Likelihood     </th> <td>-3225.913</td>\n",
              "</tr>\n",
              "<tr>\n",
              "  <th>Method:</th>             <td>css-mle</td>     <th>  S.D. of innovations</th> <td>1882.730</td> \n",
              "</tr>\n",
              "<tr>\n",
              "  <th>Date:</th>          <td>Fri, 10 Dec 2021</td> <th>  AIC                </th> <td>6463.825</td> \n",
              "</tr>\n",
              "<tr>\n",
              "  <th>Time:</th>              <td>05:12:51</td>     <th>  BIC                </th> <td>6487.142</td> \n",
              "</tr>\n",
              "<tr>\n",
              "  <th>Sample:</th>                <td>1</td>        <th>  HQIC               </th> <td>6473.096</td> \n",
              "</tr>\n",
              "<tr>\n",
              "  <th></th>                       <td> </td>        <th>                     </th>     <td> </td>    \n",
              "</tr>\n",
              "</table>\n",
              "<table class=\"simpletable\">\n",
              "<tr>\n",
              "      <td></td>         <th>coef</th>     <th>std err</th>      <th>z</th>      <th>P>|z|</th>  <th>[0.025</th>    <th>0.975]</th>  \n",
              "</tr>\n",
              "<tr>\n",
              "  <th>const</th>     <td>   79.7901</td> <td>   99.496</td> <td>    0.802</td> <td> 0.423</td> <td> -115.219</td> <td>  274.799</td>\n",
              "</tr>\n",
              "<tr>\n",
              "  <th>ar.L1.D.y</th> <td>    0.9185</td> <td>    0.040</td> <td>   23.091</td> <td> 0.000</td> <td>    0.841</td> <td>    0.996</td>\n",
              "</tr>\n",
              "<tr>\n",
              "  <th>ar.L2.D.y</th> <td>   -0.9440</td> <td>    0.032</td> <td>  -29.400</td> <td> 0.000</td> <td>   -1.007</td> <td>   -0.881</td>\n",
              "</tr>\n",
              "<tr>\n",
              "  <th>ma.L1.D.y</th> <td>   -0.9573</td> <td>    0.025</td> <td>  -38.376</td> <td> 0.000</td> <td>   -1.006</td> <td>   -0.908</td>\n",
              "</tr>\n",
              "<tr>\n",
              "  <th>ma.L2.D.y</th> <td>    0.9855</td> <td>    0.026</td> <td>   38.263</td> <td> 0.000</td> <td>    0.935</td> <td>    1.036</td>\n",
              "</tr>\n",
              "</table>\n",
              "<table class=\"simpletable\">\n",
              "<caption>Roots</caption>\n",
              "<tr>\n",
              "    <td></td>   <th>            Real</th>  <th>         Imaginary</th> <th>         Modulus</th>  <th>        Frequency</th>\n",
              "</tr>\n",
              "<tr>\n",
              "  <th>AR.1</th> <td>           0.4865</td> <td>          -0.9070j</td> <td>           1.0292</td> <td>          -0.1716</td>\n",
              "</tr>\n",
              "<tr>\n",
              "  <th>AR.2</th> <td>           0.4865</td> <td>          +0.9070j</td> <td>           1.0292</td> <td>           0.1716</td>\n",
              "</tr>\n",
              "<tr>\n",
              "  <th>MA.1</th> <td>           0.4857</td> <td>          -0.8825j</td> <td>           1.0073</td> <td>          -0.1699</td>\n",
              "</tr>\n",
              "<tr>\n",
              "  <th>MA.2</th> <td>           0.4857</td> <td>          +0.8825j</td> <td>           1.0073</td> <td>           0.1699</td>\n",
              "</tr>\n",
              "</table>"
            ],
            "text/plain": [
              "<class 'statsmodels.iolib.summary.Summary'>\n",
              "\"\"\"\n",
              "                             ARIMA Model Results                              \n",
              "==============================================================================\n",
              "Dep. Variable:                    D.y   No. Observations:                  360\n",
              "Model:                 ARIMA(2, 1, 2)   Log Likelihood               -3225.913\n",
              "Method:                       css-mle   S.D. of innovations           1882.730\n",
              "Date:                Fri, 10 Dec 2021   AIC                           6463.825\n",
              "Time:                        05:12:51   BIC                           6487.142\n",
              "Sample:                             1   HQIC                          6473.096\n",
              "                                                                              \n",
              "==============================================================================\n",
              "                 coef    std err          z      P>|z|      [0.025      0.975]\n",
              "------------------------------------------------------------------------------\n",
              "const         79.7901     99.496      0.802      0.423    -115.219     274.799\n",
              "ar.L1.D.y      0.9185      0.040     23.091      0.000       0.841       0.996\n",
              "ar.L2.D.y     -0.9440      0.032    -29.400      0.000      -1.007      -0.881\n",
              "ma.L1.D.y     -0.9573      0.025    -38.376      0.000      -1.006      -0.908\n",
              "ma.L2.D.y      0.9855      0.026     38.263      0.000       0.935       1.036\n",
              "                                    Roots                                    \n",
              "=============================================================================\n",
              "                  Real          Imaginary           Modulus         Frequency\n",
              "-----------------------------------------------------------------------------\n",
              "AR.1            0.4865           -0.9070j            1.0292           -0.1716\n",
              "AR.2            0.4865           +0.9070j            1.0292            0.1716\n",
              "MA.1            0.4857           -0.8825j            1.0073           -0.1699\n",
              "MA.2            0.4857           +0.8825j            1.0073            0.1699\n",
              "-----------------------------------------------------------------------------\n",
              "\"\"\""
            ]
          },
          "metadata": {},
          "execution_count": 14
        }
      ]
    },
    {
      "cell_type": "code",
      "source": [
        "# 파랑 : 예측, 주황 : 실제\n",
        "# 학습 데이터에 대한 예측 결과(공부한 거를 다시 테스트해봄)\n",
        "# 안 맞으면 위로 가서 check\n",
        "# train 데이터니까 잘 맞춤\n",
        "fig = model_fit.plot_predict()"
      ],
      "metadata": {
        "colab": {
          "base_uri": "https://localhost:8080/",
          "height": 269
        },
        "id": "6teienO6-_US",
        "outputId": "c805a08b-2341-4918-f287-f2aab64a6708"
      },
      "execution_count": 15,
      "outputs": [
        {
          "output_type": "display_data",
          "data": {
            "image/png": "[encoded data removed]",
            "text/plain": [
              "<Figure size 432x288 with 1 Axes>"
            ]
          },
          "metadata": {
            "needs_background": "light"
          }
        }
      ]
    },
    {
      "cell_type": "code",
      "source": [
        "# 앞으로 5일치 내려다봄 (steps=5), 예측 시 보통 5일치\n",
        "# 첫번째가 예측값\n",
        "forcast_data = model_fit.forecast(steps =5 )\n",
        "forcast_data"
      ],
      "metadata": {
        "colab": {
          "base_uri": "https://localhost:8080/"
        },
        "id": "XKTGFYoh-_Wz",
        "outputId": "3716538e-a4f4-4f7f-b488-34836b35b266"
      },
      "execution_count": 16,
      "outputs": [
        {
          "output_type": "execute_result",
          "data": {
            "text/plain": [
              "(array([53859.90839342, 53891.33862905, 53864.14563435, 53891.32506776,\n",
              "        54023.78371803]),\n",
              " array([1882.73041766, 2611.43093677, 3183.52110652, 3707.37515166,\n",
              "        4194.6159268 ]),\n",
              " array([[50169.8245822 , 57549.99220464],\n",
              "        [48773.02804487, 59009.64921322],\n",
              "        [47624.55892156, 60103.73234715],\n",
              "        [46625.00329334, 61157.64684219],\n",
              "        [45802.48757252, 62245.07986355]]))"
            ]
          },
          "metadata": {},
          "execution_count": 16
        }
      ]
    },
    {
      "cell_type": "code",
      "source": [
        "bitcoin_test_df = bitcoin_df[361:]\n",
        "bitcoin_test_df"
      ],
      "metadata": {
        "id": "xr-gB44r-_ZP",
        "colab": {
          "base_uri": "https://localhost:8080/",
          "height": 206
        },
        "outputId": "4677b100-c42e-42c4-ba14-183954d77645"
      },
      "execution_count": 17,
      "outputs": [
        {
          "output_type": "execute_result",
          "data": {
            "text/html": [
              "<div>\n",
              "<style scoped>\n",
              "    .dataframe tbody tr th:only-of-type {\n",
              "        vertical-align: middle;\n",
              "    }\n",
              "\n",
              "    .dataframe tbody tr th {\n",
              "        vertical-align: top;\n",
              "    }\n",
              "\n",
              "    .dataframe thead th {\n",
              "        text-align: right;\n",
              "    }\n",
              "</style>\n",
              "<table border=\"1\" class=\"dataframe\">\n",
              "  <thead>\n",
              "    <tr style=\"text-align: right;\">\n",
              "      <th></th>\n",
              "      <th>day</th>\n",
              "      <th>price</th>\n",
              "    </tr>\n",
              "  </thead>\n",
              "  <tbody>\n",
              "    <tr>\n",
              "      <th>361</th>\n",
              "      <td>2021-12-05</td>\n",
              "      <td>49253.86</td>\n",
              "    </tr>\n",
              "    <tr>\n",
              "      <th>362</th>\n",
              "      <td>2021-12-06</td>\n",
              "      <td>49380.43</td>\n",
              "    </tr>\n",
              "    <tr>\n",
              "      <th>363</th>\n",
              "      <td>2021-12-07</td>\n",
              "      <td>50564.63</td>\n",
              "    </tr>\n",
              "    <tr>\n",
              "      <th>364</th>\n",
              "      <td>2021-12-08</td>\n",
              "      <td>50645.41</td>\n",
              "    </tr>\n",
              "    <tr>\n",
              "      <th>365</th>\n",
              "      <td>2021-12-09</td>\n",
              "      <td>50511.12</td>\n",
              "    </tr>\n",
              "  </tbody>\n",
              "</table>\n",
              "</div>"
            ],
            "text/plain": [
              "            day     price\n",
              "361  2021-12-05  49253.86\n",
              "362  2021-12-06  49380.43\n",
              "363  2021-12-07  50564.63\n",
              "364  2021-12-08  50645.41\n",
              "365  2021-12-09  50511.12"
            ]
          },
          "metadata": {},
          "execution_count": 17
        }
      ]
    },
    {
      "cell_type": "code",
      "source": [
        "# 편차가 크다. 기간이 짧음\n",
        "# test데이터 넣으니까 많이 틀림\n",
        "# 49253 - 53859\n",
        "pred_y = forcast_data[0] # 첫번째가 예측값\n",
        "pred_y"
      ],
      "metadata": {
        "colab": {
          "base_uri": "https://localhost:8080/"
        },
        "id": "wsZXzdbEKEKc",
        "outputId": "6f362432-e1d9-482b-c1fd-e2d2bcd25989"
      },
      "execution_count": 18,
      "outputs": [
        {
          "output_type": "execute_result",
          "data": {
            "text/plain": [
              "array([53859.90839342, 53891.33862905, 53864.14563435, 53891.32506776,\n",
              "       54023.78371803])"
            ]
          },
          "metadata": {},
          "execution_count": 18
        }
      ]
    },
    {
      "cell_type": "code",
      "source": [
        "# array를 list로 변환\n",
        "pred_y = pred_y.tolist()"
      ],
      "metadata": {
        "id": "mUF45JZqKTO3"
      },
      "execution_count": 19,
      "outputs": []
    },
    {
      "cell_type": "code",
      "source": [
        "type(pred_y)"
      ],
      "metadata": {
        "colab": {
          "base_uri": "https://localhost:8080/"
        },
        "id": "maWAifJoKj0G",
        "outputId": "b82e53e3-777f-48cb-f6f9-a2b29a759956"
      },
      "execution_count": 20,
      "outputs": [
        {
          "output_type": "execute_result",
          "data": {
            "text/plain": [
              "list"
            ]
          },
          "metadata": {},
          "execution_count": 20
        }
      ]
    },
    {
      "cell_type": "code",
      "source": [
        "# 시리즈\n",
        "bitcoin_test_df.price.head()"
      ],
      "metadata": {
        "colab": {
          "base_uri": "https://localhost:8080/"
        },
        "id": "oGxOkg-bKleI",
        "outputId": "74cb2d96-c953-4264-b300-4b91333ed408"
      },
      "execution_count": 21,
      "outputs": [
        {
          "output_type": "execute_result",
          "data": {
            "text/plain": [
              "361    49253.86\n",
              "362    49380.43\n",
              "363    50564.63\n",
              "364    50645.41\n",
              "365    50511.12\n",
              "Name: price, dtype: float64"
            ]
          },
          "metadata": {},
          "execution_count": 21
        }
      ]
    },
    {
      "cell_type": "code",
      "source": [
        "# 시리즈에서 오른쪽의 값만 가져옴(ndarray)\n",
        "bitcoin_test_df.price.values"
      ],
      "metadata": {
        "colab": {
          "base_uri": "https://localhost:8080/"
        },
        "id": "Ftouvmv_KtRs",
        "outputId": "25ff5658-5213-4ca9-84cd-379f41816fea"
      },
      "execution_count": 22,
      "outputs": [
        {
          "output_type": "execute_result",
          "data": {
            "text/plain": [
              "array([49253.86, 49380.43, 50564.63, 50645.41, 50511.12])"
            ]
          },
          "metadata": {},
          "execution_count": 22
        }
      ]
    },
    {
      "cell_type": "code",
      "source": [
        "test_y = bitcoin_test_df.price.values\n",
        "test_y = test_y.tolist()\n",
        "type(test_y)"
      ],
      "metadata": {
        "colab": {
          "base_uri": "https://localhost:8080/"
        },
        "id": "XS6R-7daKzcC",
        "outputId": "75627ded-94ea-4775-ddcd-df675f6d3a2d"
      },
      "execution_count": 23,
      "outputs": [
        {
          "output_type": "execute_result",
          "data": {
            "text/plain": [
              "list"
            ]
          },
          "metadata": {},
          "execution_count": 23
        }
      ]
    },
    {
      "cell_type": "code",
      "source": [
        "# 실제 : 그린, 예측 : 골드,\n",
        "# 차이가 크다\n",
        "plt.plot(pred_y, color = 'gold')\n",
        "plt.plot(test_y, color = 'green')"
      ],
      "metadata": {
        "colab": {
          "base_uri": "https://localhost:8080/",
          "height": 283
        },
        "id": "Djb9npDoLUbH",
        "outputId": "417d8838-e564-4a95-8e9b-a56ee93de911"
      },
      "execution_count": 24,
      "outputs": [
        {
          "output_type": "execute_result",
          "data": {
            "text/plain": [
              "[<matplotlib.lines.Line2D at 0x7fe757c74510>]"
            ]
          },
          "metadata": {},
          "execution_count": 24
        },
        {
          "output_type": "display_data",
          "data": {
            "image/png": "[encoded data removed]",
            "text/plain": [
              "<Figure size 432x288 with 1 Axes>"
            ]
          },
          "metadata": {
            "needs_background": "light"
          }
        }
      ]
    },
    {
      "cell_type": "code",
      "source": [
        "# 하나당 2개가 들어있다. [최저예측, 최고예측]\n",
        "# 최저[0], 최고[1] => 그래프로 !\n",
        "# 2. dataset의 양을 3년 이상으로 늘려보자.!\n",
        "forcast_data[2]"
      ],
      "metadata": {
        "colab": {
          "base_uri": "https://localhost:8080/"
        },
        "id": "h34hzigfL8P3",
        "outputId": "43f1547d-0989-4966-c6ba-3e87e7451514"
      },
      "execution_count": 25,
      "outputs": [
        {
          "output_type": "execute_result",
          "data": {
            "text/plain": [
              "array([[50169.8245822 , 57549.99220464],\n",
              "       [48773.02804487, 59009.64921322],\n",
              "       [47624.55892156, 60103.73234715],\n",
              "       [46625.00329334, 61157.64684219],\n",
              "       [45802.48757252, 62245.07986355]])"
            ]
          },
          "metadata": {},
          "execution_count": 25
        }
      ]
    },
    {
      "cell_type": "markdown",
      "source": [
        "# 비트코인 3년치 예측"
      ],
      "metadata": {
        "id": "6UYUhQ6kNhq_"
      }
    },
    {
      "cell_type": "code",
      "source": [
        "bitcoin_df = pd.read_csv('/gdrive/MyDrive/ssac_bigdata/data/bitcoin_price_3y.csv', names = ['day', 'price'])\n",
        "bitcoin_df.tail()"
      ],
      "metadata": {
        "colab": {
          "base_uri": "https://localhost:8080/",
          "height": 206
        },
        "id": "aZvtYGVANkVt",
        "outputId": "5fbc9eb7-ff90-4f8b-cd07-523673c18355"
      },
      "execution_count": 26,
      "outputs": [
        {
          "output_type": "execute_result",
          "data": {
            "text/html": [
              "<div>\n",
              "<style scoped>\n",
              "    .dataframe tbody tr th:only-of-type {\n",
              "        vertical-align: middle;\n",
              "    }\n",
              "\n",
              "    .dataframe tbody tr th {\n",
              "        vertical-align: top;\n",
              "    }\n",
              "\n",
              "    .dataframe thead th {\n",
              "        text-align: right;\n",
              "    }\n",
              "</style>\n",
              "<table border=\"1\" class=\"dataframe\">\n",
              "  <thead>\n",
              "    <tr style=\"text-align: right;\">\n",
              "      <th></th>\n",
              "      <th>day</th>\n",
              "      <th>price</th>\n",
              "    </tr>\n",
              "  </thead>\n",
              "  <tbody>\n",
              "    <tr>\n",
              "      <th>1091</th>\n",
              "      <td>2021. 12. 6</td>\n",
              "      <td>49380.43</td>\n",
              "    </tr>\n",
              "    <tr>\n",
              "      <th>1092</th>\n",
              "      <td>2021. 12. 7</td>\n",
              "      <td>50564.63</td>\n",
              "    </tr>\n",
              "    <tr>\n",
              "      <th>1093</th>\n",
              "      <td>2021. 12. 8</td>\n",
              "      <td>50645.41</td>\n",
              "    </tr>\n",
              "    <tr>\n",
              "      <th>1094</th>\n",
              "      <td>2021. 12. 9</td>\n",
              "      <td>50511.12</td>\n",
              "    </tr>\n",
              "    <tr>\n",
              "      <th>1095</th>\n",
              "      <td>2021. 12. 10</td>\n",
              "      <td>47659.68</td>\n",
              "    </tr>\n",
              "  </tbody>\n",
              "</table>\n",
              "</div>"
            ],
            "text/plain": [
              "               day     price\n",
              "1091   2021. 12. 6  49380.43\n",
              "1092   2021. 12. 7  50564.63\n",
              "1093   2021. 12. 8  50645.41\n",
              "1094   2021. 12. 9  50511.12\n",
              "1095  2021. 12. 10  47659.68"
            ]
          },
          "metadata": {},
          "execution_count": 26
        }
      ]
    },
    {
      "cell_type": "code",
      "source": [
        "# 맨 뒤의 5일치 미리 빼둠\n",
        "bitcoin_train_df = bitcoin_df.iloc[:1091]\n",
        "bitcoin_train_df.tail()"
      ],
      "metadata": {
        "colab": {
          "base_uri": "https://localhost:8080/",
          "height": 206
        },
        "id": "aJ_GNtAGN3VO",
        "outputId": "795b252d-0e36-4ea5-af0a-131934ea5d00"
      },
      "execution_count": 27,
      "outputs": [
        {
          "output_type": "execute_result",
          "data": {
            "text/html": [
              "<div>\n",
              "<style scoped>\n",
              "    .dataframe tbody tr th:only-of-type {\n",
              "        vertical-align: middle;\n",
              "    }\n",
              "\n",
              "    .dataframe tbody tr th {\n",
              "        vertical-align: top;\n",
              "    }\n",
              "\n",
              "    .dataframe thead th {\n",
              "        text-align: right;\n",
              "    }\n",
              "</style>\n",
              "<table border=\"1\" class=\"dataframe\">\n",
              "  <thead>\n",
              "    <tr style=\"text-align: right;\">\n",
              "      <th></th>\n",
              "      <th>day</th>\n",
              "      <th>price</th>\n",
              "    </tr>\n",
              "  </thead>\n",
              "  <tbody>\n",
              "    <tr>\n",
              "      <th>1086</th>\n",
              "      <td>2021. 12. 1</td>\n",
              "      <td>57025.79</td>\n",
              "    </tr>\n",
              "    <tr>\n",
              "      <th>1087</th>\n",
              "      <td>2021. 12. 2</td>\n",
              "      <td>57229.76</td>\n",
              "    </tr>\n",
              "    <tr>\n",
              "      <th>1088</th>\n",
              "      <td>2021. 12. 3</td>\n",
              "      <td>56508.48</td>\n",
              "    </tr>\n",
              "    <tr>\n",
              "      <th>1089</th>\n",
              "      <td>2021. 12. 4</td>\n",
              "      <td>53713.84</td>\n",
              "    </tr>\n",
              "    <tr>\n",
              "      <th>1090</th>\n",
              "      <td>2021. 12. 5</td>\n",
              "      <td>49253.86</td>\n",
              "    </tr>\n",
              "  </tbody>\n",
              "</table>\n",
              "</div>"
            ],
            "text/plain": [
              "              day     price\n",
              "1086  2021. 12. 1  57025.79\n",
              "1087  2021. 12. 2  57229.76\n",
              "1088  2021. 12. 3  56508.48\n",
              "1089  2021. 12. 4  53713.84\n",
              "1090  2021. 12. 5  49253.86"
            ]
          },
          "metadata": {},
          "execution_count": 27
        }
      ]
    },
    {
      "cell_type": "code",
      "source": [
        "bitcoin_train_df.info()"
      ],
      "metadata": {
        "colab": {
          "base_uri": "https://localhost:8080/"
        },
        "id": "lG_fwlHvN_xI",
        "outputId": "c3d23944-de56-4f8b-867e-c3f6dafca65f"
      },
      "execution_count": 28,
      "outputs": [
        {
          "output_type": "stream",
          "name": "stdout",
          "text": [
            "<class 'pandas.core.frame.DataFrame'>\n",
            "RangeIndex: 1091 entries, 0 to 1090\n",
            "Data columns (total 2 columns):\n",
            " #   Column  Non-Null Count  Dtype  \n",
            "---  ------  --------------  -----  \n",
            " 0   day     1091 non-null   object \n",
            " 1   price   1091 non-null   float64\n",
            "dtypes: float64(1), object(1)\n",
            "memory usage: 17.2+ KB\n"
          ]
        }
      ]
    },
    {
      "cell_type": "code",
      "source": [
        "bitcoin_train_df['day'] = pd.to_datetime(bitcoin_train_df['day'])\n",
        "bitcoin_train_df.info()"
      ],
      "metadata": {
        "colab": {
          "base_uri": "https://localhost:8080/"
        },
        "id": "AzHJK2cROD7u",
        "outputId": "c1ab8cec-02eb-4868-9fba-1a3f186ea80e"
      },
      "execution_count": 29,
      "outputs": [
        {
          "output_type": "stream",
          "name": "stdout",
          "text": [
            "<class 'pandas.core.frame.DataFrame'>\n",
            "RangeIndex: 1091 entries, 0 to 1090\n",
            "Data columns (total 2 columns):\n",
            " #   Column  Non-Null Count  Dtype         \n",
            "---  ------  --------------  -----         \n",
            " 0   day     1091 non-null   datetime64[ns]\n",
            " 1   price   1091 non-null   float64       \n",
            "dtypes: datetime64[ns](1), float64(1)\n",
            "memory usage: 17.2 KB\n"
          ]
        },
        {
          "output_type": "stream",
          "name": "stderr",
          "text": [
            "/usr/local/lib/python3.7/dist-packages/ipykernel_launcher.py:1: SettingWithCopyWarning: \n",
            "A value is trying to be set on a copy of a slice from a DataFrame.\n",
            "Try using .loc[row_indexer,col_indexer] = value instead\n",
            "\n",
            "See the caveats in the documentation: https://pandas.pydata.org/pandas-docs/stable/user_guide/indexing.html#returning-a-view-versus-a-copy\n",
            "  \"\"\"Entry point for launching an IPython kernel.\n"
          ]
        }
      ]
    },
    {
      "cell_type": "code",
      "source": [
        "# bitcoin_train_df.set_index('day', inplace=True) #렘에서만 바꾸닌 비파괴 inplace= True 해줘야 비파괴 아님\n",
        "bitcoin_train_df.index = bitcoin_train_df['day'] # 복사\n",
        "bitcoin_train_df.set_index('day', inplace=True)\n",
        "bitcoin_train_df"
      ],
      "metadata": {
        "colab": {
          "base_uri": "https://localhost:8080/",
          "height": 455
        },
        "id": "7nZ1FKakOFi-",
        "outputId": "cec29218-1403-40a8-def2-f5907f104a53"
      },
      "execution_count": 30,
      "outputs": [
        {
          "output_type": "execute_result",
          "data": {
            "text/html": [
              "<div>\n",
              "<style scoped>\n",
              "    .dataframe tbody tr th:only-of-type {\n",
              "        vertical-align: middle;\n",
              "    }\n",
              "\n",
              "    .dataframe tbody tr th {\n",
              "        vertical-align: top;\n",
              "    }\n",
              "\n",
              "    .dataframe thead th {\n",
              "        text-align: right;\n",
              "    }\n",
              "</style>\n",
              "<table border=\"1\" class=\"dataframe\">\n",
              "  <thead>\n",
              "    <tr style=\"text-align: right;\">\n",
              "      <th></th>\n",
              "      <th>price</th>\n",
              "    </tr>\n",
              "    <tr>\n",
              "      <th>day</th>\n",
              "      <th></th>\n",
              "    </tr>\n",
              "  </thead>\n",
              "  <tbody>\n",
              "    <tr>\n",
              "      <th>2018-12-11</th>\n",
              "      <td>3472.98</td>\n",
              "    </tr>\n",
              "    <tr>\n",
              "      <th>2018-12-12</th>\n",
              "      <td>3407.28</td>\n",
              "    </tr>\n",
              "    <tr>\n",
              "      <th>2018-12-13</th>\n",
              "      <td>3487.73</td>\n",
              "    </tr>\n",
              "    <tr>\n",
              "      <th>2018-12-14</th>\n",
              "      <td>3308.11</td>\n",
              "    </tr>\n",
              "    <tr>\n",
              "      <th>2018-12-15</th>\n",
              "      <td>3242.42</td>\n",
              "    </tr>\n",
              "    <tr>\n",
              "      <th>...</th>\n",
              "      <td>...</td>\n",
              "    </tr>\n",
              "    <tr>\n",
              "      <th>2021-12-01</th>\n",
              "      <td>57025.79</td>\n",
              "    </tr>\n",
              "    <tr>\n",
              "      <th>2021-12-02</th>\n",
              "      <td>57229.76</td>\n",
              "    </tr>\n",
              "    <tr>\n",
              "      <th>2021-12-03</th>\n",
              "      <td>56508.48</td>\n",
              "    </tr>\n",
              "    <tr>\n",
              "      <th>2021-12-04</th>\n",
              "      <td>53713.84</td>\n",
              "    </tr>\n",
              "    <tr>\n",
              "      <th>2021-12-05</th>\n",
              "      <td>49253.86</td>\n",
              "    </tr>\n",
              "  </tbody>\n",
              "</table>\n",
              "<p>1091 rows × 1 columns</p>\n",
              "</div>"
            ],
            "text/plain": [
              "               price\n",
              "day                 \n",
              "2018-12-11   3472.98\n",
              "2018-12-12   3407.28\n",
              "2018-12-13   3487.73\n",
              "2018-12-14   3308.11\n",
              "2018-12-15   3242.42\n",
              "...              ...\n",
              "2021-12-01  57025.79\n",
              "2021-12-02  57229.76\n",
              "2021-12-03  56508.48\n",
              "2021-12-04  53713.84\n",
              "2021-12-05  49253.86\n",
              "\n",
              "[1091 rows x 1 columns]"
            ]
          },
          "metadata": {},
          "execution_count": 30
        }
      ]
    },
    {
      "cell_type": "code",
      "source": [
        "# 시각화\n",
        "bitcoin_train_df.plot()\n",
        "plt.show()"
      ],
      "metadata": {
        "colab": {
          "base_uri": "https://localhost:8080/",
          "height": 292
        },
        "id": "BYRd52ESOJCi",
        "outputId": "aaafa5d3-67cd-4185-862a-7cde9a3e9841"
      },
      "execution_count": 31,
      "outputs": [
        {
          "output_type": "display_data",
          "data": {
            "image/png": "[encoded data removed]",
            "text/plain": [
              "<Figure size 432x288 with 1 Axes>"
            ]
          },
          "metadata": {
            "needs_background": "light"
          }
        }
      ]
    },
    {
      "cell_type": "code",
      "source": [
        "model = ARIMA(bitcoin_train_df.values, order=(2,1,2)) # order(안에 파라메터는 순서대로 AR ,I ,MA)\n",
        "model"
      ],
      "metadata": {
        "colab": {
          "base_uri": "https://localhost:8080/"
        },
        "id": "RQk65HHAOUwl",
        "outputId": "3ec0f63a-996d-45b3-de70-284334bd019f"
      },
      "execution_count": 32,
      "outputs": [
        {
          "output_type": "execute_result",
          "data": {
            "text/plain": [
              "<statsmodels.tsa.arima_model.ARIMA at 0x7fe757b48350>"
            ]
          },
          "metadata": {},
          "execution_count": 32
        }
      ]
    },
    {
      "cell_type": "code",
      "source": [
        "model_fit=model.fit(trend='c', full_output = True, disp =True)\n",
        "model_fit"
      ],
      "metadata": {
        "colab": {
          "base_uri": "https://localhost:8080/"
        },
        "id": "jNeMnX2JOWGo",
        "outputId": "04de9054-20ef-4a0a-ba97-77eca16e063f"
      },
      "execution_count": 33,
      "outputs": [
        {
          "output_type": "stream",
          "name": "stderr",
          "text": [
            "/usr/local/lib/python3.7/dist-packages/statsmodels/base/model.py:492: HessianInversionWarning: Inverting hessian failed, no bse or cov_params available\n",
            "  'available', HessianInversionWarning)\n"
          ]
        },
        {
          "output_type": "execute_result",
          "data": {
            "text/plain": [
              "<statsmodels.tsa.arima_model.ARIMAResultsWrapper at 0x7fe757b48890>"
            ]
          },
          "metadata": {},
          "execution_count": 33
        }
      ]
    },
    {
      "cell_type": "code",
      "source": [
        "model_fit.summary()"
      ],
      "metadata": {
        "colab": {
          "base_uri": "https://localhost:8080/",
          "height": 453
        },
        "id": "TSoBhnppObtV",
        "outputId": "609f2bed-4f4f-4fa7-cdc6-f1523e37bdaa"
      },
      "execution_count": 34,
      "outputs": [
        {
          "output_type": "stream",
          "name": "stderr",
          "text": [
            "/usr/local/lib/python3.7/dist-packages/statsmodels/tsa/arima_model.py:1441: RuntimeWarning: invalid value encountered in sqrt\n",
            "  return np.sqrt(np.diag(-inv(hess)))\n"
          ]
        },
        {
          "output_type": "execute_result",
          "data": {
            "text/html": [
              "<table class=\"simpletable\">\n",
              "<caption>ARIMA Model Results</caption>\n",
              "<tr>\n",
              "  <th>Dep. Variable:</th>        <td>D.y</td>       <th>  No. Observations:  </th>   <td>1090</td>   \n",
              "</tr>\n",
              "<tr>\n",
              "  <th>Model:</th>          <td>ARIMA(2, 1, 2)</td>  <th>  Log Likelihood     </th> <td>-9209.892</td>\n",
              "</tr>\n",
              "<tr>\n",
              "  <th>Method:</th>             <td>css-mle</td>     <th>  S.D. of innovations</th> <td>1128.035</td> \n",
              "</tr>\n",
              "<tr>\n",
              "  <th>Date:</th>          <td>Fri, 10 Dec 2021</td> <th>  AIC                </th> <td>18431.785</td>\n",
              "</tr>\n",
              "<tr>\n",
              "  <th>Time:</th>              <td>05:12:53</td>     <th>  BIC                </th> <td>18461.748</td>\n",
              "</tr>\n",
              "<tr>\n",
              "  <th>Sample:</th>                <td>1</td>        <th>  HQIC               </th> <td>18443.125</td>\n",
              "</tr>\n",
              "<tr>\n",
              "  <th></th>                       <td> </td>        <th>                     </th>     <td> </td>    \n",
              "</tr>\n",
              "</table>\n",
              "<table class=\"simpletable\">\n",
              "<tr>\n",
              "      <td></td>         <th>coef</th>     <th>std err</th>      <th>z</th>      <th>P>|z|</th>  <th>[0.025</th>    <th>0.975]</th>  \n",
              "</tr>\n",
              "<tr>\n",
              "  <th>const</th>     <td>   41.9973</td> <td>   33.988</td> <td>    1.236</td> <td> 0.217</td> <td>  -24.618</td> <td>  108.613</td>\n",
              "</tr>\n",
              "<tr>\n",
              "  <th>ar.L1.D.y</th> <td>    0.8432</td> <td>    0.007</td> <td>  122.676</td> <td> 0.000</td> <td>    0.830</td> <td>    0.857</td>\n",
              "</tr>\n",
              "<tr>\n",
              "  <th>ar.L2.D.y</th> <td>   -0.9790</td> <td>    0.008</td> <td> -116.250</td> <td> 0.000</td> <td>   -0.995</td> <td>   -0.962</td>\n",
              "</tr>\n",
              "<tr>\n",
              "  <th>ma.L1.D.y</th> <td>   -0.8702</td> <td>    0.004</td> <td> -231.484</td> <td> 0.000</td> <td>   -0.878</td> <td>   -0.863</td>\n",
              "</tr>\n",
              "<tr>\n",
              "  <th>ma.L2.D.y</th> <td>    1.0000</td> <td>      nan</td> <td>      nan</td> <td>   nan</td> <td>      nan</td> <td>      nan</td>\n",
              "</tr>\n",
              "</table>\n",
              "<table class=\"simpletable\">\n",
              "<caption>Roots</caption>\n",
              "<tr>\n",
              "    <td></td>   <th>            Real</th>  <th>         Imaginary</th> <th>         Modulus</th>  <th>        Frequency</th>\n",
              "</tr>\n",
              "<tr>\n",
              "  <th>AR.1</th> <td>           0.4306</td> <td>          -0.9144j</td> <td>           1.0107</td> <td>          -0.1799</td>\n",
              "</tr>\n",
              "<tr>\n",
              "  <th>AR.2</th> <td>           0.4306</td> <td>          +0.9144j</td> <td>           1.0107</td> <td>           0.1799</td>\n",
              "</tr>\n",
              "<tr>\n",
              "  <th>MA.1</th> <td>           0.4351</td> <td>          -0.9004j</td> <td>           1.0000</td> <td>          -0.1784</td>\n",
              "</tr>\n",
              "<tr>\n",
              "  <th>MA.2</th> <td>           0.4351</td> <td>          +0.9004j</td> <td>           1.0000</td> <td>           0.1784</td>\n",
              "</tr>\n",
              "</table>"
            ],
            "text/plain": [
              "<class 'statsmodels.iolib.summary.Summary'>\n",
              "\"\"\"\n",
              "                             ARIMA Model Results                              \n",
              "==============================================================================\n",
              "Dep. Variable:                    D.y   No. Observations:                 1090\n",
              "Model:                 ARIMA(2, 1, 2)   Log Likelihood               -9209.892\n",
              "Method:                       css-mle   S.D. of innovations           1128.035\n",
              "Date:                Fri, 10 Dec 2021   AIC                          18431.785\n",
              "Time:                        05:12:53   BIC                          18461.748\n",
              "Sample:                             1   HQIC                         18443.125\n",
              "                                                                              \n",
              "==============================================================================\n",
              "                 coef    std err          z      P>|z|      [0.025      0.975]\n",
              "------------------------------------------------------------------------------\n",
              "const         41.9973     33.988      1.236      0.217     -24.618     108.613\n",
              "ar.L1.D.y      0.8432      0.007    122.676      0.000       0.830       0.857\n",
              "ar.L2.D.y     -0.9790      0.008   -116.250      0.000      -0.995      -0.962\n",
              "ma.L1.D.y     -0.8702      0.004   -231.484      0.000      -0.878      -0.863\n",
              "ma.L2.D.y      1.0000        nan        nan        nan         nan         nan\n",
              "                                    Roots                                    \n",
              "=============================================================================\n",
              "                  Real          Imaginary           Modulus         Frequency\n",
              "-----------------------------------------------------------------------------\n",
              "AR.1            0.4306           -0.9144j            1.0107           -0.1799\n",
              "AR.2            0.4306           +0.9144j            1.0107            0.1799\n",
              "MA.1            0.4351           -0.9004j            1.0000           -0.1784\n",
              "MA.2            0.4351           +0.9004j            1.0000            0.1784\n",
              "-----------------------------------------------------------------------------\n",
              "\"\"\""
            ]
          },
          "metadata": {},
          "execution_count": 34
        }
      ]
    },
    {
      "cell_type": "code",
      "source": [
        "# 파랑 : 예측, 주황 : 실제\n",
        "# train 데이터니까 잘 맞춤\n",
        "fig = model_fit.plot_predict()"
      ],
      "metadata": {
        "colab": {
          "base_uri": "https://localhost:8080/",
          "height": 266
        },
        "id": "jk1QgRoDOiIF",
        "outputId": "961d7731-5831-45a6-b778-b9e017043d7f"
      },
      "execution_count": 35,
      "outputs": [
        {
          "output_type": "display_data",
          "data": {
            "image/png": "[encoded data removed]",
            "text/plain": [
              "<Figure size 432x288 with 1 Axes>"
            ]
          },
          "metadata": {
            "needs_background": "light"
          }
        }
      ]
    },
    {
      "cell_type": "code",
      "source": [
        "# 앞으로 5일치 내려다봄 (steps=5), 예측 시 보통 5일치\n",
        "# 첫번째가 예측값\n",
        "forcast_data = model_fit.forecast(steps =5 )\n",
        "forcast_data"
      ],
      "metadata": {
        "colab": {
          "base_uri": "https://localhost:8080/"
        },
        "id": "HE8YibESOpCE",
        "outputId": "105c2a8b-adf8-4f3b-9b57-7652c837ce6a"
      },
      "execution_count": 36,
      "outputs": [
        {
          "output_type": "execute_result",
          "data": {
            "text/plain": [
              "(array([49351.46028791, 49108.68415616, 48856.14015305, 48928.57238123,\n",
              "        49284.5727998 ]),\n",
              " array([1128.03543391, 1573.88478024, 1917.67828481, 2222.7064436 ,\n",
              "        2502.34267867]),\n",
              " array([[47140.55146417, 51562.36911165],\n",
              "        [46023.92667108, 52193.44164124],\n",
              "        [45097.55978089, 52614.72052522],\n",
              "        [44572.14780357, 53284.99695888],\n",
              "        [44380.07127263, 54189.07432697]]))"
            ]
          },
          "metadata": {},
          "execution_count": 36
        }
      ]
    },
    {
      "cell_type": "code",
      "source": [
        "bitcoin_test_df = bitcoin_df[1091:]\n",
        "bitcoin_test_df"
      ],
      "metadata": {
        "colab": {
          "base_uri": "https://localhost:8080/",
          "height": 206
        },
        "id": "BioxRvPZOsbm",
        "outputId": "68fc0eea-16fe-4384-f226-a619880ebb3f"
      },
      "execution_count": 37,
      "outputs": [
        {
          "output_type": "execute_result",
          "data": {
            "text/html": [
              "<div>\n",
              "<style scoped>\n",
              "    .dataframe tbody tr th:only-of-type {\n",
              "        vertical-align: middle;\n",
              "    }\n",
              "\n",
              "    .dataframe tbody tr th {\n",
              "        vertical-align: top;\n",
              "    }\n",
              "\n",
              "    .dataframe thead th {\n",
              "        text-align: right;\n",
              "    }\n",
              "</style>\n",
              "<table border=\"1\" class=\"dataframe\">\n",
              "  <thead>\n",
              "    <tr style=\"text-align: right;\">\n",
              "      <th></th>\n",
              "      <th>day</th>\n",
              "      <th>price</th>\n",
              "    </tr>\n",
              "  </thead>\n",
              "  <tbody>\n",
              "    <tr>\n",
              "      <th>1091</th>\n",
              "      <td>2021. 12. 6</td>\n",
              "      <td>49380.43</td>\n",
              "    </tr>\n",
              "    <tr>\n",
              "      <th>1092</th>\n",
              "      <td>2021. 12. 7</td>\n",
              "      <td>50564.63</td>\n",
              "    </tr>\n",
              "    <tr>\n",
              "      <th>1093</th>\n",
              "      <td>2021. 12. 8</td>\n",
              "      <td>50645.41</td>\n",
              "    </tr>\n",
              "    <tr>\n",
              "      <th>1094</th>\n",
              "      <td>2021. 12. 9</td>\n",
              "      <td>50511.12</td>\n",
              "    </tr>\n",
              "    <tr>\n",
              "      <th>1095</th>\n",
              "      <td>2021. 12. 10</td>\n",
              "      <td>47659.68</td>\n",
              "    </tr>\n",
              "  </tbody>\n",
              "</table>\n",
              "</div>"
            ],
            "text/plain": [
              "               day     price\n",
              "1091   2021. 12. 6  49380.43\n",
              "1092   2021. 12. 7  50564.63\n",
              "1093   2021. 12. 8  50645.41\n",
              "1094   2021. 12. 9  50511.12\n",
              "1095  2021. 12. 10  47659.68"
            ]
          },
          "metadata": {},
          "execution_count": 37
        }
      ]
    },
    {
      "cell_type": "code",
      "source": [
        "pred_y = forcast_data[0] # 첫번째가 예측값\n",
        "pred_y"
      ],
      "metadata": {
        "colab": {
          "base_uri": "https://localhost:8080/"
        },
        "id": "gIVOLV99OwxY",
        "outputId": "e7d098a9-6c32-446d-cde3-7624f5ef37ae"
      },
      "execution_count": 38,
      "outputs": [
        {
          "output_type": "execute_result",
          "data": {
            "text/plain": [
              "array([49351.46028791, 49108.68415616, 48856.14015305, 48928.57238123,\n",
              "       49284.5727998 ])"
            ]
          },
          "metadata": {},
          "execution_count": 38
        }
      ]
    },
    {
      "cell_type": "code",
      "source": [
        "# 예측값 시각화를 위한 리스트화\n",
        "pred_y = pred_y.tolist()\n",
        "type(pred_y)"
      ],
      "metadata": {
        "colab": {
          "base_uri": "https://localhost:8080/"
        },
        "id": "rnxpX11YO__e",
        "outputId": "b06007f6-786d-438f-ab6b-7bcc189d14e0"
      },
      "execution_count": 39,
      "outputs": [
        {
          "output_type": "execute_result",
          "data": {
            "text/plain": [
              "list"
            ]
          },
          "metadata": {},
          "execution_count": 39
        }
      ]
    },
    {
      "cell_type": "code",
      "source": [
        "# 정답값 리스트화\n",
        "test_y = bitcoin_test_df.price.values\n",
        "test_y = test_y.tolist()\n",
        "type(test_y)"
      ],
      "metadata": {
        "colab": {
          "base_uri": "https://localhost:8080/"
        },
        "id": "qcgx8F4uPHf7",
        "outputId": "6564eeb6-5096-4dbe-d35c-e2bfb23a0b7b"
      },
      "execution_count": 40,
      "outputs": [
        {
          "output_type": "execute_result",
          "data": {
            "text/plain": [
              "list"
            ]
          },
          "metadata": {},
          "execution_count": 40
        }
      ]
    },
    {
      "cell_type": "code",
      "source": [
        "# 실제 : 그린, 예측 : 골드,\n",
        "# 차이가 크다\n",
        "plt.plot(pred_y, color = 'gold')\n",
        "plt.plot(test_y, color = 'green')"
      ],
      "metadata": {
        "colab": {
          "base_uri": "https://localhost:8080/",
          "height": 283
        },
        "id": "CfPdVAbEPdoi",
        "outputId": "4c2ead26-178b-4af1-a49c-36df4977e4dc"
      },
      "execution_count": 41,
      "outputs": [
        {
          "output_type": "execute_result",
          "data": {
            "text/plain": [
              "[<matplotlib.lines.Line2D at 0x7fe757bc9650>]"
            ]
          },
          "metadata": {},
          "execution_count": 41
        },
        {
          "output_type": "display_data",
          "data": {
            "image/png": "[encoded data removed]",
            "text/plain": [
              "<Figure size 432x288 with 1 Axes>"
            ]
          },
          "metadata": {
            "needs_background": "light"
          }
        }
      ]
    },
    {
      "cell_type": "code",
      "source": [
        "# 하나당 2개가 들어있다. [최저예측, 최고예측]\n",
        "# 최저[0], 최고[1] => 그래프로 !\n",
        "# 2. dataset의 양을 3년 이상으로 늘려보자.!\n",
        "forcast_data[2] # 0과 1이 들어있다."
      ],
      "metadata": {
        "colab": {
          "base_uri": "https://localhost:8080/"
        },
        "id": "KivXqZyRPkdr",
        "outputId": "fe666d56-5ca5-470b-df60-0fce87d15e7a"
      },
      "execution_count": 42,
      "outputs": [
        {
          "output_type": "execute_result",
          "data": {
            "text/plain": [
              "array([[47140.55146417, 51562.36911165],\n",
              "       [46023.92667108, 52193.44164124],\n",
              "       [45097.55978089, 52614.72052522],\n",
              "       [44572.14780357, 53284.99695888],\n",
              "       [44380.07127263, 54189.07432697]])"
            ]
          },
          "metadata": {},
          "execution_count": 42
        }
      ]
    },
    {
      "cell_type": "code",
      "source": [
        "# 마지막 5일의 예측 최소값\n",
        "pred_y_lower = []\n",
        "# 마지막 5일의 예측 최대값\n",
        "pred_y_upper = []\n",
        "\n",
        "for i in forcast_data[2]:\n",
        "    pred_y_lower.append(i[0])\n",
        "    pred_y_upper.append(i[1])"
      ],
      "metadata": {
        "id": "l3KefbtSXk9x"
      },
      "execution_count": 43,
      "outputs": []
    },
    {
      "cell_type": "code",
      "source": [
        "# 최저예측 최고예측까지 그리기"
      ],
      "metadata": {
        "id": "rma6y1o-XV4_"
      },
      "execution_count": 44,
      "outputs": []
    },
    {
      "cell_type": "code",
      "source": [
        "day = bitcoin_test_df.day.values\n",
        "\n",
        "plt.xlabel('날짜')\n",
        "plt.ylabel('가격')\n",
        "plt.plot(day, pred_y)\n",
        "plt.plot(day, test_y)\n",
        "plt.plot(day, pred_y_lower)\n",
        "plt.plot(day, pred_y_upper)\n",
        "plt.legend(['예측값','실제값','최소 예측값','최대 예측값'])\n",
        "plt.xticks(rotation=-45)\n",
        "plt.show()"
      ],
      "metadata": {
        "colab": {
          "base_uri": "https://localhost:8080/",
          "height": 317
        },
        "id": "WsFbgiFVP9f5",
        "outputId": "902c5957-b3e0-4c3e-db31-d01d29be35cc"
      },
      "execution_count": 45,
      "outputs": [
        {
          "output_type": "display_data",
          "data": {
            "image/png": "[encoded data removed]",
            "text/plain": [
              "<Figure size 432x288 with 1 Axes>"
            ]
          },
          "metadata": {
            "needs_background": "light"
          }
        }
      ]
    },
    {
      "cell_type": "markdown",
      "source": [
        "# Additive 모델 = ARIMA + 기간의 trend(경향성) : 페이스북이 만듦"
      ],
      "metadata": {
        "id": "bPCgKq6K99TA"
      }
    },
    {
      "cell_type": "code",
      "source": [
        "from fbprophet import Prophet\n",
        "# Prophet 예언\n",
        "# DF 이름 신경쓰기\n",
        "# day, price가 아닌 ds와 y로 넣어줘야함\n",
        "# 경향성(년도, 요일, 계절)을 같이 봐서 hit률도 높다"
      ],
      "metadata": {
        "id": "OzV8idHsGLnL"
      },
      "execution_count": 46,
      "outputs": []
    },
    {
      "cell_type": "markdown",
      "source": [
        "1) 데이터를 Prophet에 맞도록 가공\n",
        "필요한 컬럼은 ds, y 2개!(컬럼 이름을 맞춰야함)"
      ],
      "metadata": {
        "id": "Y19fn2ktQaP5"
      }
    },
    {
      "cell_type": "code",
      "source": [
        "# 1년치\n",
        "# bitcoin_df2 = pd.read_csv(file_path, names = ['ds', 'y'])\n",
        "# 3년치\n",
        "bitcoin_df2 = pd.read_csv('/gdrive/MyDrive/ssac_bigdata/data/bitcoin_price_3y.csv', names = ['ds', 'y'])\n"
      ],
      "metadata": {
        "id": "d_vCjRUobOZZ"
      },
      "execution_count": 47,
      "outputs": []
    },
    {
      "cell_type": "code",
      "source": [
        "bitcoin_df2"
      ],
      "metadata": {
        "colab": {
          "base_uri": "https://localhost:8080/",
          "height": 423
        },
        "id": "OFFacJPcbVzc",
        "outputId": "ee19b041-aef1-427e-9189-b3ae536b55e0"
      },
      "execution_count": 48,
      "outputs": [
        {
          "output_type": "execute_result",
          "data": {
            "text/html": [
              "<div>\n",
              "<style scoped>\n",
              "    .dataframe tbody tr th:only-of-type {\n",
              "        vertical-align: middle;\n",
              "    }\n",
              "\n",
              "    .dataframe tbody tr th {\n",
              "        vertical-align: top;\n",
              "    }\n",
              "\n",
              "    .dataframe thead th {\n",
              "        text-align: right;\n",
              "    }\n",
              "</style>\n",
              "<table border=\"1\" class=\"dataframe\">\n",
              "  <thead>\n",
              "    <tr style=\"text-align: right;\">\n",
              "      <th></th>\n",
              "      <th>ds</th>\n",
              "      <th>y</th>\n",
              "    </tr>\n",
              "  </thead>\n",
              "  <tbody>\n",
              "    <tr>\n",
              "      <th>0</th>\n",
              "      <td>2018. 12. 11</td>\n",
              "      <td>3472.98</td>\n",
              "    </tr>\n",
              "    <tr>\n",
              "      <th>1</th>\n",
              "      <td>2018. 12. 12</td>\n",
              "      <td>3407.28</td>\n",
              "    </tr>\n",
              "    <tr>\n",
              "      <th>2</th>\n",
              "      <td>2018. 12. 13</td>\n",
              "      <td>3487.73</td>\n",
              "    </tr>\n",
              "    <tr>\n",
              "      <th>3</th>\n",
              "      <td>2018. 12. 14</td>\n",
              "      <td>3308.11</td>\n",
              "    </tr>\n",
              "    <tr>\n",
              "      <th>4</th>\n",
              "      <td>2018. 12. 15</td>\n",
              "      <td>3242.42</td>\n",
              "    </tr>\n",
              "    <tr>\n",
              "      <th>...</th>\n",
              "      <td>...</td>\n",
              "      <td>...</td>\n",
              "    </tr>\n",
              "    <tr>\n",
              "      <th>1091</th>\n",
              "      <td>2021. 12. 6</td>\n",
              "      <td>49380.43</td>\n",
              "    </tr>\n",
              "    <tr>\n",
              "      <th>1092</th>\n",
              "      <td>2021. 12. 7</td>\n",
              "      <td>50564.63</td>\n",
              "    </tr>\n",
              "    <tr>\n",
              "      <th>1093</th>\n",
              "      <td>2021. 12. 8</td>\n",
              "      <td>50645.41</td>\n",
              "    </tr>\n",
              "    <tr>\n",
              "      <th>1094</th>\n",
              "      <td>2021. 12. 9</td>\n",
              "      <td>50511.12</td>\n",
              "    </tr>\n",
              "    <tr>\n",
              "      <th>1095</th>\n",
              "      <td>2021. 12. 10</td>\n",
              "      <td>47659.68</td>\n",
              "    </tr>\n",
              "  </tbody>\n",
              "</table>\n",
              "<p>1096 rows × 2 columns</p>\n",
              "</div>"
            ],
            "text/plain": [
              "                ds         y\n",
              "0     2018. 12. 11   3472.98\n",
              "1     2018. 12. 12   3407.28\n",
              "2     2018. 12. 13   3487.73\n",
              "3     2018. 12. 14   3308.11\n",
              "4     2018. 12. 15   3242.42\n",
              "...            ...       ...\n",
              "1091   2021. 12. 6  49380.43\n",
              "1092   2021. 12. 7  50564.63\n",
              "1093   2021. 12. 8  50645.41\n",
              "1094   2021. 12. 9  50511.12\n",
              "1095  2021. 12. 10  47659.68\n",
              "\n",
              "[1096 rows x 2 columns]"
            ]
          },
          "metadata": {},
          "execution_count": 48
        }
      ]
    },
    {
      "cell_type": "code",
      "source": [
        "prophet = Prophet(seasonality_mode = 'multiplicative',\n",
        "                 yearly_seasonality=True, # 연도벌\n",
        "                 weekly_seasonality=True, # 주차별\n",
        "                 daily_seasonality=True, # 일자별\n",
        "                 changepoint_prior_scale=0.5) # scale은 trend 반영 비율(높아지면 많이 반영, overfitting)"
      ],
      "metadata": {
        "id": "zE_p3oXBcecr"
      },
      "execution_count": 49,
      "outputs": []
    },
    {
      "cell_type": "code",
      "source": [
        "prophet.fit(bitcoin_df2)"
      ],
      "metadata": {
        "id": "QUwtJ6LSdBdq",
        "colab": {
          "base_uri": "https://localhost:8080/"
        },
        "outputId": "e3261077-1702-4917-ab7c-1a8e1236eabb"
      },
      "execution_count": 50,
      "outputs": [
        {
          "output_type": "execute_result",
          "data": {
            "text/plain": [
              "<fbprophet.forecaster.Prophet at 0x7fe7561bb350>"
            ]
          },
          "metadata": {},
          "execution_count": 50
        }
      ]
    },
    {
      "cell_type": "code",
      "source": [
        "# 5일치 예측 데이터 만들어\n",
        "future_data = prophet.make_future_dataframe(periods=30, freq='d')\n",
        "# 만든 걸로 예측\n",
        "forecast_data = prophet.predict(future_data)\n",
        "forecast_data.tail()"
      ],
      "metadata": {
        "colab": {
          "base_uri": "https://localhost:8080/",
          "height": 313
        },
        "id": "OUD_o5wedEU6",
        "outputId": "5072a7ef-d16c-4e84-920d-a2e89427937c"
      },
      "execution_count": 54,
      "outputs": [
        {
          "output_type": "execute_result",
          "data": {
            "text/html": [
              "<div>\n",
              "<style scoped>\n",
              "    .dataframe tbody tr th:only-of-type {\n",
              "        vertical-align: middle;\n",
              "    }\n",
              "\n",
              "    .dataframe tbody tr th {\n",
              "        vertical-align: top;\n",
              "    }\n",
              "\n",
              "    .dataframe thead th {\n",
              "        text-align: right;\n",
              "    }\n",
              "</style>\n",
              "<table border=\"1\" class=\"dataframe\">\n",
              "  <thead>\n",
              "    <tr style=\"text-align: right;\">\n",
              "      <th></th>\n",
              "      <th>ds</th>\n",
              "      <th>trend</th>\n",
              "      <th>yhat_lower</th>\n",
              "      <th>yhat_upper</th>\n",
              "      <th>trend_lower</th>\n",
              "      <th>trend_upper</th>\n",
              "      <th>daily</th>\n",
              "      <th>daily_lower</th>\n",
              "      <th>daily_upper</th>\n",
              "      <th>multiplicative_terms</th>\n",
              "      <th>multiplicative_terms_lower</th>\n",
              "      <th>multiplicative_terms_upper</th>\n",
              "      <th>weekly</th>\n",
              "      <th>weekly_lower</th>\n",
              "      <th>weekly_upper</th>\n",
              "      <th>yearly</th>\n",
              "      <th>yearly_lower</th>\n",
              "      <th>yearly_upper</th>\n",
              "      <th>additive_terms</th>\n",
              "      <th>additive_terms_lower</th>\n",
              "      <th>additive_terms_upper</th>\n",
              "      <th>yhat</th>\n",
              "    </tr>\n",
              "  </thead>\n",
              "  <tbody>\n",
              "    <tr>\n",
              "      <th>1121</th>\n",
              "      <td>2022-01-05</td>\n",
              "      <td>7093.515621</td>\n",
              "      <td>48286.579849</td>\n",
              "      <td>54408.923567</td>\n",
              "      <td>6826.363962</td>\n",
              "      <td>7428.385298</td>\n",
              "      <td>6.859993</td>\n",
              "      <td>6.859993</td>\n",
              "      <td>6.859993</td>\n",
              "      <td>6.239424</td>\n",
              "      <td>6.239424</td>\n",
              "      <td>6.239424</td>\n",
              "      <td>-0.027699</td>\n",
              "      <td>-0.027699</td>\n",
              "      <td>-0.027699</td>\n",
              "      <td>-0.592870</td>\n",
              "      <td>-0.592870</td>\n",
              "      <td>-0.592870</td>\n",
              "      <td>0.0</td>\n",
              "      <td>0.0</td>\n",
              "      <td>0.0</td>\n",
              "      <td>51352.967536</td>\n",
              "    </tr>\n",
              "    <tr>\n",
              "      <th>1122</th>\n",
              "      <td>2022-01-06</td>\n",
              "      <td>7094.608614</td>\n",
              "      <td>48527.181108</td>\n",
              "      <td>54997.842544</td>\n",
              "      <td>6803.283189</td>\n",
              "      <td>7483.076648</td>\n",
              "      <td>6.859993</td>\n",
              "      <td>6.859993</td>\n",
              "      <td>6.859993</td>\n",
              "      <td>6.277965</td>\n",
              "      <td>6.277965</td>\n",
              "      <td>6.277965</td>\n",
              "      <td>0.016143</td>\n",
              "      <td>0.016143</td>\n",
              "      <td>0.016143</td>\n",
              "      <td>-0.598171</td>\n",
              "      <td>-0.598171</td>\n",
              "      <td>-0.598171</td>\n",
              "      <td>0.0</td>\n",
              "      <td>0.0</td>\n",
              "      <td>0.0</td>\n",
              "      <td>51634.315674</td>\n",
              "    </tr>\n",
              "    <tr>\n",
              "      <th>1123</th>\n",
              "      <td>2022-01-07</td>\n",
              "      <td>7095.701606</td>\n",
              "      <td>48088.796350</td>\n",
              "      <td>54514.384826</td>\n",
              "      <td>6779.939671</td>\n",
              "      <td>7504.686005</td>\n",
              "      <td>6.859993</td>\n",
              "      <td>6.859993</td>\n",
              "      <td>6.859993</td>\n",
              "      <td>6.222679</td>\n",
              "      <td>6.222679</td>\n",
              "      <td>6.222679</td>\n",
              "      <td>-0.016821</td>\n",
              "      <td>-0.016821</td>\n",
              "      <td>-0.016821</td>\n",
              "      <td>-0.620492</td>\n",
              "      <td>-0.620492</td>\n",
              "      <td>-0.620492</td>\n",
              "      <td>0.0</td>\n",
              "      <td>0.0</td>\n",
              "      <td>0.0</td>\n",
              "      <td>51249.976218</td>\n",
              "    </tr>\n",
              "    <tr>\n",
              "      <th>1124</th>\n",
              "      <td>2022-01-08</td>\n",
              "      <td>7096.794598</td>\n",
              "      <td>48047.037048</td>\n",
              "      <td>54400.551589</td>\n",
              "      <td>6749.333040</td>\n",
              "      <td>7525.752336</td>\n",
              "      <td>6.859993</td>\n",
              "      <td>6.859993</td>\n",
              "      <td>6.859993</td>\n",
              "      <td>6.209396</td>\n",
              "      <td>6.209396</td>\n",
              "      <td>6.209396</td>\n",
              "      <td>0.009288</td>\n",
              "      <td>0.009288</td>\n",
              "      <td>0.009288</td>\n",
              "      <td>-0.659884</td>\n",
              "      <td>-0.659884</td>\n",
              "      <td>-0.659884</td>\n",
              "      <td>0.0</td>\n",
              "      <td>0.0</td>\n",
              "      <td>0.0</td>\n",
              "      <td>51163.603768</td>\n",
              "    </tr>\n",
              "    <tr>\n",
              "      <th>1125</th>\n",
              "      <td>2022-01-09</td>\n",
              "      <td>7097.887590</td>\n",
              "      <td>47253.915292</td>\n",
              "      <td>54250.441133</td>\n",
              "      <td>6701.916303</td>\n",
              "      <td>7550.865171</td>\n",
              "      <td>6.859993</td>\n",
              "      <td>6.859993</td>\n",
              "      <td>6.859993</td>\n",
              "      <td>6.144189</td>\n",
              "      <td>6.144189</td>\n",
              "      <td>6.144189</td>\n",
              "      <td>0.000161</td>\n",
              "      <td>0.000161</td>\n",
              "      <td>0.000161</td>\n",
              "      <td>-0.715965</td>\n",
              "      <td>-0.715965</td>\n",
              "      <td>-0.715965</td>\n",
              "      <td>0.0</td>\n",
              "      <td>0.0</td>\n",
              "      <td>0.0</td>\n",
              "      <td>50708.652778</td>\n",
              "    </tr>\n",
              "  </tbody>\n",
              "</table>\n",
              "</div>"
            ],
            "text/plain": [
              "             ds        trend  ...  additive_terms_upper          yhat\n",
              "1121 2022-01-05  7093.515621  ...                   0.0  51352.967536\n",
              "1122 2022-01-06  7094.608614  ...                   0.0  51634.315674\n",
              "1123 2022-01-07  7095.701606  ...                   0.0  51249.976218\n",
              "1124 2022-01-08  7096.794598  ...                   0.0  51163.603768\n",
              "1125 2022-01-09  7097.887590  ...                   0.0  50708.652778\n",
              "\n",
              "[5 rows x 22 columns]"
            ]
          },
          "metadata": {},
          "execution_count": 54
        }
      ]
    },
    {
      "cell_type": "code",
      "source": [
        "# 예측값, 최저예측, 최고예측\n",
        "# hat : 예측\n",
        "# - : 평균\n",
        "forecast_data[['ds', 'yhat', 'yhat_lower','yhat_upper']].head(5)"
      ],
      "metadata": {
        "colab": {
          "base_uri": "https://localhost:8080/",
          "height": 206
        },
        "id": "198SVa2udmRX",
        "outputId": "11545aef-a7a5-49cf-9622-ab98bf64beef"
      },
      "execution_count": 59,
      "outputs": [
        {
          "output_type": "execute_result",
          "data": {
            "text/html": [
              "<div>\n",
              "<style scoped>\n",
              "    .dataframe tbody tr th:only-of-type {\n",
              "        vertical-align: middle;\n",
              "    }\n",
              "\n",
              "    .dataframe tbody tr th {\n",
              "        vertical-align: top;\n",
              "    }\n",
              "\n",
              "    .dataframe thead th {\n",
              "        text-align: right;\n",
              "    }\n",
              "</style>\n",
              "<table border=\"1\" class=\"dataframe\">\n",
              "  <thead>\n",
              "    <tr style=\"text-align: right;\">\n",
              "      <th></th>\n",
              "      <th>ds</th>\n",
              "      <th>yhat</th>\n",
              "      <th>yhat_lower</th>\n",
              "      <th>yhat_upper</th>\n",
              "    </tr>\n",
              "  </thead>\n",
              "  <tbody>\n",
              "    <tr>\n",
              "      <th>0</th>\n",
              "      <td>2018-12-11</td>\n",
              "      <td>3625.941968</td>\n",
              "      <td>1724.726883</td>\n",
              "      <td>5488.190419</td>\n",
              "    </tr>\n",
              "    <tr>\n",
              "      <th>1</th>\n",
              "      <td>2018-12-12</td>\n",
              "      <td>3559.965993</td>\n",
              "      <td>1667.953634</td>\n",
              "      <td>5369.531028</td>\n",
              "    </tr>\n",
              "    <tr>\n",
              "      <th>2</th>\n",
              "      <td>2018-12-13</td>\n",
              "      <td>3545.499853</td>\n",
              "      <td>1746.580499</td>\n",
              "      <td>5375.790433</td>\n",
              "    </tr>\n",
              "    <tr>\n",
              "      <th>3</th>\n",
              "      <td>2018-12-14</td>\n",
              "      <td>3495.800062</td>\n",
              "      <td>1592.126873</td>\n",
              "      <td>5306.287205</td>\n",
              "    </tr>\n",
              "    <tr>\n",
              "      <th>4</th>\n",
              "      <td>2018-12-15</td>\n",
              "      <td>3485.637719</td>\n",
              "      <td>1574.739089</td>\n",
              "      <td>5399.276543</td>\n",
              "    </tr>\n",
              "  </tbody>\n",
              "</table>\n",
              "</div>"
            ],
            "text/plain": [
              "          ds         yhat   yhat_lower   yhat_upper\n",
              "0 2018-12-11  3625.941968  1724.726883  5488.190419\n",
              "1 2018-12-12  3559.965993  1667.953634  5369.531028\n",
              "2 2018-12-13  3545.499853  1746.580499  5375.790433\n",
              "3 2018-12-14  3495.800062  1592.126873  5306.287205\n",
              "4 2018-12-15  3485.637719  1574.739089  5399.276543"
            ]
          },
          "metadata": {},
          "execution_count": 59
        }
      ]
    },
    {
      "cell_type": "code",
      "source": [
        "fig1 = prophet.plot(forecast_data)"
      ],
      "metadata": {
        "colab": {
          "base_uri": "https://localhost:8080/",
          "height": 441
        },
        "id": "jQyvyCeCXboW",
        "outputId": "4749f35a-52ed-4428-be30-e0a45bd440c8"
      },
      "execution_count": 57,
      "outputs": [
        {
          "output_type": "display_data",
          "data": {
            "image/png": "[encoded data removed]",
            "text/plain": [
              "<Figure size 720x432 with 1 Axes>"
            ]
          },
          "metadata": {}
        }
      ]
    },
    {
      "cell_type": "code",
      "source": [
        "fig2 = prophet.plot_components(forecast_data)"
      ],
      "metadata": {
        "colab": {
          "base_uri": "https://localhost:8080/",
          "height": 873
        },
        "id": "kVMbLwJdeAmR",
        "outputId": "3dd5b4a7-682d-48e1-f943-39486f15a3d5"
      },
      "execution_count": 58,
      "outputs": [
        {
          "output_type": "display_data",
          "data": {
            "image/png": "[encoded data removed]",
            "text/plain": [
              "<Figure size 648x864 with 4 Axes>"
            ]
          },
          "metadata": {}
        }
      ]
    }
  ]
}