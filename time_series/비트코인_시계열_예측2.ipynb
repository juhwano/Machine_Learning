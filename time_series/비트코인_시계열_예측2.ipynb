{
  "nbformat": 4,
  "nbformat_minor": 0,
  "metadata": {
    "colab": {
      "name": "비트코인_시계열_예측2.ipynb",
      "provenance": [],
      "collapsed_sections": [],
      "toc_visible": true
    },
    "kernelspec": {
      "name": "python3",
      "display_name": "Python 3"
    },
    "language_info": {
      "name": "python"
    }
  },
  "cells": [
    {
      "cell_type": "markdown",
      "source": [
        "# 프로젝트 개요\n",
        "\n",
        "kaggle의 bitstamp 데이터를 활용해 3가지 분석을 진행\n",
        "\n",
        "1. 시계열 데이터 분석\n",
        "2. 데이터 불균형 -> scaling\n",
        "3. RandomForest vs KNN"
      ],
      "metadata": {
        "id": "V2iucvKuToMp"
      }
    },
    {
      "cell_type": "code",
      "source": [
        "from google.colab import drive\n",
        "drive.mount('/content/gdrive/')"
      ],
      "metadata": {
        "colab": {
          "base_uri": "https://localhost:8080/"
        },
        "id": "egGZ_6-HV5xo",
        "outputId": "09ef9734-fae6-4399-9eee-2bf87061db7c"
      },
      "execution_count": null,
      "outputs": [
        {
          "output_type": "stream",
          "name": "stdout",
          "text": [
            "Drive already mounted at /content/gdrive/; to attempt to forcibly remount, call drive.mount(\"/content/gdrive/\", force_remount=True).\n"
          ]
        }
      ]
    },
    {
      "cell_type": "markdown",
      "source": [
        "# Library & Data Import"
      ],
      "metadata": {
        "id": "CjIvdBNBW90b"
      }
    },
    {
      "cell_type": "code",
      "source": [
        "import pandas as pd\n",
        "import numpy as np\n",
        "# MinMaxScaler : 데이터의 min, max값을 주고, 0~1 사이값으로 데이터를 scaling할 수 있게 해준다.\n",
        "from sklearn.preprocessing import MinMaxScaler\n",
        "# train_test_split : train과 test로 data를 나눠주는 함수\n",
        "from sklearn.model_selection import train_test_split\n",
        "import os\n",
        "import random\n",
        "\n",
        "import warnings\n",
        "warnings.filterwarnings('ignore')"
      ],
      "metadata": {
        "id": "9wU2Tu7-Tz1a"
      },
      "execution_count": null,
      "outputs": []
    },
    {
      "cell_type": "markdown",
      "source": [
        "### seed값 고정과정\n",
        "- seed값은 컴퓨터가 매번 다른 확률로 처리함\n",
        "- seed값을 고정시켜줌으로써 다른 사람과 내가 같은 결과를 낼 수 있게 고정"
      ],
      "metadata": {
        "id": "XPv8qKehUjvI"
      }
    },
    {
      "cell_type": "code",
      "source": [
        "np.random.seed(2021)\n",
        "random.seed(2021)\n",
        "os.environ['PYTHONHASHSEED'] = '0'"
      ],
      "metadata": {
        "id": "w7aSoeJHUxvQ"
      },
      "execution_count": null,
      "outputs": []
    },
    {
      "cell_type": "code",
      "source": [
        "data = pd.read_csv('/content/gdrive/MyDrive/big_data/time_series/data/bitstampUSD.csv')"
      ],
      "metadata": {
        "id": "NXYmqhjHU4Vx"
      },
      "execution_count": null,
      "outputs": []
    },
    {
      "cell_type": "code",
      "source": [
        "data.head()"
      ],
      "metadata": {
        "colab": {
          "base_uri": "https://localhost:8080/",
          "height": 206
        },
        "id": "XLsycbu3WPvQ",
        "outputId": "884dcf62-10bc-48d4-a3a6-b6e7472bd129"
      },
      "execution_count": null,
      "outputs": [
        {
          "output_type": "execute_result",
          "data": {
            "text/html": [
              "<div>\n",
              "<style scoped>\n",
              "    .dataframe tbody tr th:only-of-type {\n",
              "        vertical-align: middle;\n",
              "    }\n",
              "\n",
              "    .dataframe tbody tr th {\n",
              "        vertical-align: top;\n",
              "    }\n",
              "\n",
              "    .dataframe thead th {\n",
              "        text-align: right;\n",
              "    }\n",
              "</style>\n",
              "<table border=\"1\" class=\"dataframe\">\n",
              "  <thead>\n",
              "    <tr style=\"text-align: right;\">\n",
              "      <th></th>\n",
              "      <th>Timestamp</th>\n",
              "      <th>Open</th>\n",
              "      <th>High</th>\n",
              "      <th>Low</th>\n",
              "      <th>Close</th>\n",
              "      <th>Volume_(BTC)</th>\n",
              "      <th>Volume_(Currency)</th>\n",
              "      <th>Weighted_Price</th>\n",
              "    </tr>\n",
              "  </thead>\n",
              "  <tbody>\n",
              "    <tr>\n",
              "      <th>0</th>\n",
              "      <td>1325317920</td>\n",
              "      <td>4.39</td>\n",
              "      <td>4.39</td>\n",
              "      <td>4.39</td>\n",
              "      <td>4.39</td>\n",
              "      <td>0.455581</td>\n",
              "      <td>2.0</td>\n",
              "      <td>4.39</td>\n",
              "    </tr>\n",
              "    <tr>\n",
              "      <th>1</th>\n",
              "      <td>1325317980</td>\n",
              "      <td>NaN</td>\n",
              "      <td>NaN</td>\n",
              "      <td>NaN</td>\n",
              "      <td>NaN</td>\n",
              "      <td>NaN</td>\n",
              "      <td>NaN</td>\n",
              "      <td>NaN</td>\n",
              "    </tr>\n",
              "    <tr>\n",
              "      <th>2</th>\n",
              "      <td>1325318040</td>\n",
              "      <td>NaN</td>\n",
              "      <td>NaN</td>\n",
              "      <td>NaN</td>\n",
              "      <td>NaN</td>\n",
              "      <td>NaN</td>\n",
              "      <td>NaN</td>\n",
              "      <td>NaN</td>\n",
              "    </tr>\n",
              "    <tr>\n",
              "      <th>3</th>\n",
              "      <td>1325318100</td>\n",
              "      <td>NaN</td>\n",
              "      <td>NaN</td>\n",
              "      <td>NaN</td>\n",
              "      <td>NaN</td>\n",
              "      <td>NaN</td>\n",
              "      <td>NaN</td>\n",
              "      <td>NaN</td>\n",
              "    </tr>\n",
              "    <tr>\n",
              "      <th>4</th>\n",
              "      <td>1325318160</td>\n",
              "      <td>NaN</td>\n",
              "      <td>NaN</td>\n",
              "      <td>NaN</td>\n",
              "      <td>NaN</td>\n",
              "      <td>NaN</td>\n",
              "      <td>NaN</td>\n",
              "      <td>NaN</td>\n",
              "    </tr>\n",
              "  </tbody>\n",
              "</table>\n",
              "</div>"
            ],
            "text/plain": [
              "    Timestamp  Open  High  ...  Volume_(BTC)  Volume_(Currency)  Weighted_Price\n",
              "0  1325317920  4.39  4.39  ...      0.455581                2.0            4.39\n",
              "1  1325317980   NaN   NaN  ...           NaN                NaN             NaN\n",
              "2  1325318040   NaN   NaN  ...           NaN                NaN             NaN\n",
              "3  1325318100   NaN   NaN  ...           NaN                NaN             NaN\n",
              "4  1325318160   NaN   NaN  ...           NaN                NaN             NaN\n",
              "\n",
              "[5 rows x 8 columns]"
            ]
          },
          "metadata": {},
          "execution_count": 5
        }
      ]
    },
    {
      "cell_type": "markdown",
      "source": [
        "- 8개의 column\n",
        "- NaN값이 많이 보인다.\n",
        "- Open, Close, High, Low 컬럼 추측\n",
        "- Weighted_Price값이 예측해야하는 값"
      ],
      "metadata": {
        "id": "v0Ttwp7qXCxo"
      }
    },
    {
      "cell_type": "markdown",
      "source": [
        "# 데이터셋 살펴보기"
      ],
      "metadata": {
        "id": "GhZ5Z7FZXGaz"
      }
    },
    {
      "cell_type": "code",
      "source": [
        "data.head(3)"
      ],
      "metadata": {
        "colab": {
          "base_uri": "https://localhost:8080/",
          "height": 143
        },
        "id": "XaPlPzv9XG6e",
        "outputId": "2743963a-3b48-40bd-a3be-752d5e2e7dcd"
      },
      "execution_count": null,
      "outputs": [
        {
          "output_type": "execute_result",
          "data": {
            "text/html": [
              "<div>\n",
              "<style scoped>\n",
              "    .dataframe tbody tr th:only-of-type {\n",
              "        vertical-align: middle;\n",
              "    }\n",
              "\n",
              "    .dataframe tbody tr th {\n",
              "        vertical-align: top;\n",
              "    }\n",
              "\n",
              "    .dataframe thead th {\n",
              "        text-align: right;\n",
              "    }\n",
              "</style>\n",
              "<table border=\"1\" class=\"dataframe\">\n",
              "  <thead>\n",
              "    <tr style=\"text-align: right;\">\n",
              "      <th></th>\n",
              "      <th>Timestamp</th>\n",
              "      <th>Open</th>\n",
              "      <th>High</th>\n",
              "      <th>Low</th>\n",
              "      <th>Close</th>\n",
              "      <th>Volume_(BTC)</th>\n",
              "      <th>Volume_(Currency)</th>\n",
              "      <th>Weighted_Price</th>\n",
              "    </tr>\n",
              "  </thead>\n",
              "  <tbody>\n",
              "    <tr>\n",
              "      <th>0</th>\n",
              "      <td>1325317920</td>\n",
              "      <td>4.39</td>\n",
              "      <td>4.39</td>\n",
              "      <td>4.39</td>\n",
              "      <td>4.39</td>\n",
              "      <td>0.455581</td>\n",
              "      <td>2.0</td>\n",
              "      <td>4.39</td>\n",
              "    </tr>\n",
              "    <tr>\n",
              "      <th>1</th>\n",
              "      <td>1325317980</td>\n",
              "      <td>NaN</td>\n",
              "      <td>NaN</td>\n",
              "      <td>NaN</td>\n",
              "      <td>NaN</td>\n",
              "      <td>NaN</td>\n",
              "      <td>NaN</td>\n",
              "      <td>NaN</td>\n",
              "    </tr>\n",
              "    <tr>\n",
              "      <th>2</th>\n",
              "      <td>1325318040</td>\n",
              "      <td>NaN</td>\n",
              "      <td>NaN</td>\n",
              "      <td>NaN</td>\n",
              "      <td>NaN</td>\n",
              "      <td>NaN</td>\n",
              "      <td>NaN</td>\n",
              "      <td>NaN</td>\n",
              "    </tr>\n",
              "  </tbody>\n",
              "</table>\n",
              "</div>"
            ],
            "text/plain": [
              "    Timestamp  Open  High  ...  Volume_(BTC)  Volume_(Currency)  Weighted_Price\n",
              "0  1325317920  4.39  4.39  ...      0.455581                2.0            4.39\n",
              "1  1325317980   NaN   NaN  ...           NaN                NaN             NaN\n",
              "2  1325318040   NaN   NaN  ...           NaN                NaN             NaN\n",
              "\n",
              "[3 rows x 8 columns]"
            ]
          },
          "metadata": {},
          "execution_count": 6
        }
      ]
    },
    {
      "cell_type": "code",
      "source": [
        "data.tail()"
      ],
      "metadata": {
        "colab": {
          "base_uri": "https://localhost:8080/",
          "height": 206
        },
        "id": "rYfCRFo-XoMb",
        "outputId": "5e5b90b4-d4b2-4ff4-fb03-d91124b0ea22"
      },
      "execution_count": null,
      "outputs": [
        {
          "output_type": "execute_result",
          "data": {
            "text/html": [
              "<div>\n",
              "<style scoped>\n",
              "    .dataframe tbody tr th:only-of-type {\n",
              "        vertical-align: middle;\n",
              "    }\n",
              "\n",
              "    .dataframe tbody tr th {\n",
              "        vertical-align: top;\n",
              "    }\n",
              "\n",
              "    .dataframe thead th {\n",
              "        text-align: right;\n",
              "    }\n",
              "</style>\n",
              "<table border=\"1\" class=\"dataframe\">\n",
              "  <thead>\n",
              "    <tr style=\"text-align: right;\">\n",
              "      <th></th>\n",
              "      <th>Timestamp</th>\n",
              "      <th>Open</th>\n",
              "      <th>High</th>\n",
              "      <th>Low</th>\n",
              "      <th>Close</th>\n",
              "      <th>Volume_(BTC)</th>\n",
              "      <th>Volume_(Currency)</th>\n",
              "      <th>Weighted_Price</th>\n",
              "    </tr>\n",
              "  </thead>\n",
              "  <tbody>\n",
              "    <tr>\n",
              "      <th>4857372</th>\n",
              "      <td>1617148560</td>\n",
              "      <td>58714.31</td>\n",
              "      <td>58714.31</td>\n",
              "      <td>58686.00</td>\n",
              "      <td>58686.00</td>\n",
              "      <td>1.384487</td>\n",
              "      <td>81259.372187</td>\n",
              "      <td>58692.753339</td>\n",
              "    </tr>\n",
              "    <tr>\n",
              "      <th>4857373</th>\n",
              "      <td>1617148620</td>\n",
              "      <td>58683.97</td>\n",
              "      <td>58693.43</td>\n",
              "      <td>58683.97</td>\n",
              "      <td>58685.81</td>\n",
              "      <td>7.294848</td>\n",
              "      <td>428158.146640</td>\n",
              "      <td>58693.226508</td>\n",
              "    </tr>\n",
              "    <tr>\n",
              "      <th>4857374</th>\n",
              "      <td>1617148680</td>\n",
              "      <td>58693.43</td>\n",
              "      <td>58723.84</td>\n",
              "      <td>58693.43</td>\n",
              "      <td>58723.84</td>\n",
              "      <td>1.705682</td>\n",
              "      <td>100117.070370</td>\n",
              "      <td>58696.198496</td>\n",
              "    </tr>\n",
              "    <tr>\n",
              "      <th>4857375</th>\n",
              "      <td>1617148740</td>\n",
              "      <td>58742.18</td>\n",
              "      <td>58770.38</td>\n",
              "      <td>58742.18</td>\n",
              "      <td>58760.59</td>\n",
              "      <td>0.720415</td>\n",
              "      <td>42332.958633</td>\n",
              "      <td>58761.866202</td>\n",
              "    </tr>\n",
              "    <tr>\n",
              "      <th>4857376</th>\n",
              "      <td>1617148800</td>\n",
              "      <td>58767.75</td>\n",
              "      <td>58778.18</td>\n",
              "      <td>58755.97</td>\n",
              "      <td>58778.18</td>\n",
              "      <td>2.712831</td>\n",
              "      <td>159417.751000</td>\n",
              "      <td>58764.349363</td>\n",
              "    </tr>\n",
              "  </tbody>\n",
              "</table>\n",
              "</div>"
            ],
            "text/plain": [
              "          Timestamp      Open  ...  Volume_(Currency)  Weighted_Price\n",
              "4857372  1617148560  58714.31  ...       81259.372187    58692.753339\n",
              "4857373  1617148620  58683.97  ...      428158.146640    58693.226508\n",
              "4857374  1617148680  58693.43  ...      100117.070370    58696.198496\n",
              "4857375  1617148740  58742.18  ...       42332.958633    58761.866202\n",
              "4857376  1617148800  58767.75  ...      159417.751000    58764.349363\n",
              "\n",
              "[5 rows x 8 columns]"
            ]
          },
          "metadata": {},
          "execution_count": 7
        }
      ]
    },
    {
      "cell_type": "markdown",
      "source": [
        "- Timestamp가 커지면서 다른 값들도 커지는 경향이 있다"
      ],
      "metadata": {
        "id": "BGKwOQo-YD2f"
      }
    },
    {
      "cell_type": "code",
      "source": [
        "# dimension\n",
        "data.shape"
      ],
      "metadata": {
        "colab": {
          "base_uri": "https://localhost:8080/"
        },
        "id": "DFaq-Y-eXq-_",
        "outputId": "51f0520c-7a4d-44cc-afd1-fb56126d443d"
      },
      "execution_count": null,
      "outputs": [
        {
          "output_type": "execute_result",
          "data": {
            "text/plain": [
              "(4857377, 8)"
            ]
          },
          "metadata": {},
          "execution_count": 8
        }
      ]
    },
    {
      "cell_type": "code",
      "source": [
        "# information\n",
        "data.info()"
      ],
      "metadata": {
        "colab": {
          "base_uri": "https://localhost:8080/"
        },
        "id": "jnedX3ORYvWx",
        "outputId": "560141d7-d246-49ba-a05a-8cbe677855ff"
      },
      "execution_count": null,
      "outputs": [
        {
          "output_type": "stream",
          "name": "stdout",
          "text": [
            "<class 'pandas.core.frame.DataFrame'>\n",
            "RangeIndex: 4857377 entries, 0 to 4857376\n",
            "Data columns (total 8 columns):\n",
            " #   Column             Dtype  \n",
            "---  ------             -----  \n",
            " 0   Timestamp          int64  \n",
            " 1   Open               float64\n",
            " 2   High               float64\n",
            " 3   Low                float64\n",
            " 4   Close              float64\n",
            " 5   Volume_(BTC)       float64\n",
            " 6   Volume_(Currency)  float64\n",
            " 7   Weighted_Price     float64\n",
            "dtypes: float64(7), int64(1)\n",
            "memory usage: 296.5 MB\n"
          ]
        }
      ]
    },
    {
      "cell_type": "code",
      "source": [
        "data.describe()"
      ],
      "metadata": {
        "colab": {
          "base_uri": "https://localhost:8080/",
          "height": 300
        },
        "id": "m-TIQ0_DX2hU",
        "outputId": "14c542e0-b3ff-4399-b0e2-ae84b2884f07"
      },
      "execution_count": null,
      "outputs": [
        {
          "output_type": "execute_result",
          "data": {
            "text/html": [
              "<div>\n",
              "<style scoped>\n",
              "    .dataframe tbody tr th:only-of-type {\n",
              "        vertical-align: middle;\n",
              "    }\n",
              "\n",
              "    .dataframe tbody tr th {\n",
              "        vertical-align: top;\n",
              "    }\n",
              "\n",
              "    .dataframe thead th {\n",
              "        text-align: right;\n",
              "    }\n",
              "</style>\n",
              "<table border=\"1\" class=\"dataframe\">\n",
              "  <thead>\n",
              "    <tr style=\"text-align: right;\">\n",
              "      <th></th>\n",
              "      <th>Timestamp</th>\n",
              "      <th>Open</th>\n",
              "      <th>High</th>\n",
              "      <th>Low</th>\n",
              "      <th>Close</th>\n",
              "      <th>Volume_(BTC)</th>\n",
              "      <th>Volume_(Currency)</th>\n",
              "      <th>Weighted_Price</th>\n",
              "    </tr>\n",
              "  </thead>\n",
              "  <tbody>\n",
              "    <tr>\n",
              "      <th>count</th>\n",
              "      <td>4.857377e+06</td>\n",
              "      <td>3.613769e+06</td>\n",
              "      <td>3.613769e+06</td>\n",
              "      <td>3.613769e+06</td>\n",
              "      <td>3.613769e+06</td>\n",
              "      <td>3.613769e+06</td>\n",
              "      <td>3.613769e+06</td>\n",
              "      <td>3.613769e+06</td>\n",
              "    </tr>\n",
              "    <tr>\n",
              "      <th>mean</th>\n",
              "      <td>1.471301e+09</td>\n",
              "      <td>6.009024e+03</td>\n",
              "      <td>6.013357e+03</td>\n",
              "      <td>6.004488e+03</td>\n",
              "      <td>6.009014e+03</td>\n",
              "      <td>9.323249e+00</td>\n",
              "      <td>4.176284e+04</td>\n",
              "      <td>6.008935e+03</td>\n",
              "    </tr>\n",
              "    <tr>\n",
              "      <th>std</th>\n",
              "      <td>8.428019e+07</td>\n",
              "      <td>8.996247e+03</td>\n",
              "      <td>9.003521e+03</td>\n",
              "      <td>8.988778e+03</td>\n",
              "      <td>8.996360e+03</td>\n",
              "      <td>3.054989e+01</td>\n",
              "      <td>1.518248e+05</td>\n",
              "      <td>8.995992e+03</td>\n",
              "    </tr>\n",
              "    <tr>\n",
              "      <th>min</th>\n",
              "      <td>1.325318e+09</td>\n",
              "      <td>3.800000e+00</td>\n",
              "      <td>3.800000e+00</td>\n",
              "      <td>1.500000e+00</td>\n",
              "      <td>1.500000e+00</td>\n",
              "      <td>0.000000e+00</td>\n",
              "      <td>0.000000e+00</td>\n",
              "      <td>3.800000e+00</td>\n",
              "    </tr>\n",
              "    <tr>\n",
              "      <th>25%</th>\n",
              "      <td>1.398179e+09</td>\n",
              "      <td>4.438600e+02</td>\n",
              "      <td>4.440000e+02</td>\n",
              "      <td>4.435200e+02</td>\n",
              "      <td>4.438600e+02</td>\n",
              "      <td>4.097759e-01</td>\n",
              "      <td>4.521422e+02</td>\n",
              "      <td>4.438306e+02</td>\n",
              "    </tr>\n",
              "    <tr>\n",
              "      <th>50%</th>\n",
              "      <td>1.471428e+09</td>\n",
              "      <td>3.596970e+03</td>\n",
              "      <td>3.598190e+03</td>\n",
              "      <td>3.595620e+03</td>\n",
              "      <td>3.597000e+03</td>\n",
              "      <td>1.979811e+00</td>\n",
              "      <td>3.810124e+03</td>\n",
              "      <td>3.596804e+03</td>\n",
              "    </tr>\n",
              "    <tr>\n",
              "      <th>75%</th>\n",
              "      <td>1.544288e+09</td>\n",
              "      <td>8.627270e+03</td>\n",
              "      <td>8.632980e+03</td>\n",
              "      <td>8.621090e+03</td>\n",
              "      <td>8.627160e+03</td>\n",
              "      <td>7.278216e+00</td>\n",
              "      <td>2.569821e+04</td>\n",
              "      <td>8.627637e+03</td>\n",
              "    </tr>\n",
              "    <tr>\n",
              "      <th>max</th>\n",
              "      <td>1.617149e+09</td>\n",
              "      <td>6.176356e+04</td>\n",
              "      <td>6.178183e+04</td>\n",
              "      <td>6.167355e+04</td>\n",
              "      <td>6.178180e+04</td>\n",
              "      <td>5.853852e+03</td>\n",
              "      <td>1.390067e+07</td>\n",
              "      <td>6.171621e+04</td>\n",
              "    </tr>\n",
              "  </tbody>\n",
              "</table>\n",
              "</div>"
            ],
            "text/plain": [
              "          Timestamp          Open  ...  Volume_(Currency)  Weighted_Price\n",
              "count  4.857377e+06  3.613769e+06  ...       3.613769e+06    3.613769e+06\n",
              "mean   1.471301e+09  6.009024e+03  ...       4.176284e+04    6.008935e+03\n",
              "std    8.428019e+07  8.996247e+03  ...       1.518248e+05    8.995992e+03\n",
              "min    1.325318e+09  3.800000e+00  ...       0.000000e+00    3.800000e+00\n",
              "25%    1.398179e+09  4.438600e+02  ...       4.521422e+02    4.438306e+02\n",
              "50%    1.471428e+09  3.596970e+03  ...       3.810124e+03    3.596804e+03\n",
              "75%    1.544288e+09  8.627270e+03  ...       2.569821e+04    8.627637e+03\n",
              "max    1.617149e+09  6.176356e+04  ...       1.390067e+07    6.171621e+04\n",
              "\n",
              "[8 rows x 8 columns]"
            ]
          },
          "metadata": {},
          "execution_count": 10
        }
      ]
    },
    {
      "cell_type": "markdown",
      "source": [
        "통계치\n",
        "- count : 데이터의 갯수\n",
        "- mean : 전체 데이터의 평균\n",
        "- std : 표준편차\n",
        "- min : 최솟값\n",
        "- 25%, 50%, 75% : 지점의 값들\n",
        "- max : 최댓값\n",
        "\n",
        "25%, 50%, 75%, max를 비교해서 이상치가 있나없나 추측할 수 있다."
      ],
      "metadata": {
        "id": "-iPXMGx5X3wC"
      }
    },
    {
      "cell_type": "code",
      "source": [
        "# 결측치\n",
        "# df.isna().sum()\n",
        "data.isnull().sum()"
      ],
      "metadata": {
        "colab": {
          "base_uri": "https://localhost:8080/"
        },
        "id": "iqQC6JBYYTQX",
        "outputId": "73d130ec-291f-494d-d869-763eb1392c7f"
      },
      "execution_count": null,
      "outputs": [
        {
          "output_type": "execute_result",
          "data": {
            "text/plain": [
              "Timestamp                  0\n",
              "Open                 1243608\n",
              "High                 1243608\n",
              "Low                  1243608\n",
              "Close                1243608\n",
              "Volume_(BTC)         1243608\n",
              "Volume_(Currency)    1243608\n",
              "Weighted_Price       1243608\n",
              "dtype: int64"
            ]
          },
          "metadata": {},
          "execution_count": 11
        }
      ]
    },
    {
      "cell_type": "markdown",
      "source": [
        "# 데이터 전처리"
      ],
      "metadata": {
        "id": "88oFjrECZq6W"
      }
    },
    {
      "cell_type": "code",
      "source": [
        "# Timestamp 날짜 변환\n",
        "# unit='s'  : 초 단위 계산\n",
        "# index 재설정\n",
        "data.index = pd.to_datetime(data['Timestamp'], unit='s')\n",
        "data.head()"
      ],
      "metadata": {
        "colab": {
          "base_uri": "https://localhost:8080/",
          "height": 238
        },
        "id": "6zXX7qtUYoh3",
        "outputId": "cad35366-d03e-4e68-945c-6d75b7c9f1f1"
      },
      "execution_count": null,
      "outputs": [
        {
          "output_type": "execute_result",
          "data": {
            "text/html": [
              "<div>\n",
              "<style scoped>\n",
              "    .dataframe tbody tr th:only-of-type {\n",
              "        vertical-align: middle;\n",
              "    }\n",
              "\n",
              "    .dataframe tbody tr th {\n",
              "        vertical-align: top;\n",
              "    }\n",
              "\n",
              "    .dataframe thead th {\n",
              "        text-align: right;\n",
              "    }\n",
              "</style>\n",
              "<table border=\"1\" class=\"dataframe\">\n",
              "  <thead>\n",
              "    <tr style=\"text-align: right;\">\n",
              "      <th></th>\n",
              "      <th>Timestamp</th>\n",
              "      <th>Open</th>\n",
              "      <th>High</th>\n",
              "      <th>Low</th>\n",
              "      <th>Close</th>\n",
              "      <th>Volume_(BTC)</th>\n",
              "      <th>Volume_(Currency)</th>\n",
              "      <th>Weighted_Price</th>\n",
              "    </tr>\n",
              "    <tr>\n",
              "      <th>Timestamp</th>\n",
              "      <th></th>\n",
              "      <th></th>\n",
              "      <th></th>\n",
              "      <th></th>\n",
              "      <th></th>\n",
              "      <th></th>\n",
              "      <th></th>\n",
              "      <th></th>\n",
              "    </tr>\n",
              "  </thead>\n",
              "  <tbody>\n",
              "    <tr>\n",
              "      <th>2011-12-31 07:52:00</th>\n",
              "      <td>1325317920</td>\n",
              "      <td>4.39</td>\n",
              "      <td>4.39</td>\n",
              "      <td>4.39</td>\n",
              "      <td>4.39</td>\n",
              "      <td>0.455581</td>\n",
              "      <td>2.0</td>\n",
              "      <td>4.39</td>\n",
              "    </tr>\n",
              "    <tr>\n",
              "      <th>2011-12-31 07:53:00</th>\n",
              "      <td>1325317980</td>\n",
              "      <td>NaN</td>\n",
              "      <td>NaN</td>\n",
              "      <td>NaN</td>\n",
              "      <td>NaN</td>\n",
              "      <td>NaN</td>\n",
              "      <td>NaN</td>\n",
              "      <td>NaN</td>\n",
              "    </tr>\n",
              "    <tr>\n",
              "      <th>2011-12-31 07:54:00</th>\n",
              "      <td>1325318040</td>\n",
              "      <td>NaN</td>\n",
              "      <td>NaN</td>\n",
              "      <td>NaN</td>\n",
              "      <td>NaN</td>\n",
              "      <td>NaN</td>\n",
              "      <td>NaN</td>\n",
              "      <td>NaN</td>\n",
              "    </tr>\n",
              "    <tr>\n",
              "      <th>2011-12-31 07:55:00</th>\n",
              "      <td>1325318100</td>\n",
              "      <td>NaN</td>\n",
              "      <td>NaN</td>\n",
              "      <td>NaN</td>\n",
              "      <td>NaN</td>\n",
              "      <td>NaN</td>\n",
              "      <td>NaN</td>\n",
              "      <td>NaN</td>\n",
              "    </tr>\n",
              "    <tr>\n",
              "      <th>2011-12-31 07:56:00</th>\n",
              "      <td>1325318160</td>\n",
              "      <td>NaN</td>\n",
              "      <td>NaN</td>\n",
              "      <td>NaN</td>\n",
              "      <td>NaN</td>\n",
              "      <td>NaN</td>\n",
              "      <td>NaN</td>\n",
              "      <td>NaN</td>\n",
              "    </tr>\n",
              "  </tbody>\n",
              "</table>\n",
              "</div>"
            ],
            "text/plain": [
              "                      Timestamp  Open  ...  Volume_(Currency)  Weighted_Price\n",
              "Timestamp                              ...                                   \n",
              "2011-12-31 07:52:00  1325317920  4.39  ...                2.0            4.39\n",
              "2011-12-31 07:53:00  1325317980   NaN  ...                NaN             NaN\n",
              "2011-12-31 07:54:00  1325318040   NaN  ...                NaN             NaN\n",
              "2011-12-31 07:55:00  1325318100   NaN  ...                NaN             NaN\n",
              "2011-12-31 07:56:00  1325318160   NaN  ...                NaN             NaN\n",
              "\n",
              "[5 rows x 8 columns]"
            ]
          },
          "metadata": {},
          "execution_count": 12
        }
      ]
    },
    {
      "cell_type": "markdown",
      "source": [
        "- 데이터가 분단위로 구성"
      ],
      "metadata": {
        "id": "skLahRQ1ZNgT"
      }
    },
    {
      "cell_type": "code",
      "source": [
        "# 필요없어진 기존의 Timestamp 제거\n",
        "data = data.drop(['Timestamp'], axis=1)\n",
        "data.head()"
      ],
      "metadata": {
        "colab": {
          "base_uri": "https://localhost:8080/",
          "height": 238
        },
        "id": "i2a6g0IJZRiw",
        "outputId": "73803c4e-3a7d-489f-d5aa-0f932d47ff7b"
      },
      "execution_count": null,
      "outputs": [
        {
          "output_type": "execute_result",
          "data": {
            "text/html": [
              "<div>\n",
              "<style scoped>\n",
              "    .dataframe tbody tr th:only-of-type {\n",
              "        vertical-align: middle;\n",
              "    }\n",
              "\n",
              "    .dataframe tbody tr th {\n",
              "        vertical-align: top;\n",
              "    }\n",
              "\n",
              "    .dataframe thead th {\n",
              "        text-align: right;\n",
              "    }\n",
              "</style>\n",
              "<table border=\"1\" class=\"dataframe\">\n",
              "  <thead>\n",
              "    <tr style=\"text-align: right;\">\n",
              "      <th></th>\n",
              "      <th>Open</th>\n",
              "      <th>High</th>\n",
              "      <th>Low</th>\n",
              "      <th>Close</th>\n",
              "      <th>Volume_(BTC)</th>\n",
              "      <th>Volume_(Currency)</th>\n",
              "      <th>Weighted_Price</th>\n",
              "    </tr>\n",
              "    <tr>\n",
              "      <th>Timestamp</th>\n",
              "      <th></th>\n",
              "      <th></th>\n",
              "      <th></th>\n",
              "      <th></th>\n",
              "      <th></th>\n",
              "      <th></th>\n",
              "      <th></th>\n",
              "    </tr>\n",
              "  </thead>\n",
              "  <tbody>\n",
              "    <tr>\n",
              "      <th>2011-12-31 07:52:00</th>\n",
              "      <td>4.39</td>\n",
              "      <td>4.39</td>\n",
              "      <td>4.39</td>\n",
              "      <td>4.39</td>\n",
              "      <td>0.455581</td>\n",
              "      <td>2.0</td>\n",
              "      <td>4.39</td>\n",
              "    </tr>\n",
              "    <tr>\n",
              "      <th>2011-12-31 07:53:00</th>\n",
              "      <td>NaN</td>\n",
              "      <td>NaN</td>\n",
              "      <td>NaN</td>\n",
              "      <td>NaN</td>\n",
              "      <td>NaN</td>\n",
              "      <td>NaN</td>\n",
              "      <td>NaN</td>\n",
              "    </tr>\n",
              "    <tr>\n",
              "      <th>2011-12-31 07:54:00</th>\n",
              "      <td>NaN</td>\n",
              "      <td>NaN</td>\n",
              "      <td>NaN</td>\n",
              "      <td>NaN</td>\n",
              "      <td>NaN</td>\n",
              "      <td>NaN</td>\n",
              "      <td>NaN</td>\n",
              "    </tr>\n",
              "    <tr>\n",
              "      <th>2011-12-31 07:55:00</th>\n",
              "      <td>NaN</td>\n",
              "      <td>NaN</td>\n",
              "      <td>NaN</td>\n",
              "      <td>NaN</td>\n",
              "      <td>NaN</td>\n",
              "      <td>NaN</td>\n",
              "      <td>NaN</td>\n",
              "    </tr>\n",
              "    <tr>\n",
              "      <th>2011-12-31 07:56:00</th>\n",
              "      <td>NaN</td>\n",
              "      <td>NaN</td>\n",
              "      <td>NaN</td>\n",
              "      <td>NaN</td>\n",
              "      <td>NaN</td>\n",
              "      <td>NaN</td>\n",
              "      <td>NaN</td>\n",
              "    </tr>\n",
              "  </tbody>\n",
              "</table>\n",
              "</div>"
            ],
            "text/plain": [
              "                     Open  High  ...  Volume_(Currency)  Weighted_Price\n",
              "Timestamp                        ...                                   \n",
              "2011-12-31 07:52:00  4.39  4.39  ...                2.0            4.39\n",
              "2011-12-31 07:53:00   NaN   NaN  ...                NaN             NaN\n",
              "2011-12-31 07:54:00   NaN   NaN  ...                NaN             NaN\n",
              "2011-12-31 07:55:00   NaN   NaN  ...                NaN             NaN\n",
              "2011-12-31 07:56:00   NaN   NaN  ...                NaN             NaN\n",
              "\n",
              "[5 rows x 7 columns]"
            ]
          },
          "metadata": {},
          "execution_count": 13
        }
      ]
    },
    {
      "cell_type": "markdown",
      "source": [
        "- 시간을 분단위가 아닌 일단위로 바꿔준다.\n",
        "> 같은 날짜를 가진 row의 평균을 내서 날짜 단위로 묶어준다"
      ],
      "metadata": {
        "id": "lkWfPAgchwNb"
      }
    },
    {
      "cell_type": "code",
      "source": [
        "data = data.resample('D').mean()\n",
        "data.head()"
      ],
      "metadata": {
        "colab": {
          "base_uri": "https://localhost:8080/",
          "height": 238
        },
        "id": "HuZ9ig-6ZefL",
        "outputId": "915bec30-858c-45f1-c5db-773eb8a0ec29"
      },
      "execution_count": null,
      "outputs": [
        {
          "output_type": "execute_result",
          "data": {
            "text/html": [
              "<div>\n",
              "<style scoped>\n",
              "    .dataframe tbody tr th:only-of-type {\n",
              "        vertical-align: middle;\n",
              "    }\n",
              "\n",
              "    .dataframe tbody tr th {\n",
              "        vertical-align: top;\n",
              "    }\n",
              "\n",
              "    .dataframe thead th {\n",
              "        text-align: right;\n",
              "    }\n",
              "</style>\n",
              "<table border=\"1\" class=\"dataframe\">\n",
              "  <thead>\n",
              "    <tr style=\"text-align: right;\">\n",
              "      <th></th>\n",
              "      <th>Open</th>\n",
              "      <th>High</th>\n",
              "      <th>Low</th>\n",
              "      <th>Close</th>\n",
              "      <th>Volume_(BTC)</th>\n",
              "      <th>Volume_(Currency)</th>\n",
              "      <th>Weighted_Price</th>\n",
              "    </tr>\n",
              "    <tr>\n",
              "      <th>Timestamp</th>\n",
              "      <th></th>\n",
              "      <th></th>\n",
              "      <th></th>\n",
              "      <th></th>\n",
              "      <th></th>\n",
              "      <th></th>\n",
              "      <th></th>\n",
              "    </tr>\n",
              "  </thead>\n",
              "  <tbody>\n",
              "    <tr>\n",
              "      <th>2011-12-31</th>\n",
              "      <td>4.465000</td>\n",
              "      <td>4.482500</td>\n",
              "      <td>4.465000</td>\n",
              "      <td>4.482500</td>\n",
              "      <td>23.829470</td>\n",
              "      <td>106.330084</td>\n",
              "      <td>4.471603</td>\n",
              "    </tr>\n",
              "    <tr>\n",
              "      <th>2012-01-01</th>\n",
              "      <td>4.806667</td>\n",
              "      <td>4.806667</td>\n",
              "      <td>4.806667</td>\n",
              "      <td>4.806667</td>\n",
              "      <td>7.200667</td>\n",
              "      <td>35.259720</td>\n",
              "      <td>4.806667</td>\n",
              "    </tr>\n",
              "    <tr>\n",
              "      <th>2012-01-02</th>\n",
              "      <td>5.000000</td>\n",
              "      <td>5.000000</td>\n",
              "      <td>5.000000</td>\n",
              "      <td>5.000000</td>\n",
              "      <td>19.048000</td>\n",
              "      <td>95.240000</td>\n",
              "      <td>5.000000</td>\n",
              "    </tr>\n",
              "    <tr>\n",
              "      <th>2012-01-03</th>\n",
              "      <td>5.252500</td>\n",
              "      <td>5.252500</td>\n",
              "      <td>5.252500</td>\n",
              "      <td>5.252500</td>\n",
              "      <td>11.004660</td>\n",
              "      <td>58.100651</td>\n",
              "      <td>5.252500</td>\n",
              "    </tr>\n",
              "    <tr>\n",
              "      <th>2012-01-04</th>\n",
              "      <td>5.200000</td>\n",
              "      <td>5.223333</td>\n",
              "      <td>5.200000</td>\n",
              "      <td>5.223333</td>\n",
              "      <td>11.914807</td>\n",
              "      <td>63.119577</td>\n",
              "      <td>5.208159</td>\n",
              "    </tr>\n",
              "  </tbody>\n",
              "</table>\n",
              "</div>"
            ],
            "text/plain": [
              "                Open      High  ...  Volume_(Currency)  Weighted_Price\n",
              "Timestamp                       ...                                   \n",
              "2011-12-31  4.465000  4.482500  ...         106.330084        4.471603\n",
              "2012-01-01  4.806667  4.806667  ...          35.259720        4.806667\n",
              "2012-01-02  5.000000  5.000000  ...          95.240000        5.000000\n",
              "2012-01-03  5.252500  5.252500  ...          58.100651        5.252500\n",
              "2012-01-04  5.200000  5.223333  ...          63.119577        5.208159\n",
              "\n",
              "[5 rows x 7 columns]"
            ]
          },
          "metadata": {},
          "execution_count": 14
        }
      ]
    },
    {
      "cell_type": "code",
      "source": [
        "# 결측치 제거\n",
        "data = data.dropna()\n",
        "data.isnull().sum()"
      ],
      "metadata": {
        "colab": {
          "base_uri": "https://localhost:8080/"
        },
        "id": "iWlA4ktEaP7m",
        "outputId": "516702b6-f1c1-4c56-d698-3f72c8b54750"
      },
      "execution_count": null,
      "outputs": [
        {
          "output_type": "execute_result",
          "data": {
            "text/plain": [
              "Open                 0\n",
              "High                 0\n",
              "Low                  0\n",
              "Close                0\n",
              "Volume_(BTC)         0\n",
              "Volume_(Currency)    0\n",
              "Weighted_Price       0\n",
              "dtype: int64"
            ]
          },
          "metadata": {},
          "execution_count": 15
        }
      ]
    },
    {
      "cell_type": "markdown",
      "source": [
        "## scaling\n",
        "\n",
        "큰 값과 작은 값을 맞춰주지 않으면 학습에 악영향"
      ],
      "metadata": {
        "id": "fTo1tslJaZuH"
      }
    },
    {
      "cell_type": "code",
      "source": [
        "from sklearn.preprocessing import RobustScaler\n",
        "\n",
        "rob_scaler = RobustScaler()\n",
        "\n",
        "# scaling 진행\n",
        "data['open'] = rob_scaler.fit_transform(data['Open'].values.reshape(-1,1))\n",
        "data['high'] = rob_scaler.fit_transform(data['High'].values.reshape(-1,1))\n",
        "data['low'] = rob_scaler.fit_transform(data['Low'].values.reshape(-1,1))\n",
        "data['close'] = rob_scaler.fit_transform(data['Close'].values.reshape(-1,1))\n",
        "data['volume_(BTC)'] = rob_scaler.fit_transform(data['Volume_(BTC)'].values.reshape(-1,1))\n",
        "data['volume_(Currency)'] = rob_scaler.fit_transform(data['Volume_(Currency)'].values.reshape(-1,1))\n",
        "data['weighted_Price'] = rob_scaler.fit_transform(data['Weighted_Price'].values.reshape(-1,1))\n",
        "data.head()"
      ],
      "metadata": {
        "colab": {
          "base_uri": "https://localhost:8080/",
          "height": 344
        },
        "id": "lwTtTYdEac4r",
        "outputId": "9d60f5d9-e16d-48c9-8d10-3303d48b0917"
      },
      "execution_count": null,
      "outputs": [
        {
          "output_type": "execute_result",
          "data": {
            "text/html": [
              "<div>\n",
              "<style scoped>\n",
              "    .dataframe tbody tr th:only-of-type {\n",
              "        vertical-align: middle;\n",
              "    }\n",
              "\n",
              "    .dataframe tbody tr th {\n",
              "        vertical-align: top;\n",
              "    }\n",
              "\n",
              "    .dataframe thead th {\n",
              "        text-align: right;\n",
              "    }\n",
              "</style>\n",
              "<table border=\"1\" class=\"dataframe\">\n",
              "  <thead>\n",
              "    <tr style=\"text-align: right;\">\n",
              "      <th></th>\n",
              "      <th>Open</th>\n",
              "      <th>High</th>\n",
              "      <th>Low</th>\n",
              "      <th>Close</th>\n",
              "      <th>Volume_(BTC)</th>\n",
              "      <th>Volume_(Currency)</th>\n",
              "      <th>Weighted_Price</th>\n",
              "      <th>open</th>\n",
              "      <th>high</th>\n",
              "      <th>low</th>\n",
              "      <th>close</th>\n",
              "      <th>volume_(BTC)</th>\n",
              "      <th>volume_(Currency)</th>\n",
              "      <th>weighted_Price</th>\n",
              "    </tr>\n",
              "    <tr>\n",
              "      <th>Timestamp</th>\n",
              "      <th></th>\n",
              "      <th></th>\n",
              "      <th></th>\n",
              "      <th></th>\n",
              "      <th></th>\n",
              "      <th></th>\n",
              "      <th></th>\n",
              "      <th></th>\n",
              "      <th></th>\n",
              "      <th></th>\n",
              "      <th></th>\n",
              "      <th></th>\n",
              "      <th></th>\n",
              "      <th></th>\n",
              "    </tr>\n",
              "  </thead>\n",
              "  <tbody>\n",
              "    <tr>\n",
              "      <th>2011-12-31</th>\n",
              "      <td>4.465000</td>\n",
              "      <td>4.482500</td>\n",
              "      <td>4.465000</td>\n",
              "      <td>4.482500</td>\n",
              "      <td>23.829470</td>\n",
              "      <td>106.330084</td>\n",
              "      <td>4.471603</td>\n",
              "      <td>-0.099101</td>\n",
              "      <td>-0.099060</td>\n",
              "      <td>-0.099124</td>\n",
              "      <td>-0.099099</td>\n",
              "      <td>1.919561</td>\n",
              "      <td>-0.196897</td>\n",
              "      <td>-0.099097</td>\n",
              "    </tr>\n",
              "    <tr>\n",
              "      <th>2012-01-01</th>\n",
              "      <td>4.806667</td>\n",
              "      <td>4.806667</td>\n",
              "      <td>4.806667</td>\n",
              "      <td>4.806667</td>\n",
              "      <td>7.200667</td>\n",
              "      <td>35.259720</td>\n",
              "      <td>4.806667</td>\n",
              "      <td>-0.099053</td>\n",
              "      <td>-0.099014</td>\n",
              "      <td>-0.099075</td>\n",
              "      <td>-0.099052</td>\n",
              "      <td>-0.049931</td>\n",
              "      <td>-0.198978</td>\n",
              "      <td>-0.099049</td>\n",
              "    </tr>\n",
              "    <tr>\n",
              "      <th>2012-01-02</th>\n",
              "      <td>5.000000</td>\n",
              "      <td>5.000000</td>\n",
              "      <td>5.000000</td>\n",
              "      <td>5.000000</td>\n",
              "      <td>19.048000</td>\n",
              "      <td>95.240000</td>\n",
              "      <td>5.000000</td>\n",
              "      <td>-0.099025</td>\n",
              "      <td>-0.098987</td>\n",
              "      <td>-0.099047</td>\n",
              "      <td>-0.099025</td>\n",
              "      <td>1.353250</td>\n",
              "      <td>-0.197222</td>\n",
              "      <td>-0.099022</td>\n",
              "    </tr>\n",
              "    <tr>\n",
              "      <th>2012-01-03</th>\n",
              "      <td>5.252500</td>\n",
              "      <td>5.252500</td>\n",
              "      <td>5.252500</td>\n",
              "      <td>5.252500</td>\n",
              "      <td>11.004660</td>\n",
              "      <td>58.100651</td>\n",
              "      <td>5.252500</td>\n",
              "      <td>-0.098989</td>\n",
              "      <td>-0.098950</td>\n",
              "      <td>-0.099011</td>\n",
              "      <td>-0.098989</td>\n",
              "      <td>0.400609</td>\n",
              "      <td>-0.198309</td>\n",
              "      <td>-0.098986</td>\n",
              "    </tr>\n",
              "    <tr>\n",
              "      <th>2012-01-04</th>\n",
              "      <td>5.200000</td>\n",
              "      <td>5.223333</td>\n",
              "      <td>5.200000</td>\n",
              "      <td>5.223333</td>\n",
              "      <td>11.914807</td>\n",
              "      <td>63.119577</td>\n",
              "      <td>5.208159</td>\n",
              "      <td>-0.098996</td>\n",
              "      <td>-0.098955</td>\n",
              "      <td>-0.099019</td>\n",
              "      <td>-0.098993</td>\n",
              "      <td>0.508405</td>\n",
              "      <td>-0.198162</td>\n",
              "      <td>-0.098992</td>\n",
              "    </tr>\n",
              "  </tbody>\n",
              "</table>\n",
              "</div>"
            ],
            "text/plain": [
              "                Open      High  ...  volume_(Currency)  weighted_Price\n",
              "Timestamp                       ...                                   \n",
              "2011-12-31  4.465000  4.482500  ...          -0.196897       -0.099097\n",
              "2012-01-01  4.806667  4.806667  ...          -0.198978       -0.099049\n",
              "2012-01-02  5.000000  5.000000  ...          -0.197222       -0.099022\n",
              "2012-01-03  5.252500  5.252500  ...          -0.198309       -0.098986\n",
              "2012-01-04  5.200000  5.223333  ...          -0.198162       -0.098992\n",
              "\n",
              "[5 rows x 14 columns]"
            ]
          },
          "metadata": {},
          "execution_count": 16
        }
      ]
    },
    {
      "cell_type": "code",
      "source": [
        "# scaling된 컬럼만 남기고 기존 값 제거\n",
        "data.drop(['Open','High','Low','Close','Volume_(BTC)','Volume_(Currency)','Weighted_Price'], axis=1, inplace=True)"
      ],
      "metadata": {
        "id": "9pJ5Atk1bZ-C"
      },
      "execution_count": null,
      "outputs": []
    },
    {
      "cell_type": "code",
      "source": [
        "data.head()"
      ],
      "metadata": {
        "colab": {
          "base_uri": "https://localhost:8080/",
          "height": 238
        },
        "id": "DIOy9zmtbp-y",
        "outputId": "e506b8aa-bfa3-4999-b00d-351391c00cca"
      },
      "execution_count": null,
      "outputs": [
        {
          "output_type": "execute_result",
          "data": {
            "text/html": [
              "<div>\n",
              "<style scoped>\n",
              "    .dataframe tbody tr th:only-of-type {\n",
              "        vertical-align: middle;\n",
              "    }\n",
              "\n",
              "    .dataframe tbody tr th {\n",
              "        vertical-align: top;\n",
              "    }\n",
              "\n",
              "    .dataframe thead th {\n",
              "        text-align: right;\n",
              "    }\n",
              "</style>\n",
              "<table border=\"1\" class=\"dataframe\">\n",
              "  <thead>\n",
              "    <tr style=\"text-align: right;\">\n",
              "      <th></th>\n",
              "      <th>open</th>\n",
              "      <th>high</th>\n",
              "      <th>low</th>\n",
              "      <th>close</th>\n",
              "      <th>volume_(BTC)</th>\n",
              "      <th>volume_(Currency)</th>\n",
              "      <th>weighted_Price</th>\n",
              "    </tr>\n",
              "    <tr>\n",
              "      <th>Timestamp</th>\n",
              "      <th></th>\n",
              "      <th></th>\n",
              "      <th></th>\n",
              "      <th></th>\n",
              "      <th></th>\n",
              "      <th></th>\n",
              "      <th></th>\n",
              "    </tr>\n",
              "  </thead>\n",
              "  <tbody>\n",
              "    <tr>\n",
              "      <th>2011-12-31</th>\n",
              "      <td>-0.099101</td>\n",
              "      <td>-0.099060</td>\n",
              "      <td>-0.099124</td>\n",
              "      <td>-0.099099</td>\n",
              "      <td>1.919561</td>\n",
              "      <td>-0.196897</td>\n",
              "      <td>-0.099097</td>\n",
              "    </tr>\n",
              "    <tr>\n",
              "      <th>2012-01-01</th>\n",
              "      <td>-0.099053</td>\n",
              "      <td>-0.099014</td>\n",
              "      <td>-0.099075</td>\n",
              "      <td>-0.099052</td>\n",
              "      <td>-0.049931</td>\n",
              "      <td>-0.198978</td>\n",
              "      <td>-0.099049</td>\n",
              "    </tr>\n",
              "    <tr>\n",
              "      <th>2012-01-02</th>\n",
              "      <td>-0.099025</td>\n",
              "      <td>-0.098987</td>\n",
              "      <td>-0.099047</td>\n",
              "      <td>-0.099025</td>\n",
              "      <td>1.353250</td>\n",
              "      <td>-0.197222</td>\n",
              "      <td>-0.099022</td>\n",
              "    </tr>\n",
              "    <tr>\n",
              "      <th>2012-01-03</th>\n",
              "      <td>-0.098989</td>\n",
              "      <td>-0.098950</td>\n",
              "      <td>-0.099011</td>\n",
              "      <td>-0.098989</td>\n",
              "      <td>0.400609</td>\n",
              "      <td>-0.198309</td>\n",
              "      <td>-0.098986</td>\n",
              "    </tr>\n",
              "    <tr>\n",
              "      <th>2012-01-04</th>\n",
              "      <td>-0.098996</td>\n",
              "      <td>-0.098955</td>\n",
              "      <td>-0.099019</td>\n",
              "      <td>-0.098993</td>\n",
              "      <td>0.508405</td>\n",
              "      <td>-0.198162</td>\n",
              "      <td>-0.098992</td>\n",
              "    </tr>\n",
              "  </tbody>\n",
              "</table>\n",
              "</div>"
            ],
            "text/plain": [
              "                open      high  ...  volume_(Currency)  weighted_Price\n",
              "Timestamp                       ...                                   \n",
              "2011-12-31 -0.099101 -0.099060  ...          -0.196897       -0.099097\n",
              "2012-01-01 -0.099053 -0.099014  ...          -0.198978       -0.099049\n",
              "2012-01-02 -0.099025 -0.098987  ...          -0.197222       -0.099022\n",
              "2012-01-03 -0.098989 -0.098950  ...          -0.198309       -0.098986\n",
              "2012-01-04 -0.098996 -0.098955  ...          -0.198162       -0.098992\n",
              "\n",
              "[5 rows x 7 columns]"
            ]
          },
          "metadata": {},
          "execution_count": 18
        }
      ]
    },
    {
      "cell_type": "markdown",
      "source": [
        "## train, test 데이터 분리"
      ],
      "metadata": {
        "id": "M0PUp-fKbu-4"
      }
    },
    {
      "cell_type": "markdown",
      "source": [
        "**시간순으로 이루어진 데이터들을 이용해 test가 미래의 값을 예측하길 원함**\n",
        "- train과 test를 단순히 섞고, split하는 개념이 아니다.\n",
        "> overfitting, cheating 문제가 생길 수 있다.\n",
        "- train은 이전 시점, test는 미래 시점이 되야 한다."
      ],
      "metadata": {
        "id": "scNlz101b7FB"
      }
    },
    {
      "cell_type": "code",
      "source": [
        "# 처음부터 120일까지 train data에 넣어준다.\n",
        "train = data.iloc[:-120]\n",
        "# 120일부터 마지막까지 test data에 넣어준다.\n",
        "test = data.iloc[-120:]"
      ],
      "metadata": {
        "id": "yJ5RPEc5cNBF"
      },
      "execution_count": null,
      "outputs": []
    },
    {
      "cell_type": "markdown",
      "source": [
        "## 샘플링(섞기)"
      ],
      "metadata": {
        "id": "Z6zkvQfrdpL8"
      }
    },
    {
      "cell_type": "code",
      "source": [
        "# frac=1 모든 데이터를 샘플링해서 재정의\n",
        "train = train.sample(frac=1)\n",
        "test = test.sample(frac=1)"
      ],
      "metadata": {
        "id": "P45WimPVdSL0"
      },
      "execution_count": null,
      "outputs": []
    },
    {
      "cell_type": "code",
      "source": [
        "X_train = train.drop(['weighted_Price'], axis=1)\n",
        "y_train = train['weighted_Price']\n",
        "\n",
        "X_test = test.drop(['weighted_Price'], axis=1)\n",
        "y_test = test['weighted_Price']"
      ],
      "metadata": {
        "id": "hcpM0fNRdg5I"
      },
      "execution_count": null,
      "outputs": []
    },
    {
      "cell_type": "markdown",
      "source": [
        "## DataFrame -> Numpy 변환"
      ],
      "metadata": {
        "id": "H25d4ItTeTw5"
      }
    },
    {
      "cell_type": "code",
      "source": [
        "X_train = X_train.values\n",
        "y_train = y_train.values\n",
        "\n",
        "X_test = X_test.values\n",
        "y_test = y_test.values"
      ],
      "metadata": {
        "id": "qaTRf1XQeMdB"
      },
      "execution_count": null,
      "outputs": []
    },
    {
      "cell_type": "markdown",
      "source": [
        "# 모델 학습(Random forest)"
      ],
      "metadata": {
        "id": "kB-1aBIxei1G"
      }
    },
    {
      "cell_type": "markdown",
      "source": [
        ""
      ],
      "metadata": {
        "id": "PuBMP2GIep0j"
      }
    },
    {
      "cell_type": "code",
      "source": [
        "from sklearn.ensemble import RandomForestRegressor"
      ],
      "metadata": {
        "id": "yyrtl46pesvE"
      },
      "execution_count": null,
      "outputs": []
    },
    {
      "cell_type": "code",
      "source": [
        "random_forest = RandomForestRegressor(n_estimators=100, max_depth=10)\n",
        "random_forest.fit(X_train, y_train)"
      ],
      "metadata": {
        "colab": {
          "base_uri": "https://localhost:8080/"
        },
        "id": "ianl_oNkfDKH",
        "outputId": "58227680-4a42-4e80-bc3c-82d8cf033545"
      },
      "execution_count": null,
      "outputs": [
        {
          "output_type": "execute_result",
          "data": {
            "text/plain": [
              "RandomForestRegressor(max_depth=10)"
            ]
          },
          "metadata": {},
          "execution_count": 25
        }
      ]
    },
    {
      "cell_type": "markdown",
      "source": [
        "# 예측"
      ],
      "metadata": {
        "id": "_nb1eRO9fOhI"
      }
    },
    {
      "cell_type": "code",
      "source": [
        "y_pred = random_forest.predict(X_test)"
      ],
      "metadata": {
        "id": "w6YEQA-5flJl"
      },
      "execution_count": null,
      "outputs": []
    },
    {
      "cell_type": "markdown",
      "source": [
        "# 평가"
      ],
      "metadata": {
        "id": "U8NFmCtQf0Jf"
      }
    },
    {
      "cell_type": "markdown",
      "source": [
        "mse\n",
        "-> 성능확인을 위한 lib"
      ],
      "metadata": {
        "id": "xgh-f4orfU0Y"
      }
    },
    {
      "cell_type": "code",
      "source": [
        "from sklearn.metrics import mean_squared_error"
      ],
      "metadata": {
        "id": "2Y8z-naQe-jk"
      },
      "execution_count": null,
      "outputs": []
    },
    {
      "cell_type": "code",
      "source": [
        "rmse = np.sqrt(mean_squared_error(y_test, y_pred))\n",
        "rmse"
      ],
      "metadata": {
        "colab": {
          "base_uri": "https://localhost:8080/"
        },
        "id": "89KjxrhNf1Wp",
        "outputId": "2f4a25d6-a577-4c59-fd48-f885e5111c5b"
      },
      "execution_count": null,
      "outputs": [
        {
          "output_type": "execute_result",
          "data": {
            "text/plain": [
              "3.422446034113787"
            ]
          },
          "metadata": {},
          "execution_count": 27
        }
      ]
    },
    {
      "cell_type": "markdown",
      "source": [
        "---"
      ],
      "metadata": {
        "id": "4a4qEgMWgLl3"
      }
    },
    {
      "cell_type": "markdown",
      "source": [
        "# 모델 학습(KNN)"
      ],
      "metadata": {
        "id": "k_8QuhoygILU"
      }
    },
    {
      "cell_type": "code",
      "source": [
        "from sklearn.neighbors import KNeighborsRegressor"
      ],
      "metadata": {
        "id": "kf4hLO3hf2E0"
      },
      "execution_count": null,
      "outputs": []
    },
    {
      "cell_type": "code",
      "source": [
        "knn = KNeighborsRegressor(n_neighbors=2)\n",
        "knn.fit(X_train, y_train)"
      ],
      "metadata": {
        "colab": {
          "base_uri": "https://localhost:8080/"
        },
        "id": "CWdZ8qg3gaN2",
        "outputId": "48f27ba9-b146-4240-ac1e-a637ed6fc7e0"
      },
      "execution_count": null,
      "outputs": [
        {
          "output_type": "execute_result",
          "data": {
            "text/plain": [
              "KNeighborsRegressor(n_neighbors=2)"
            ]
          },
          "metadata": {},
          "execution_count": 29
        }
      ]
    },
    {
      "cell_type": "markdown",
      "source": [
        "# 예측"
      ],
      "metadata": {
        "id": "BBEHzMz_gt2k"
      }
    },
    {
      "cell_type": "code",
      "source": [
        "y_pred = knn.predict(X_test)"
      ],
      "metadata": {
        "id": "THDpLTeIgvHd"
      },
      "execution_count": null,
      "outputs": []
    },
    {
      "cell_type": "markdown",
      "source": [
        "# 평가"
      ],
      "metadata": {
        "id": "fNrRKL6Ugxup"
      }
    },
    {
      "cell_type": "code",
      "source": [
        "rmse = np.sqrt(mean_squared_error(y_test, y_pred))\n",
        "rmse"
      ],
      "metadata": {
        "colab": {
          "base_uri": "https://localhost:8080/"
        },
        "id": "mdNGvjUOgyqb",
        "outputId": "2d774c38-6be7-4830-a85b-3a2fdcbcb54c"
      },
      "execution_count": null,
      "outputs": [
        {
          "output_type": "execute_result",
          "data": {
            "text/plain": [
              "3.5168008051237116"
            ]
          },
          "metadata": {},
          "execution_count": 31
        }
      ]
    },
    {
      "cell_type": "markdown",
      "source": [
        "---"
      ],
      "metadata": {
        "id": "Pl5Ebfo5ha3-"
      }
    },
    {
      "cell_type": "markdown",
      "source": [
        "# 결론\n",
        "- rmse값은 작을수록 좋은 성능을 낼 수 있다고 말할 수 있다.\n",
        "- RandomForest가 KNN모델보다 성능이 좋다."
      ],
      "metadata": {
        "id": "p2ZZzOKyg2Jj"
      }
    },
    {
      "cell_type": "code",
      "source": [
        ""
      ],
      "metadata": {
        "id": "5Civ-yrPiUz6"
      },
      "execution_count": null,
      "outputs": []
    }
  ]
}