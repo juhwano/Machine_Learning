{
 "cells": [
  {
   "cell_type": "markdown",
   "id": "f062da71",
   "metadata": {},
   "source": [
    "# 라이브러리 임포트\n",
    "\n",
    "실습에 필요한 라이브러리를 임포트합니다."
   ]
  },
  {
   "cell_type": "code",
   "execution_count": 1,
   "id": "e1cfdbaf",
   "metadata": {
    "ExecuteTime": {
     "end_time": "2021-12-08T02:34:11.276535Z",
     "start_time": "2021-12-08T02:34:10.759438Z"
    }
   },
   "outputs": [],
   "source": [
    "import pandas as pd\n",
    "import numpy as np\n",
    "# sklearn 모델의 돌일한 결과 출력을 위해 선언\n",
    "np.random.seed(5)"
   ]
  },
  {
   "cell_type": "markdown",
   "id": "cd9419e1",
   "metadata": {},
   "source": [
    "# 문제 정의\n",
    "\n",
    "서울 지역(구)의 경도와 위도 정보를 사용하여, 임의로 입력된 지역(동)을\n",
    "강동, 강서, 강남, 강북으로 분류해보자"
   ]
  },
  {
   "cell_type": "markdown",
   "id": "9b40f4f3",
   "metadata": {},
   "source": [
    "# 데이터 수집\n",
    "\n",
    "아래는 서울의 대표적인 구(distict) 위치 데이터입니다.\n",
    "구(district) 정보는 학습에 사용\n",
    "\n",
    "## 컬럼 주석\n",
    "\n",
    "district : 행정구역(서초구, 송파구, 용산구 등 서울의 단위 지역 분류)<br/>\n",
    "dong : 구(district)보다 작은 행정구역(대치동, 도곡동 등 서울의 소단위 분류)<br/>\n",
    "longitude : 경도<br/>\n",
    "latitude : 위도<br/>\n",
    "label : 한강 기준 동,서,남,북으로 구분한 지역 명칭"
   ]
  },
  {
   "cell_type": "code",
   "execution_count": 2,
   "id": "f6c97902",
   "metadata": {
    "ExecuteTime": {
     "end_time": "2021-12-08T02:34:11.291434Z",
     "start_time": "2021-12-08T02:34:11.278432Z"
    }
   },
   "outputs": [],
   "source": [
    "district_dict_list = [\n",
    "            {'district': 'Gangseo-gu', 'latitude': 37.551000, 'longitude': 126.849500, 'label':'Gangseo'},\n",
    "            {'district': 'Yangcheon-gu', 'latitude': 37.52424, 'longitude': 126.855396, 'label':'Gangseo'},\n",
    "            {'district': 'Guro-gu', 'latitude': 37.4954, 'longitude': 126.8874, 'label':'Gangseo'},\n",
    "            {'district': 'Geumcheon-gu', 'latitude': 37.4519, 'longitude': 126.9020, 'label':'Gangseo'},\n",
    "            {'district': 'Mapo-gu', 'latitude': 37.560229, 'longitude': 126.908728, 'label':'Gangseo'},\n",
    "            \n",
    "            {'district': 'Gwanak-gu', 'latitude': 37.487517, 'longitude': 126.915065, 'label':'Gangnam'},\n",
    "            {'district': 'Dongjak-gu', 'latitude': 37.5124, 'longitude': 126.9393, 'label':'Gangnam'},\n",
    "            {'district': 'Seocho-gu', 'latitude': 37.4837, 'longitude': 127.0324, 'label':'Gangnam'},\n",
    "            {'district': 'Gangnam-gu', 'latitude': 37.5172, 'longitude': 127.0473, 'label':'Gangnam'},\n",
    "            {'district': 'Songpa-gu', 'latitude': 37.503510, 'longitude': 127.117898, 'label':'Gangnam'},\n",
    "   \n",
    "            {'district': 'Yongsan-gu', 'latitude': 37.532561, 'longitude': 127.008605, 'label':'Gangbuk'},\n",
    "            {'district': 'Jongro-gu', 'latitude': 37.5730, 'longitude': 126.9794, 'label':'Gangbuk'},\n",
    "            {'district': 'Seongbuk-gu', 'latitude': 37.603979, 'longitude': 127.056344, 'label':'Gangbuk'},\n",
    "            {'district': 'Nowon-gu', 'latitude': 37.6542, 'longitude': 127.0568, 'label':'Gangbuk'},\n",
    "            {'district': 'Dobong-gu', 'latitude': 37.6688, 'longitude': 127.0471, 'label':'Gangbuk'},\n",
    "     \n",
    "            {'district': 'Seongdong-gu', 'latitude': 37.557340, 'longitude': 127.041667, 'label':'Gangdong'},\n",
    "            {'district': 'Dongdaemun-gu', 'latitude': 37.575759, 'longitude': 127.025288, 'label':'Gangdong'},\n",
    "            {'district': 'Gwangjin-gu', 'latitude': 37.557562, 'longitude': 127.083467, 'label':'Gangdong'},\n",
    "            {'district': 'Gangdong-gu', 'latitude': 37.554194, 'longitude': 127.151405, 'label':'Gangdong'},\n",
    "            {'district': 'Jungrang-gu', 'latitude': 37.593684, 'longitude': 127.090384, 'label':'Gangdong'}\n",
    "         ]\n",
    "\n",
    "train_df = pd.DataFrame(district_dict_list)\n",
    "train_df = train_df[['district', 'longitude', 'latitude', 'label']]"
   ]
  },
  {
   "cell_type": "markdown",
   "id": "8ba3ccee",
   "metadata": {},
   "source": [
    "아래는 서울의 대표적인 동, 위치 데이터<br/>\n",
    "동 정보는 테스트 시 사용"
   ]
  },
  {
   "cell_type": "code",
   "execution_count": 3,
   "id": "1b855373",
   "metadata": {
    "ExecuteTime": {
     "end_time": "2021-12-08T02:34:11.322438Z",
     "start_time": "2021-12-08T02:34:11.295431Z"
    }
   },
   "outputs": [],
   "source": [
    "dong_dict_list = [\n",
    "            {'dong': 'Gaebong-dong', 'latitude': 37.489853, 'longitude': 126.854547, 'label':'Gangseo'},\n",
    "            {'dong': 'Gochuk-dong', 'latitude': 37.501394, 'longitude': 126.859245, 'label':'Gangseo'},\n",
    "            {'dong': 'Hwagok-dong', 'latitude': 37.537759, 'longitude': 126.847951, 'label':'Gangseo'},\n",
    "            {'dong': 'Banghwa-dong', 'latitude': 37.575817, 'longitude': 126.815719, 'label':'Gangseo'},\n",
    "            {'dong': 'Sangam-dong', 'latitude': 37.577039, 'longitude': 126.891620, 'label':'Gangseo'},\n",
    "            \n",
    "            {'dong': 'Nonhyun-dong', 'latitude': 37.508838, 'longitude': 127.030720, 'label':'Gangnam'},\n",
    "            {'dong': 'Daechi-dong', 'latitude': 37.501163, 'longitude': 127.057193, 'label':'Gangnam'},\n",
    "            {'dong': 'Seocho-dong', 'latitude': 37.486401, 'longitude': 127.018281, 'label':'Gangnam'},\n",
    "            {'dong': 'Bangbae-dong', 'latitude': 37.483279, 'longitude': 126.988194, 'label':'Gangnam'},\n",
    "            {'dong': 'Dogok-dong', 'latitude': 37.492896, 'longitude': 127.043159, 'label':'Gangnam'},\n",
    "    \n",
    "            {'dong': 'Pyoungchang-dong', 'latitude': 37.612129, 'longitude': 126.975724, 'label':'Gangbuk'},\n",
    "            {'dong': 'Sungbuk-dong', 'latitude': 37.597916, 'longitude': 126.998067, 'label':'Gangbuk'},\n",
    "            {'dong': 'Ssangmoon-dong', 'latitude': 37.648094, 'longitude': 127.030421, 'label':'Gangbuk'},\n",
    "            {'dong': 'Ui-dong', 'latitude': 37.648446, 'longitude': 127.011396, 'label':'Gangbuk'},\n",
    "            {'dong': 'Samcheong-dong', 'latitude': 37.591109, 'longitude': 126.980488, 'label':'Gangbuk'},\n",
    "    \n",
    "            {'dong': 'Hwayang-dong', 'latitude': 37.544234, 'longitude': 127.071648, 'label':'Gangdong'},\n",
    "            {'dong': 'Gui-dong', 'latitude': 37.543757, 'longitude': 127.086803, 'label':'Gangdong'},\n",
    "            {'dong': 'Neung-dong', 'latitude': 37.553102, 'longitude': 127.080248, 'label':'Gangdong'},\n",
    "            {'dong': 'Amsa-dong', 'latitude': 37.552370, 'longitude': 127.127124, 'label':'Gangdong'},\n",
    "            {'dong': 'Chunho-dong', 'latitude': 37.547436, 'longitude': 127.137382, 'label':'Gangdong'}\n",
    "         ]\n",
    "\n",
    "test_df = pd.DataFrame(dong_dict_list)\n",
    "test_df = test_df[['dong', 'longitude', 'latitude', 'label']]"
   ]
  },
  {
   "cell_type": "code",
   "execution_count": 4,
   "id": "ff9cd13f",
   "metadata": {
    "ExecuteTime": {
     "end_time": "2021-12-08T02:34:11.352536Z",
     "start_time": "2021-12-08T02:34:11.324436Z"
    }
   },
   "outputs": [
    {
     "data": {
      "text/plain": [
       "Gangseo     5\n",
       "Gangnam     5\n",
       "Gangbuk     5\n",
       "Gangdong    5\n",
       "Name: label, dtype: int64"
      ]
     },
     "execution_count": 4,
     "metadata": {},
     "output_type": "execute_result"
    }
   ],
   "source": [
    "# 현재 가지고 있는 데이터에서, 레이블의 갯수를 확인\n",
    "train_df.label.value_counts()"
   ]
  },
  {
   "cell_type": "code",
   "execution_count": 5,
   "id": "535def5f",
   "metadata": {
    "ExecuteTime": {
     "end_time": "2021-12-08T02:34:11.368477Z",
     "start_time": "2021-12-08T02:34:11.354474Z"
    }
   },
   "outputs": [
    {
     "data": {
      "text/plain": [
       "Gangseo     5\n",
       "Gangnam     5\n",
       "Gangbuk     5\n",
       "Gangdong    5\n",
       "Name: label, dtype: int64"
      ]
     },
     "execution_count": 5,
     "metadata": {},
     "output_type": "execute_result"
    }
   ],
   "source": [
    "test_df.label.value_counts()"
   ]
  },
  {
   "cell_type": "markdown",
   "id": "16aea18f",
   "metadata": {},
   "source": [
    "레이블의 갯수 확인 결과<br/>\n",
    "데이터는 Gangbuk(강북), Gangseo(강서), Gangdong(강동), Gangnam(강남)이라는 4가지 분류값<br/>\n",
    "이번에는 위도와 경도 정보만으로, 그 지역의 레이블을 예측할 수 있게 데이터 전처리해보겠습니다."
   ]
  },
  {
   "cell_type": "markdown",
   "id": "f9354613",
   "metadata": {},
   "source": [
    "# 데이터 전처리\n",
    "\n",
    "먼저, 경도와 위도의 평균과 편차를 확인해보겠습니다."
   ]
  },
  {
   "cell_type": "code",
   "execution_count": 6,
   "id": "8989b468",
   "metadata": {
    "ExecuteTime": {
     "end_time": "2021-12-08T02:34:11.399433Z",
     "start_time": "2021-12-08T02:34:11.370436Z"
    }
   },
   "outputs": [
    {
     "data": {
      "text/html": [
       "<div>\n",
       "<style scoped>\n",
       "    .dataframe tbody tr th:only-of-type {\n",
       "        vertical-align: middle;\n",
       "    }\n",
       "\n",
       "    .dataframe tbody tr th {\n",
       "        vertical-align: top;\n",
       "    }\n",
       "\n",
       "    .dataframe thead th {\n",
       "        text-align: right;\n",
       "    }\n",
       "</style>\n",
       "<table border=\"1\" class=\"dataframe\">\n",
       "  <thead>\n",
       "    <tr style=\"text-align: right;\">\n",
       "      <th></th>\n",
       "      <th>longitude</th>\n",
       "      <th>latitude</th>\n",
       "    </tr>\n",
       "  </thead>\n",
       "  <tbody>\n",
       "    <tr>\n",
       "      <th>count</th>\n",
       "      <td>20.000000</td>\n",
       "      <td>20.000000</td>\n",
       "    </tr>\n",
       "    <tr>\n",
       "      <th>mean</th>\n",
       "      <td>126.999772</td>\n",
       "      <td>37.547909</td>\n",
       "    </tr>\n",
       "    <tr>\n",
       "      <th>std</th>\n",
       "      <td>0.089387</td>\n",
       "      <td>0.055086</td>\n",
       "    </tr>\n",
       "    <tr>\n",
       "      <th>min</th>\n",
       "      <td>126.849500</td>\n",
       "      <td>37.451900</td>\n",
       "    </tr>\n",
       "    <tr>\n",
       "      <th>25%</th>\n",
       "      <td>126.913481</td>\n",
       "      <td>37.510177</td>\n",
       "    </tr>\n",
       "    <tr>\n",
       "      <th>50%</th>\n",
       "      <td>127.028844</td>\n",
       "      <td>37.552597</td>\n",
       "    </tr>\n",
       "    <tr>\n",
       "      <th>75%</th>\n",
       "      <td>127.056458</td>\n",
       "      <td>37.573690</td>\n",
       "    </tr>\n",
       "    <tr>\n",
       "      <th>max</th>\n",
       "      <td>127.151405</td>\n",
       "      <td>37.668800</td>\n",
       "    </tr>\n",
       "  </tbody>\n",
       "</table>\n",
       "</div>"
      ],
      "text/plain": [
       "        longitude   latitude\n",
       "count   20.000000  20.000000\n",
       "mean   126.999772  37.547909\n",
       "std      0.089387   0.055086\n",
       "min    126.849500  37.451900\n",
       "25%    126.913481  37.510177\n",
       "50%    127.028844  37.552597\n",
       "75%    127.056458  37.573690\n",
       "max    127.151405  37.668800"
      ]
     },
     "execution_count": 6,
     "metadata": {},
     "output_type": "execute_result"
    }
   ],
   "source": [
    "train_df.describe()"
   ]
  },
  {
   "cell_type": "markdown",
   "id": "83b15cfe",
   "metadata": {},
   "source": [
    "경도와 위도는 같은 단위를 사용하는 것을 확인<br/>\n",
    "이번 예제는 의사결정트리로 데이터를 분류<br/>\n",
    "의사결정트리는 각 특징을 독립적으로 사용하기 때문에,<br/>\n",
    "이번 예제에에서는 별다른 전처리 과정이 필요없습니다."
   ]
  },
  {
   "cell_type": "code",
   "execution_count": 7,
   "id": "e2d48fab",
   "metadata": {
    "ExecuteTime": {
     "end_time": "2021-12-08T02:34:11.414445Z",
     "start_time": "2021-12-08T02:34:11.400434Z"
    }
   },
   "outputs": [
    {
     "data": {
      "text/html": [
       "<div>\n",
       "<style scoped>\n",
       "    .dataframe tbody tr th:only-of-type {\n",
       "        vertical-align: middle;\n",
       "    }\n",
       "\n",
       "    .dataframe tbody tr th {\n",
       "        vertical-align: top;\n",
       "    }\n",
       "\n",
       "    .dataframe thead th {\n",
       "        text-align: right;\n",
       "    }\n",
       "</style>\n",
       "<table border=\"1\" class=\"dataframe\">\n",
       "  <thead>\n",
       "    <tr style=\"text-align: right;\">\n",
       "      <th></th>\n",
       "      <th>district</th>\n",
       "      <th>longitude</th>\n",
       "      <th>latitude</th>\n",
       "      <th>label</th>\n",
       "    </tr>\n",
       "  </thead>\n",
       "  <tbody>\n",
       "    <tr>\n",
       "      <th>0</th>\n",
       "      <td>Gangseo-gu</td>\n",
       "      <td>126.849500</td>\n",
       "      <td>37.551000</td>\n",
       "      <td>Gangseo</td>\n",
       "    </tr>\n",
       "    <tr>\n",
       "      <th>1</th>\n",
       "      <td>Yangcheon-gu</td>\n",
       "      <td>126.855396</td>\n",
       "      <td>37.524240</td>\n",
       "      <td>Gangseo</td>\n",
       "    </tr>\n",
       "    <tr>\n",
       "      <th>2</th>\n",
       "      <td>Guro-gu</td>\n",
       "      <td>126.887400</td>\n",
       "      <td>37.495400</td>\n",
       "      <td>Gangseo</td>\n",
       "    </tr>\n",
       "    <tr>\n",
       "      <th>3</th>\n",
       "      <td>Geumcheon-gu</td>\n",
       "      <td>126.902000</td>\n",
       "      <td>37.451900</td>\n",
       "      <td>Gangseo</td>\n",
       "    </tr>\n",
       "    <tr>\n",
       "      <th>4</th>\n",
       "      <td>Mapo-gu</td>\n",
       "      <td>126.908728</td>\n",
       "      <td>37.560229</td>\n",
       "      <td>Gangseo</td>\n",
       "    </tr>\n",
       "  </tbody>\n",
       "</table>\n",
       "</div>"
      ],
      "text/plain": [
       "       district   longitude   latitude    label\n",
       "0    Gangseo-gu  126.849500  37.551000  Gangseo\n",
       "1  Yangcheon-gu  126.855396  37.524240  Gangseo\n",
       "2       Guro-gu  126.887400  37.495400  Gangseo\n",
       "3  Geumcheon-gu  126.902000  37.451900  Gangseo\n",
       "4       Mapo-gu  126.908728  37.560229  Gangseo"
      ]
     },
     "execution_count": 7,
     "metadata": {},
     "output_type": "execute_result"
    }
   ],
   "source": [
    "train_df.head()"
   ]
  },
  {
   "cell_type": "code",
   "execution_count": 8,
   "id": "00ed3fd1",
   "metadata": {
    "ExecuteTime": {
     "end_time": "2021-12-08T02:34:11.429477Z",
     "start_time": "2021-12-08T02:34:11.416449Z"
    }
   },
   "outputs": [
    {
     "data": {
      "text/html": [
       "<div>\n",
       "<style scoped>\n",
       "    .dataframe tbody tr th:only-of-type {\n",
       "        vertical-align: middle;\n",
       "    }\n",
       "\n",
       "    .dataframe tbody tr th {\n",
       "        vertical-align: top;\n",
       "    }\n",
       "\n",
       "    .dataframe thead th {\n",
       "        text-align: right;\n",
       "    }\n",
       "</style>\n",
       "<table border=\"1\" class=\"dataframe\">\n",
       "  <thead>\n",
       "    <tr style=\"text-align: right;\">\n",
       "      <th></th>\n",
       "      <th>dong</th>\n",
       "      <th>longitude</th>\n",
       "      <th>latitude</th>\n",
       "      <th>label</th>\n",
       "    </tr>\n",
       "  </thead>\n",
       "  <tbody>\n",
       "    <tr>\n",
       "      <th>0</th>\n",
       "      <td>Gaebong-dong</td>\n",
       "      <td>126.854547</td>\n",
       "      <td>37.489853</td>\n",
       "      <td>Gangseo</td>\n",
       "    </tr>\n",
       "    <tr>\n",
       "      <th>1</th>\n",
       "      <td>Gochuk-dong</td>\n",
       "      <td>126.859245</td>\n",
       "      <td>37.501394</td>\n",
       "      <td>Gangseo</td>\n",
       "    </tr>\n",
       "    <tr>\n",
       "      <th>2</th>\n",
       "      <td>Hwagok-dong</td>\n",
       "      <td>126.847951</td>\n",
       "      <td>37.537759</td>\n",
       "      <td>Gangseo</td>\n",
       "    </tr>\n",
       "    <tr>\n",
       "      <th>3</th>\n",
       "      <td>Banghwa-dong</td>\n",
       "      <td>126.815719</td>\n",
       "      <td>37.575817</td>\n",
       "      <td>Gangseo</td>\n",
       "    </tr>\n",
       "    <tr>\n",
       "      <th>4</th>\n",
       "      <td>Sangam-dong</td>\n",
       "      <td>126.891620</td>\n",
       "      <td>37.577039</td>\n",
       "      <td>Gangseo</td>\n",
       "    </tr>\n",
       "  </tbody>\n",
       "</table>\n",
       "</div>"
      ],
      "text/plain": [
       "           dong   longitude   latitude    label\n",
       "0  Gaebong-dong  126.854547  37.489853  Gangseo\n",
       "1   Gochuk-dong  126.859245  37.501394  Gangseo\n",
       "2   Hwagok-dong  126.847951  37.537759  Gangseo\n",
       "3  Banghwa-dong  126.815719  37.575817  Gangseo\n",
       "4   Sangam-dong  126.891620  37.577039  Gangseo"
      ]
     },
     "execution_count": 8,
     "metadata": {},
     "output_type": "execute_result"
    }
   ],
   "source": [
    "test_df.head()"
   ]
  },
  {
   "cell_type": "markdown",
   "id": "32fbcfd5",
   "metadata": {},
   "source": [
    "# 데이터 시각화"
   ]
  },
  {
   "cell_type": "markdown",
   "id": "7d6cba4d",
   "metadata": {},
   "source": [
    "데이터 특징을 바탕으로 한 공간에 데이터 특징을 시각화함으로써,<br/>\n",
    "머신러닝 학습에 필요한 특징과 불필요한 특징을 쉽게 구분지을 수 있고,<br/>\n",
    "데이터의 패턴을 눈으로 쉽게 파악할 수 있다."
   ]
  },
  {
   "cell_type": "code",
   "execution_count": 9,
   "id": "75ee954c",
   "metadata": {
    "ExecuteTime": {
     "end_time": "2021-12-08T02:34:12.606639Z",
     "start_time": "2021-12-08T02:34:11.432438Z"
    }
   },
   "outputs": [
    {
     "name": "stderr",
     "output_type": "stream",
     "text": [
      "C:\\DEV\\anaconda\\lib\\site-packages\\seaborn\\_decorators.py:36: FutureWarning: Pass the following variables as keyword args: x, y. From version 0.12, the only valid positional argument will be `data`, and passing other arguments without an explicit keyword will result in an error or misinterpretation.\n",
      "  warnings.warn(\n"
     ]
    },
    {
     "data": {
      "text/plain": [
       "Text(0.5, 1.0, 'district visualization in 2d plane')"
      ]
     },
     "execution_count": 9,
     "metadata": {},
     "output_type": "execute_result"
    },
    {
     "data": {
      "image/png": "[encoded data removed]",
      "text/plain": [
       "<Figure size 447.75x360 with 1 Axes>"
      ]
     },
     "metadata": {
      "needs_background": "light"
     },
     "output_type": "display_data"
    }
   ],
   "source": [
    "import matplotlib.pyplot as plt\n",
    "import seaborn as sns\n",
    "%matplotlib inline\n",
    "\n",
    "# 경도, 위도에 따른 데이터 시각화\n",
    "sns.lmplot('longitude', 'latitude', data=train_df, fit_reg=False,  # x 축, y 축, 데이터, 라인 없음\n",
    "           scatter_kws={\"s\": 150}, # 좌표 상의 점의 크기\n",
    "           markers=[\"o\", \"x\", \"+\", \"*\"],\n",
    "           hue=\"label\")\n",
    "\n",
    "# title\n",
    "plt.title('district visualization in 2d plane')"
   ]
  },
  {
   "cell_type": "markdown",
   "id": "0584fdeb",
   "metadata": {},
   "source": [
    "강서는 동그라미, 강북은 +, 강남은 X, 강동은 별모양으로 표시가 되었습니다.\n",
    "\n",
    "시각화를 통해, 강서는 중심으로부터 서쪽에, 강동은 중심으로부터 동쪽에,\n",
    "강북은 중심으로부터 북쪽에, 강남은 중심으로부터 남쪽에 위치하는 패턴을,\n",
    "쉽게 눈으로 파악할 수 있습니다."
   ]
  },
  {
   "cell_type": "markdown",
   "id": "324ad4d2",
   "metadata": {},
   "source": [
    "# 데이터 다듬기"
   ]
  },
  {
   "cell_type": "markdown",
   "id": "98c49e2b",
   "metadata": {},
   "source": [
    "학습 및 테스트에 필요 없는 특징(feature)을 데이터에서 제거합니다.\n",
    "구 이름 및 동 이름은 학습 및 테스트에 필요 없으므로, 제거합니다."
   ]
  },
  {
   "cell_type": "code",
   "execution_count": 10,
   "id": "bdb435e2",
   "metadata": {
    "ExecuteTime": {
     "end_time": "2021-12-08T02:34:12.622476Z",
     "start_time": "2021-12-08T02:34:12.608477Z"
    }
   },
   "outputs": [],
   "source": [
    "train_df.drop(['district'], axis=1, inplace = True)\n",
    "test_df.drop(['dong'], axis=1, inplace = True)\n",
    "\n",
    "X_train = train_df[['longitude', 'latitude']]\n",
    "y_train = train_df[['label']]\n",
    "\n",
    "X_test = test_df[['longitude', 'latitude']]\n",
    "y_test = test_df[['label']]"
   ]
  },
  {
   "cell_type": "code",
   "execution_count": 11,
   "id": "5e47ce52",
   "metadata": {
    "ExecuteTime": {
     "end_time": "2021-12-08T02:34:12.890125Z",
     "start_time": "2021-12-08T02:34:12.624435Z"
    }
   },
   "outputs": [],
   "source": [
    "from sklearn import tree\n",
    "import numpy as np\n",
    "import matplotlib.pyplot as plt\n",
    "from sklearn import preprocessing"
   ]
  },
  {
   "cell_type": "code",
   "execution_count": 12,
   "id": "9375de90",
   "metadata": {
    "ExecuteTime": {
     "end_time": "2021-12-08T02:34:12.906077Z",
     "start_time": "2021-12-08T02:34:12.891016Z"
    }
   },
   "outputs": [],
   "source": [
    "def display_decision_surface(clf,X, y):\n",
    "    \n",
    "    # 챠트의 범위가 모든 학습 데이터를 포함하도록 설정\n",
    "    x_min = X.longitude.min() - 0.01\n",
    "    x_max = X.longitude.max() + 0.01\n",
    "    y_min = X.latitude.min() - 0.01\n",
    "    y_max = X.latitude.max() + 0.01\n",
    "    \n",
    "    # 파라미터 설정\n",
    "    n_classes = len(le.classes_)\n",
    "    plot_colors = \"rywb\"\n",
    "    plot_step = 0.001\n",
    "\n",
    "    xx, yy = np.meshgrid(np.arange(x_min, x_max, plot_step),\n",
    "                        np.arange(y_min, y_max, plot_step))\n",
    "    \n",
    "    Z = clf.predict(np.c_[xx.ravel(), yy.ravel()])\n",
    "    Z = Z.reshape(xx.shape)\n",
    "    cs = plt.contourf(xx, yy, Z, cmap=plt.cm.RdYlBu)\n",
    "\n",
    "    # 학습 데이터를 챠트에 표시\n",
    "    for i, color in zip(range(n_classes), plot_colors):\n",
    "        idx = np.where(y == i)\n",
    "        plt.scatter(X.loc[idx].longitude, \n",
    "                    X.loc[idx].latitude, \n",
    "                    c=color, \n",
    "                    label=le.classes_[i],\n",
    "                    cmap=plt.cm.RdYlBu, edgecolor='black', s=200)\n",
    "\n",
    "    # 챠트 제목\n",
    "    plt.title(\"Decision surface of a decision tree\",fontsize=16)\n",
    "    # 챠트 기호 설명\n",
    "    plt.legend(bbox_to_anchor=(1.05, 1), loc=2, borderaxespad=0., fontsize=14)\n",
    "    # x축의 이름과 폰트 크기 설정\n",
    "    plt.xlabel('longitude',fontsize=16)\n",
    "    # y축의 이름과 폰트 크기 설정\n",
    "    plt.ylabel('latitude',fontsize=16)\n",
    "    # 챠트 크기 설정\n",
    "    plt.rcParams[\"figure.figsize\"] = [7,5]\n",
    "    # 챠트 폰트 크기 설정\n",
    "    plt.rcParams[\"font.size\"] = 14\n",
    "    # x축 좌표상의 폰트 크기 설정\n",
    "    plt.rcParams[\"xtick.labelsize\"] = 14\n",
    "    # y축 좌표상의 폰트 크기 설정\n",
    "    plt.rcParams[\"ytick.labelsize\"] = 14\n",
    "\n",
    "    # 챠트 그리기\n",
    "    plt.show()"
   ]
  },
  {
   "cell_type": "markdown",
   "id": "e89a5c29",
   "metadata": {},
   "source": [
    "# 파라미터 없이 학습한 모델의 결정 표면 시각화"
   ]
  },
  {
   "cell_type": "markdown",
   "id": "b5ea9137",
   "metadata": {},
   "source": [
    "의사결정트리는 오버피팅되기 상당히 쉬운 모델입니다.\n",
    "별도의 파라미터를 설정해주지 않을 경우, 최대한 학습데이터에만 잘 맞게 모델이 형성됩니다 (오버피팅).\n",
    "아래 챠트를 통해, 학습된 모델이 강남, 강북, 강동, 강서 지역 구분이라기 보다는,\n",
    "단순히 학습 데이터 구분에만 집중된 모델임을 볼 수 있습니다."
   ]
  },
  {
   "cell_type": "code",
   "execution_count": 39,
   "id": "9ac4eae4",
   "metadata": {
    "ExecuteTime": {
     "end_time": "2021-12-08T02:38:07.143471Z",
     "start_time": "2021-12-08T02:38:06.917427Z"
    }
   },
   "outputs": [
    {
     "name": "stderr",
     "output_type": "stream",
     "text": [
      "C:\\DEV\\anaconda\\lib\\site-packages\\sklearn\\utils\\validation.py:63: DataConversionWarning: A column-vector y was passed when a 1d array was expected. Please change the shape of y to (n_samples, ), for example using ravel().\n",
      "  return f(*args, **kwargs)\n"
     ]
    },
    {
     "data": {
      "image/png": "[encoded data removed]",
      "text/plain": [
       "<Figure size 504x360 with 1 Axes>"
      ]
     },
     "metadata": {
      "needs_background": "light"
     },
     "output_type": "display_data"
    }
   ],
   "source": [
    "# pyplot은 숫자로 표현된 레이블을 시각화할 수 있음\n",
    "# LabelEncoder로 레이블을 숫자로 변경\n",
    "le = preprocessing.LabelEncoder()\n",
    "y_encoded = le.fit_transform(y_train)\n",
    "\n",
    "clf = tree.DecisionTreeClassifier().fit(X_train, y_encoded.ravel())\n",
    "display_decision_surface(clf,X_train, y_encoded)"
   ]
  },
  {
   "cell_type": "markdown",
   "id": "23628921",
   "metadata": {},
   "source": [
    "# 파라미터 설정한 모델의 결정 표면 시각화"
   ]
  },
  {
   "cell_type": "markdown",
   "id": "24cad058",
   "metadata": {},
   "source": [
    "아래는 오버피팅을 피하기 위해 별도의 파라미터를 설정한 의사결정트리의 의사결정표면 챠트입니다.\n",
    "오버피팅된 이전의 모델보다, 우리가 목표로 설정한 \"강동, 강서, 강남, 강북\" 구분하기에\n",
    "더 적절한 결정 표면을 확인할 수 있습니다.\n",
    "\n",
    "max_depth : 트리의 최대 한도 깊이<br/>\n",
    "min_samples_split : 자식 노드를 갖기 위한 최소한의 데이터 갯수<br/>\n",
    "mins_samples_leaf : 맨 마지막 끝 노드의 최소 데이터 갯수<br/>\n",
    "random_state : 여러번 실행해도, 파라미터가 같을 경우, 결과가 항상 같게 만들어주는 파라미터"
   ]
  },
  {
   "cell_type": "code",
   "execution_count": 14,
   "id": "f38528c5",
   "metadata": {
    "ExecuteTime": {
     "end_time": "2021-12-08T02:34:13.178012Z",
     "start_time": "2021-12-08T02:34:13.164017Z"
    }
   },
   "outputs": [],
   "source": [
    "clf = tree.DecisionTreeClassifier(max_depth=5, \n",
    "                                  min_samples_split=3,\n",
    "                                  min_samples_leaf=3, \n",
    "                                  random_state=5).fit(X_train, y_encoded.ravel())\n",
    "display_decision_surface(clf,X_train, y_encoded)"
   ]
  },
  {
   "cell_type": "markdown",
   "id": "89c58379",
   "metadata": {},
   "source": [
    "# 의사결정트리 시각화"
   ]
  },
  {
   "cell_type": "markdown",
   "id": "eaa65fc1",
   "metadata": {},
   "source": [
    "의사결정트리의 장점은 예측값이 어떤 식으로 판단되었는 지 이해가 무척 쉽다는 것입니다.\n",
    "다른 모델들에 비해, 큰 수학적인 지식이 없어도, 아래의 트리 그림을 보면, 어떻게 예측값이 도출되었는 지\n",
    "쉽게 알 수 있습니다."
   ]
  },
  {
   "cell_type": "code",
   "execution_count": 15,
   "id": "0c162457",
   "metadata": {
    "ExecuteTime": {
     "end_time": "2021-12-08T02:34:13.194017Z",
     "start_time": "2021-12-08T02:34:13.181017Z"
    }
   },
   "outputs": [],
   "source": [
    "# import graphviz\n",
    "# dot_data = tree.export_graphviz(clf, out_file=None)\n",
    "# graph = graphviz.Source(dot_data)\n",
    "# graph.render(\"seoul\")\n",
    "\n",
    "# dot_data = tree.export_graphviz(clf, out_file=None, \n",
    "#                          feature_names=['longitude','latitude'],  \n",
    "#                          class_names=['Gangbuk', 'Gangdong', 'Gangnam', 'Gangseo'],  \n",
    "#                          filled=True, rounded=True,  \n",
    "#                          special_characters=True)  \n",
    "# graph = graphviz.Source(dot_data)  \n",
    "# graph"
   ]
  },
  {
   "cell_type": "code",
   "execution_count": 16,
   "id": "7674a72f",
   "metadata": {
    "ExecuteTime": {
     "end_time": "2021-12-08T02:34:13.210016Z",
     "start_time": "2021-12-08T02:34:13.196013Z"
    }
   },
   "outputs": [],
   "source": [
    "import matplotlib.pyplot as plt\n",
    "from sklearn.tree import plot_tree"
   ]
  },
  {
   "cell_type": "code",
   "execution_count": 17,
   "id": "01c529c5",
   "metadata": {
    "ExecuteTime": {
     "end_time": "2021-12-08T02:34:13.738057Z",
     "start_time": "2021-12-08T02:34:13.211015Z"
    },
    "scrolled": true
   },
   "outputs": [
    {
     "data": {
      "image/png": "[encoded data removed]",
      "text/plain": [
       "<Figure size 720x504 with 1 Axes>"
      ]
     },
     "metadata": {
      "needs_background": "light"
     },
     "output_type": "display_data"
    }
   ],
   "source": [
    "plt.figure(figsize=(10,7))\n",
    "plot_tree(clf)\n",
    "plt.show()"
   ]
  },
  {
   "cell_type": "markdown",
   "id": "12a0efad",
   "metadata": {},
   "source": [
    "gini : 불순도 척도. 0일 경우, 모든 샘플이 하나의 분류값을 갖으며, 0이 아닐 경우, 1에 가까울수록, 여러 분류값이 한 노드에 존재합니다.\n",
    "samples : 노드 안에 들어 있는 데이터의 갯수\n",
    "value : 분류값 별 데이터의 갯수\n",
    "class : 분류값"
   ]
  },
  {
   "cell_type": "markdown",
   "id": "13ee3a5c",
   "metadata": {},
   "source": [
    "# 테스트"
   ]
  },
  {
   "cell_type": "markdown",
   "id": "8a0c096b",
   "metadata": {},
   "source": [
    "모델을 테스트합니다."
   ]
  },
  {
   "cell_type": "code",
   "execution_count": 18,
   "id": "5e589b44",
   "metadata": {
    "ExecuteTime": {
     "end_time": "2021-12-08T02:34:13.754057Z",
     "start_time": "2021-12-08T02:34:13.739015Z"
    }
   },
   "outputs": [],
   "source": [
    "from sklearn.metrics import accuracy_score\n",
    "pred = clf.predict(X_test)"
   ]
  },
  {
   "cell_type": "markdown",
   "id": "6d4d860a",
   "metadata": {},
   "source": [
    "모델 예측 정확도(accuracy)를 확인합니다."
   ]
  },
  {
   "cell_type": "code",
   "execution_count": 19,
   "id": "abeb7fd2",
   "metadata": {
    "ExecuteTime": {
     "end_time": "2021-12-08T02:34:13.770115Z",
     "start_time": "2021-12-08T02:34:13.757012Z"
    }
   },
   "outputs": [
    {
     "name": "stdout",
     "output_type": "stream",
     "text": [
      "accuracy : 0.95\n"
     ]
    }
   ],
   "source": [
    "print(\"accuracy : \" + str( accuracy_score(y_test.values.ravel(), le.classes_[pred])) )"
   ]
  },
  {
   "cell_type": "markdown",
   "id": "5091bdf0",
   "metadata": {},
   "source": [
    "실제값과 예측값을 비교합니다."
   ]
  },
  {
   "cell_type": "code",
   "execution_count": 20,
   "id": "1673d177",
   "metadata": {
    "ExecuteTime": {
     "end_time": "2021-12-08T02:34:13.801848Z",
     "start_time": "2021-12-08T02:34:13.772032Z"
    }
   },
   "outputs": [
    {
     "data": {
      "text/html": [
       "<div>\n",
       "<style scoped>\n",
       "    .dataframe tbody tr th:only-of-type {\n",
       "        vertical-align: middle;\n",
       "    }\n",
       "\n",
       "    .dataframe tbody tr th {\n",
       "        vertical-align: top;\n",
       "    }\n",
       "\n",
       "    .dataframe thead th {\n",
       "        text-align: right;\n",
       "    }\n",
       "</style>\n",
       "<table border=\"1\" class=\"dataframe\">\n",
       "  <thead>\n",
       "    <tr style=\"text-align: right;\">\n",
       "      <th></th>\n",
       "      <th>prediction</th>\n",
       "      <th>ground_truth</th>\n",
       "    </tr>\n",
       "  </thead>\n",
       "  <tbody>\n",
       "    <tr>\n",
       "      <th>0</th>\n",
       "      <td>Gangseo</td>\n",
       "      <td>Gangseo</td>\n",
       "    </tr>\n",
       "    <tr>\n",
       "      <th>1</th>\n",
       "      <td>Gangseo</td>\n",
       "      <td>Gangseo</td>\n",
       "    </tr>\n",
       "    <tr>\n",
       "      <th>2</th>\n",
       "      <td>Gangseo</td>\n",
       "      <td>Gangseo</td>\n",
       "    </tr>\n",
       "    <tr>\n",
       "      <th>3</th>\n",
       "      <td>Gangseo</td>\n",
       "      <td>Gangseo</td>\n",
       "    </tr>\n",
       "    <tr>\n",
       "      <th>4</th>\n",
       "      <td>Gangseo</td>\n",
       "      <td>Gangseo</td>\n",
       "    </tr>\n",
       "    <tr>\n",
       "      <th>5</th>\n",
       "      <td>Gangnam</td>\n",
       "      <td>Gangnam</td>\n",
       "    </tr>\n",
       "    <tr>\n",
       "      <th>6</th>\n",
       "      <td>Gangnam</td>\n",
       "      <td>Gangnam</td>\n",
       "    </tr>\n",
       "    <tr>\n",
       "      <th>7</th>\n",
       "      <td>Gangnam</td>\n",
       "      <td>Gangnam</td>\n",
       "    </tr>\n",
       "    <tr>\n",
       "      <th>8</th>\n",
       "      <td>Gangnam</td>\n",
       "      <td>Gangnam</td>\n",
       "    </tr>\n",
       "    <tr>\n",
       "      <th>9</th>\n",
       "      <td>Gangnam</td>\n",
       "      <td>Gangnam</td>\n",
       "    </tr>\n",
       "    <tr>\n",
       "      <th>10</th>\n",
       "      <td>Gangbuk</td>\n",
       "      <td>Gangbuk</td>\n",
       "    </tr>\n",
       "    <tr>\n",
       "      <th>11</th>\n",
       "      <td>Gangbuk</td>\n",
       "      <td>Gangbuk</td>\n",
       "    </tr>\n",
       "    <tr>\n",
       "      <th>12</th>\n",
       "      <td>Gangdong</td>\n",
       "      <td>Gangbuk</td>\n",
       "    </tr>\n",
       "    <tr>\n",
       "      <th>13</th>\n",
       "      <td>Gangbuk</td>\n",
       "      <td>Gangbuk</td>\n",
       "    </tr>\n",
       "    <tr>\n",
       "      <th>14</th>\n",
       "      <td>Gangbuk</td>\n",
       "      <td>Gangbuk</td>\n",
       "    </tr>\n",
       "    <tr>\n",
       "      <th>15</th>\n",
       "      <td>Gangdong</td>\n",
       "      <td>Gangdong</td>\n",
       "    </tr>\n",
       "    <tr>\n",
       "      <th>16</th>\n",
       "      <td>Gangdong</td>\n",
       "      <td>Gangdong</td>\n",
       "    </tr>\n",
       "    <tr>\n",
       "      <th>17</th>\n",
       "      <td>Gangdong</td>\n",
       "      <td>Gangdong</td>\n",
       "    </tr>\n",
       "    <tr>\n",
       "      <th>18</th>\n",
       "      <td>Gangdong</td>\n",
       "      <td>Gangdong</td>\n",
       "    </tr>\n",
       "    <tr>\n",
       "      <th>19</th>\n",
       "      <td>Gangdong</td>\n",
       "      <td>Gangdong</td>\n",
       "    </tr>\n",
       "  </tbody>\n",
       "</table>\n",
       "</div>"
      ],
      "text/plain": [
       "   prediction ground_truth\n",
       "0     Gangseo      Gangseo\n",
       "1     Gangseo      Gangseo\n",
       "2     Gangseo      Gangseo\n",
       "3     Gangseo      Gangseo\n",
       "4     Gangseo      Gangseo\n",
       "5     Gangnam      Gangnam\n",
       "6     Gangnam      Gangnam\n",
       "7     Gangnam      Gangnam\n",
       "8     Gangnam      Gangnam\n",
       "9     Gangnam      Gangnam\n",
       "10    Gangbuk      Gangbuk\n",
       "11    Gangbuk      Gangbuk\n",
       "12   Gangdong      Gangbuk\n",
       "13    Gangbuk      Gangbuk\n",
       "14    Gangbuk      Gangbuk\n",
       "15   Gangdong     Gangdong\n",
       "16   Gangdong     Gangdong\n",
       "17   Gangdong     Gangdong\n",
       "18   Gangdong     Gangdong\n",
       "19   Gangdong     Gangdong"
      ]
     },
     "execution_count": 20,
     "metadata": {},
     "output_type": "execute_result"
    }
   ],
   "source": [
    "comparison = pd.DataFrame({'prediction':le.classes_[pred], 'ground_truth':y_test.values.ravel()}) \n",
    "comparison"
   ]
  },
  {
   "cell_type": "code",
   "execution_count": null,
   "id": "18dce891",
   "metadata": {},
   "outputs": [],
   "source": []
  }
 ],
 "metadata": {
  "kernelspec": {
   "display_name": "Python 3 (ipykernel)",
   "language": "python",
   "name": "python3"
  },
  "language_info": {
   "codemirror_mode": {
    "name": "ipython",
    "version": 3
   },
   "file_extension": ".py",
   "mimetype": "text/x-python",
   "name": "python",
   "nbconvert_exporter": "python",
   "pygments_lexer": "ipython3",
   "version": "3.8.12"
  },
  "toc": {
   "base_numbering": 1,
   "nav_menu": {},
   "number_sections": true,
   "sideBar": true,
   "skip_h1_title": false,
   "title_cell": "Table of Contents",
   "title_sidebar": "Contents",
   "toc_cell": false,
   "toc_position": {},
   "toc_section_display": true,
   "toc_window_display": false
  }
 },
 "nbformat": 4,
 "nbformat_minor": 5
}
