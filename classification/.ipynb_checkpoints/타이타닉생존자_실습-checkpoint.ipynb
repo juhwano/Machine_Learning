{
 "cells": [
  {
   "cell_type": "code",
   "execution_count": 14,
   "metadata": {
    "id": "zrJqruAEsfBA",
    "outputId": "aec74259-fb99-4dbd-e695-94c7acf74201"
   },
   "outputs": [
    {
     "data": {
      "text/html": [
       "<div>\n",
       "<style scoped>\n",
       "    .dataframe tbody tr th:only-of-type {\n",
       "        vertical-align: middle;\n",
       "    }\n",
       "\n",
       "    .dataframe tbody tr th {\n",
       "        vertical-align: top;\n",
       "    }\n",
       "\n",
       "    .dataframe thead th {\n",
       "        text-align: right;\n",
       "    }\n",
       "</style>\n",
       "<table border=\"1\" class=\"dataframe\">\n",
       "  <thead>\n",
       "    <tr style=\"text-align: right;\">\n",
       "      <th></th>\n",
       "      <th>PassengerId</th>\n",
       "      <th>Survived</th>\n",
       "      <th>Pclass</th>\n",
       "      <th>Name</th>\n",
       "      <th>Sex</th>\n",
       "      <th>Age</th>\n",
       "      <th>SibSp</th>\n",
       "      <th>Parch</th>\n",
       "      <th>Ticket</th>\n",
       "      <th>Fare</th>\n",
       "      <th>Cabin</th>\n",
       "      <th>Embarked</th>\n",
       "    </tr>\n",
       "  </thead>\n",
       "  <tbody>\n",
       "    <tr>\n",
       "      <th>0</th>\n",
       "      <td>1</td>\n",
       "      <td>0</td>\n",
       "      <td>3</td>\n",
       "      <td>Braund, Mr. Owen Harris</td>\n",
       "      <td>male</td>\n",
       "      <td>22.0</td>\n",
       "      <td>1</td>\n",
       "      <td>0</td>\n",
       "      <td>A/5 21171</td>\n",
       "      <td>7.2500</td>\n",
       "      <td>NaN</td>\n",
       "      <td>S</td>\n",
       "    </tr>\n",
       "    <tr>\n",
       "      <th>1</th>\n",
       "      <td>2</td>\n",
       "      <td>1</td>\n",
       "      <td>1</td>\n",
       "      <td>Cumings, Mrs. John Bradley (Florence Briggs Th...</td>\n",
       "      <td>female</td>\n",
       "      <td>38.0</td>\n",
       "      <td>1</td>\n",
       "      <td>0</td>\n",
       "      <td>PC 17599</td>\n",
       "      <td>71.2833</td>\n",
       "      <td>C85</td>\n",
       "      <td>C</td>\n",
       "    </tr>\n",
       "    <tr>\n",
       "      <th>2</th>\n",
       "      <td>3</td>\n",
       "      <td>1</td>\n",
       "      <td>3</td>\n",
       "      <td>Heikkinen, Miss. Laina</td>\n",
       "      <td>female</td>\n",
       "      <td>26.0</td>\n",
       "      <td>0</td>\n",
       "      <td>0</td>\n",
       "      <td>STON/O2. 3101282</td>\n",
       "      <td>7.9250</td>\n",
       "      <td>NaN</td>\n",
       "      <td>S</td>\n",
       "    </tr>\n",
       "  </tbody>\n",
       "</table>\n",
       "</div>"
      ],
      "text/plain": [
       "   PassengerId  Survived  Pclass  \\\n",
       "0            1         0       3   \n",
       "1            2         1       1   \n",
       "2            3         1       3   \n",
       "\n",
       "                                                Name     Sex   Age  SibSp  \\\n",
       "0                            Braund, Mr. Owen Harris    male  22.0      1   \n",
       "1  Cumings, Mrs. John Bradley (Florence Briggs Th...  female  38.0      1   \n",
       "2                             Heikkinen, Miss. Laina  female  26.0      0   \n",
       "\n",
       "   Parch            Ticket     Fare Cabin Embarked  \n",
       "0      0         A/5 21171   7.2500   NaN        S  \n",
       "1      0          PC 17599  71.2833   C85        C  \n",
       "2      0  STON/O2. 3101282   7.9250   NaN        S  "
      ]
     },
     "execution_count": 14,
     "metadata": {},
     "output_type": "execute_result"
    }
   ],
   "source": [
    "import numpy as np\n",
    "import pandas as pd\n",
    "import matplotlib.pyplot as plt\n",
    "import seaborn as sns\n",
    "%matplotlib inline\n",
    "\n",
    "titanic_df = pd.read_csv('../data/titanic_train.csv')\n",
    "titanic_df.head(3)"
   ]
  },
  {
   "cell_type": "code",
   "execution_count": 15,
   "metadata": {
    "id": "MbYg9LhmsfBC",
    "outputId": "d1ab89d4-c059-4340-d3a1-d09a82d73217"
   },
   "outputs": [
    {
     "name": "stdout",
     "output_type": "stream",
     "text": [
      "\n",
      " ### train 데이터 정보 ###  \n",
      "\n",
      "<class 'pandas.core.frame.DataFrame'>\n",
      "RangeIndex: 891 entries, 0 to 890\n",
      "Data columns (total 12 columns):\n",
      " #   Column       Non-Null Count  Dtype  \n",
      "---  ------       --------------  -----  \n",
      " 0   PassengerId  891 non-null    int64  \n",
      " 1   Survived     891 non-null    int64  \n",
      " 2   Pclass       891 non-null    int64  \n",
      " 3   Name         891 non-null    object \n",
      " 4   Sex          891 non-null    object \n",
      " 5   Age          714 non-null    float64\n",
      " 6   SibSp        891 non-null    int64  \n",
      " 7   Parch        891 non-null    int64  \n",
      " 8   Ticket       891 non-null    object \n",
      " 9   Fare         891 non-null    float64\n",
      " 10  Cabin        204 non-null    object \n",
      " 11  Embarked     889 non-null    object \n",
      "dtypes: float64(2), int64(5), object(5)\n",
      "memory usage: 83.7+ KB\n",
      "None\n"
     ]
    }
   ],
   "source": [
    "print('\\n ### train 데이터 정보 ###  \\n')\n",
    "print(titanic_df.info())"
   ]
  },
  {
   "cell_type": "code",
   "execution_count": 16,
   "metadata": {
    "id": "-zHclzY-sfBD",
    "outputId": "4e166028-f2b1-41c6-af6c-f35fa87e7a3e"
   },
   "outputs": [
    {
     "name": "stdout",
     "output_type": "stream",
     "text": [
      "데이터 세트 Null 값 갯수  0\n"
     ]
    }
   ],
   "source": [
    "titanic_df['Age'].fillna(titanic_df['Age'].mean(),inplace=True)\n",
    "titanic_df['Cabin'].fillna('N',inplace=True)\n",
    "titanic_df['Embarked'].fillna('N',inplace=True)\n",
    "print('데이터 세트 Null 값 갯수 ',titanic_df.isnull().sum().sum())"
   ]
  },
  {
   "cell_type": "code",
   "execution_count": 17,
   "metadata": {
    "id": "edOvfMb_sfBE",
    "outputId": "40a619c0-5bad-4c47-88e3-8f363243e7d3"
   },
   "outputs": [
    {
     "name": "stdout",
     "output_type": "stream",
     "text": [
      " Sex 값 분포 :\n",
      " male      577\n",
      "female    314\n",
      "Name: Sex, dtype: int64\n",
      "\n",
      " Cabin 값 분포 :\n",
      " N              687\n",
      "C23 C25 C27      4\n",
      "G6               4\n",
      "B96 B98          4\n",
      "C22 C26          3\n",
      "              ... \n",
      "E34              1\n",
      "C7               1\n",
      "C54              1\n",
      "E36              1\n",
      "C148             1\n",
      "Name: Cabin, Length: 148, dtype: int64\n",
      "\n",
      " Embarked 값 분포 :\n",
      " S    644\n",
      "C    168\n",
      "Q     77\n",
      "N      2\n",
      "Name: Embarked, dtype: int64\n"
     ]
    }
   ],
   "source": [
    "print(' Sex 값 분포 :\\n',titanic_df['Sex'].value_counts())\n",
    "print('\\n Cabin 값 분포 :\\n',titanic_df['Cabin'].value_counts())\n",
    "print('\\n Embarked 값 분포 :\\n',titanic_df['Embarked'].value_counts())"
   ]
  },
  {
   "cell_type": "code",
   "execution_count": 18,
   "metadata": {
    "id": "3qplJvTfsfBF",
    "outputId": "da93c0a5-e0a5-4ea4-dbdf-55116450efd4"
   },
   "outputs": [
    {
     "name": "stdout",
     "output_type": "stream",
     "text": [
      "0    N\n",
      "1    C\n",
      "2    N\n",
      "Name: Cabin, dtype: object\n"
     ]
    }
   ],
   "source": [
    "titanic_df['Cabin'] = titanic_df['Cabin'].str[:1]\n",
    "print(titanic_df['Cabin'].head(3))"
   ]
  },
  {
   "cell_type": "code",
   "execution_count": 19,
   "metadata": {
    "id": "wQRSsM24sfBF",
    "outputId": "728d60b0-3f08-4b57-973d-6cb8b05796fd"
   },
   "outputs": [
    {
     "data": {
      "text/plain": [
       "Sex     Survived\n",
       "female  0            81\n",
       "        1           233\n",
       "male    0           468\n",
       "        1           109\n",
       "Name: Survived, dtype: int64"
      ]
     },
     "execution_count": 19,
     "metadata": {},
     "output_type": "execute_result"
    }
   ],
   "source": [
    "titanic_df.groupby(['Sex','Survived'])['Survived'].count()"
   ]
  },
  {
   "cell_type": "code",
   "execution_count": 20,
   "metadata": {
    "id": "I97bGQohsfBG",
    "outputId": "65e7c800-cf8c-40f9-8db5-67a225a2ceaa"
   },
   "outputs": [
    {
     "data": {
      "text/plain": [
       "<AxesSubplot:xlabel='Sex', ylabel='Survived'>"
      ]
     },
     "execution_count": 20,
     "metadata": {},
     "output_type": "execute_result"
    },
    {
     "data": {
      "image/png": "[encoded data removed]",
      "text/plain": [
       "<Figure size 432x288 with 1 Axes>"
      ]
     },
     "metadata": {
      "needs_background": "light"
     },
     "output_type": "display_data"
    }
   ],
   "source": [
    "sns.barplot(x='Sex', y = 'Survived', data=titanic_df)"
   ]
  },
  {
   "cell_type": "code",
   "execution_count": 21,
   "metadata": {
    "id": "38uS_Lf8sfBG",
    "outputId": "ddf07acf-2aeb-4806-cfee-e319eee8ede7"
   },
   "outputs": [
    {
     "data": {
      "text/plain": [
       "<AxesSubplot:xlabel='Pclass', ylabel='Survived'>"
      ]
     },
     "execution_count": 21,
     "metadata": {},
     "output_type": "execute_result"
    },
    {
     "data": {
      "image/png": "[encoded data removed]",
      "text/plain": [
       "<Figure size 432x288 with 1 Axes>"
      ]
     },
     "metadata": {
      "needs_background": "light"
     },
     "output_type": "display_data"
    }
   ],
   "source": [
    "sns.barplot(x='Pclass', y='Survived', hue='Sex', data=titanic_df)"
   ]
  },
  {
   "cell_type": "code",
   "execution_count": 22,
   "metadata": {
    "id": "kP6VIkqVsfBH",
    "outputId": "1b85a74c-b1ab-47e3-e774-c396844e8624"
   },
   "outputs": [
    {
     "data": {
      "image/png": "[encoded data removed]",
      "text/plain": [
       "<Figure size 720x432 with 1 Axes>"
      ]
     },
     "metadata": {
      "needs_background": "light"
     },
     "output_type": "display_data"
    }
   ],
   "source": [
    "# 입력 age에 따라 구분값을 반환하는 함수 설정. DataFrame의 apply lambda식에 사용. \n",
    "def get_category(age):\n",
    "    cat = ''\n",
    "    if age <= -1: cat = 'Unknown'\n",
    "    elif age <= 5: cat = 'Baby'\n",
    "    elif age <= 12: cat = 'Child'\n",
    "    elif age <= 18: cat = 'Teenager'\n",
    "    elif age <= 25: cat = 'Student'\n",
    "    elif age <= 35: cat = 'Young Adult'\n",
    "    elif age <= 60: cat = 'Adult'\n",
    "    else : cat = 'Elderly'\n",
    "    \n",
    "    return cat\n",
    "\n",
    "# 막대그래프의 크기 figure를 더 크게 설정 \n",
    "plt.figure(figsize=(10,6))\n",
    "\n",
    "#X축의 값을 순차적으로 표시하기 위한 설정 \n",
    "group_names = ['Unknown', 'Baby', 'Child', 'Teenager', 'Student', 'Young Adult', 'Adult', 'Elderly']\n",
    "\n",
    "# lambda 식에 위에서 생성한 get_category( ) 함수를 반환값으로 지정. \n",
    "# get_category(X)는 입력값으로 'Age' 컬럼값을 받아서 해당하는 cat 반환\n",
    "titanic_df['Age_cat'] = titanic_df['Age'].apply(lambda x : get_category(x))\n",
    "sns.barplot(x='Age_cat', y = 'Survived', hue='Sex', data=titanic_df, order=group_names)\n",
    "titanic_df.drop('Age_cat', axis=1, inplace=True)"
   ]
  },
  {
   "cell_type": "code",
   "execution_count": 23,
   "metadata": {
    "id": "KLMVw-aFsfBI",
    "outputId": "aba59c91-afb2-4802-c903-f6467f0ac099"
   },
   "outputs": [
    {
     "data": {
      "text/html": [
       "<div>\n",
       "<style scoped>\n",
       "    .dataframe tbody tr th:only-of-type {\n",
       "        vertical-align: middle;\n",
       "    }\n",
       "\n",
       "    .dataframe tbody tr th {\n",
       "        vertical-align: top;\n",
       "    }\n",
       "\n",
       "    .dataframe thead th {\n",
       "        text-align: right;\n",
       "    }\n",
       "</style>\n",
       "<table border=\"1\" class=\"dataframe\">\n",
       "  <thead>\n",
       "    <tr style=\"text-align: right;\">\n",
       "      <th></th>\n",
       "      <th>PassengerId</th>\n",
       "      <th>Survived</th>\n",
       "      <th>Pclass</th>\n",
       "      <th>Name</th>\n",
       "      <th>Sex</th>\n",
       "      <th>Age</th>\n",
       "      <th>SibSp</th>\n",
       "      <th>Parch</th>\n",
       "      <th>Ticket</th>\n",
       "      <th>Fare</th>\n",
       "      <th>Cabin</th>\n",
       "      <th>Embarked</th>\n",
       "    </tr>\n",
       "  </thead>\n",
       "  <tbody>\n",
       "    <tr>\n",
       "      <th>0</th>\n",
       "      <td>1</td>\n",
       "      <td>0</td>\n",
       "      <td>3</td>\n",
       "      <td>Braund, Mr. Owen Harris</td>\n",
       "      <td>1</td>\n",
       "      <td>22.0</td>\n",
       "      <td>1</td>\n",
       "      <td>0</td>\n",
       "      <td>A/5 21171</td>\n",
       "      <td>7.2500</td>\n",
       "      <td>7</td>\n",
       "      <td>3</td>\n",
       "    </tr>\n",
       "    <tr>\n",
       "      <th>1</th>\n",
       "      <td>2</td>\n",
       "      <td>1</td>\n",
       "      <td>1</td>\n",
       "      <td>Cumings, Mrs. John Bradley (Florence Briggs Th...</td>\n",
       "      <td>0</td>\n",
       "      <td>38.0</td>\n",
       "      <td>1</td>\n",
       "      <td>0</td>\n",
       "      <td>PC 17599</td>\n",
       "      <td>71.2833</td>\n",
       "      <td>2</td>\n",
       "      <td>0</td>\n",
       "    </tr>\n",
       "    <tr>\n",
       "      <th>2</th>\n",
       "      <td>3</td>\n",
       "      <td>1</td>\n",
       "      <td>3</td>\n",
       "      <td>Heikkinen, Miss. Laina</td>\n",
       "      <td>0</td>\n",
       "      <td>26.0</td>\n",
       "      <td>0</td>\n",
       "      <td>0</td>\n",
       "      <td>STON/O2. 3101282</td>\n",
       "      <td>7.9250</td>\n",
       "      <td>7</td>\n",
       "      <td>3</td>\n",
       "    </tr>\n",
       "    <tr>\n",
       "      <th>3</th>\n",
       "      <td>4</td>\n",
       "      <td>1</td>\n",
       "      <td>1</td>\n",
       "      <td>Futrelle, Mrs. Jacques Heath (Lily May Peel)</td>\n",
       "      <td>0</td>\n",
       "      <td>35.0</td>\n",
       "      <td>1</td>\n",
       "      <td>0</td>\n",
       "      <td>113803</td>\n",
       "      <td>53.1000</td>\n",
       "      <td>2</td>\n",
       "      <td>3</td>\n",
       "    </tr>\n",
       "    <tr>\n",
       "      <th>4</th>\n",
       "      <td>5</td>\n",
       "      <td>0</td>\n",
       "      <td>3</td>\n",
       "      <td>Allen, Mr. William Henry</td>\n",
       "      <td>1</td>\n",
       "      <td>35.0</td>\n",
       "      <td>0</td>\n",
       "      <td>0</td>\n",
       "      <td>373450</td>\n",
       "      <td>8.0500</td>\n",
       "      <td>7</td>\n",
       "      <td>3</td>\n",
       "    </tr>\n",
       "  </tbody>\n",
       "</table>\n",
       "</div>"
      ],
      "text/plain": [
       "   PassengerId  Survived  Pclass  \\\n",
       "0            1         0       3   \n",
       "1            2         1       1   \n",
       "2            3         1       3   \n",
       "3            4         1       1   \n",
       "4            5         0       3   \n",
       "\n",
       "                                                Name  Sex   Age  SibSp  Parch  \\\n",
       "0                            Braund, Mr. Owen Harris    1  22.0      1      0   \n",
       "1  Cumings, Mrs. John Bradley (Florence Briggs Th...    0  38.0      1      0   \n",
       "2                             Heikkinen, Miss. Laina    0  26.0      0      0   \n",
       "3       Futrelle, Mrs. Jacques Heath (Lily May Peel)    0  35.0      1      0   \n",
       "4                           Allen, Mr. William Henry    1  35.0      0      0   \n",
       "\n",
       "             Ticket     Fare  Cabin  Embarked  \n",
       "0         A/5 21171   7.2500      7         3  \n",
       "1          PC 17599  71.2833      2         0  \n",
       "2  STON/O2. 3101282   7.9250      7         3  \n",
       "3            113803  53.1000      2         3  \n",
       "4            373450   8.0500      7         3  "
      ]
     },
     "execution_count": 23,
     "metadata": {},
     "output_type": "execute_result"
    }
   ],
   "source": [
    "from sklearn import preprocessing\n",
    "\n",
    "def encode_features(dataDF):\n",
    "    features = ['Cabin', 'Sex', 'Embarked']\n",
    "    for feature in features:\n",
    "        le = preprocessing.LabelEncoder()\n",
    "        le = le.fit(dataDF[feature])\n",
    "        dataDF[feature] = le.transform(dataDF[feature])\n",
    "        \n",
    "    return dataDF\n",
    "\n",
    "titanic_df = encode_features(titanic_df)\n",
    "titanic_df.head()"
   ]
  },
  {
   "cell_type": "code",
   "execution_count": 24,
   "metadata": {
    "id": "vSYVL2kssfBJ"
   },
   "outputs": [],
   "source": [
    "from sklearn.preprocessing import LabelEncoder\n",
    "\n",
    "# Null 처리 함수\n",
    "def fillna(df):\n",
    "    df['Age'].fillna(df['Age'].mean(),inplace=True)\n",
    "    df['Cabin'].fillna('N',inplace=True)\n",
    "    df['Embarked'].fillna('N',inplace=True)\n",
    "    df['Fare'].fillna(0,inplace=True)\n",
    "    return df\n",
    "\n",
    "# 머신러닝 알고리즘에 불필요한 속성 제거\n",
    "def drop_features(df):\n",
    "    df.drop(['PassengerId','Name','Ticket'],axis=1,inplace=True)\n",
    "    return df\n",
    "\n",
    "# 레이블 인코딩 수행. \n",
    "def format_features(df):\n",
    "    df['Cabin'] = df['Cabin'].str[:1]\n",
    "    features = ['Cabin','Sex','Embarked']\n",
    "    for feature in features:\n",
    "        le = LabelEncoder()\n",
    "        le = le.fit(df[feature])\n",
    "        df[feature] = le.transform(df[feature])\n",
    "    return df\n",
    "\n",
    "# 앞에서 설정한 Data Preprocessing 함수 호출\n",
    "def transform_features(df):\n",
    "    df = fillna(df)\n",
    "    df = drop_features(df)\n",
    "    df = format_features(df)\n",
    "    return df\n"
   ]
  },
  {
   "cell_type": "code",
   "execution_count": 26,
   "metadata": {
    "id": "8fIEyqiNsfBJ"
   },
   "outputs": [],
   "source": [
    "# 원본 데이터를 재로딩 하고, feature데이터 셋과 Label 데이터 셋 추출. \n",
    "titanic_df = pd.read_csv('../data/titanic_train.csv')\n",
    "y_titanic_df = titanic_df['Survived']\n",
    "X_titanic_df= titanic_df.drop('Survived',axis=1)\n",
    "\n",
    "X_titanic_df = transform_features(X_titanic_df)"
   ]
  },
  {
   "cell_type": "code",
   "execution_count": 27,
   "metadata": {
    "id": "YBZUpaWzsfBK"
   },
   "outputs": [],
   "source": [
    "from sklearn.model_selection import train_test_split\n",
    "X_train, X_test, y_train, y_test=train_test_split(X_titanic_df, y_titanic_df, \\\n",
    "                                                  test_size=0.2, random_state=11)\n"
   ]
  },
  {
   "cell_type": "code",
   "execution_count": 28,
   "metadata": {
    "id": "izTJtRblsfBK",
    "outputId": "33b742a9-02d3-48a3-8671-d39f1f7dd0c1"
   },
   "outputs": [
    {
     "name": "stdout",
     "output_type": "stream",
     "text": [
      "DecisionTreeClassifier 정확도: 0.7877\n",
      "RandomForestClassifier 정확도:0.8547\n",
      "LogisticRegression 정확도: 0.8492\n",
      "SVM 정확도: 0.8492\n"
     ]
    },
    {
     "name": "stderr",
     "output_type": "stream",
     "text": [
      "C:\\Users\\Oh Won Ju\\anaconda3\\lib\\site-packages\\sklearn\\linear_model\\_logistic.py:763: ConvergenceWarning: lbfgs failed to converge (status=1):\n",
      "STOP: TOTAL NO. of ITERATIONS REACHED LIMIT.\n",
      "\n",
      "Increase the number of iterations (max_iter) or scale the data as shown in:\n",
      "    https://scikit-learn.org/stable/modules/preprocessing.html\n",
      "Please also refer to the documentation for alternative solver options:\n",
      "    https://scikit-learn.org/stable/modules/linear_model.html#logistic-regression\n",
      "  n_iter_i = _check_optimize_result(\n"
     ]
    }
   ],
   "source": [
    "from sklearn.tree import DecisionTreeClassifier\n",
    "from sklearn.ensemble import RandomForestClassifier\n",
    "from sklearn.linear_model import LogisticRegression\n",
    "from sklearn.svm import SVC\n",
    "from sklearn.metrics import accuracy_score\n",
    "\n",
    "# 결정트리, Random Forest, 로지스틱 회귀를 위한 사이킷런 Classifier 클래스 생성\n",
    "dt_clf = DecisionTreeClassifier(random_state=11)\n",
    "rf_clf = RandomForestClassifier(random_state=11)\n",
    "lr_clf = LogisticRegression()\n",
    "svm_svc = SVC() ##추가해보자.!!\n",
    "\n",
    "# DecisionTreeClassifier 학습/예측/평가\n",
    "dt_clf.fit(X_train , y_train)\n",
    "dt_pred = dt_clf.predict(X_test)\n",
    "print('DecisionTreeClassifier 정확도: {0:.4f}'.format(accuracy_score(y_test, dt_pred)))\n",
    "\n",
    "# RandomForestClassifier 학습/예측/평가\n",
    "rf_clf.fit(X_train , y_train)\n",
    "rf_pred = rf_clf.predict(X_test)\n",
    "print('RandomForestClassifier 정확도:{0:.4f}'.format(accuracy_score(y_test, rf_pred)))\n",
    "\n",
    "# LogisticRegression 학습/예측/평가\n",
    "lr_clf.fit(X_train , y_train)\n",
    "lr_pred = lr_clf.predict(X_test)\n",
    "print('LogisticRegression 정확도: {0:.4f}'.format(accuracy_score(y_test, lr_pred)))\n",
    "\n",
    "\n",
    "# SVM 학습/예측/평가\n",
    "svm_svc.fit(X_train , y_train)\n",
    "svm_pred = lr_clf.predict(X_test)\n",
    "print('SVM 정확도: {0:.4f}'.format(accuracy_score(y_test, lr_pred)))"
   ]
  },
  {
   "cell_type": "code",
   "execution_count": 32,
   "metadata": {},
   "outputs": [],
   "source": [
    "# RandomForest -> DecisionTree를 여러번 돌려서 가장 좋은거 뽑음"
   ]
  },
  {
   "cell_type": "code",
   "execution_count": 33,
   "metadata": {},
   "outputs": [],
   "source": [
    "# k-fold로 모델 선택하고 grid search로 그 모델의 하이퍼 파라미터를 수정"
   ]
  },
  {
   "cell_type": "code",
   "execution_count": 51,
   "metadata": {},
   "outputs": [],
   "source": [
    "from sklearn.model_selection import KFold"
   ]
  },
  {
   "cell_type": "code",
   "execution_count": 57,
   "metadata": {},
   "outputs": [],
   "source": [
    "kfold = KFold(n_splits=5,shuffle=True,random_state=42) # k-fold의 결과는 튜플"
   ]
  },
  {
   "cell_type": "code",
   "execution_count": 58,
   "metadata": {},
   "outputs": [
    {
     "name": "stdout",
     "output_type": "stream",
     "text": [
      "0\n",
      "1\n",
      "2\n",
      "3\n",
      "4\n"
     ]
    }
   ],
   "source": [
    "for iter_count, (train_index, test_index) in enumerate(kfold.split(X_titanic_df)):\n",
    "    print(iter_count)"
   ]
  },
  {
   "cell_type": "code",
   "execution_count": 59,
   "metadata": {},
   "outputs": [
    {
     "data": {
      "text/plain": [
       "(891, 8)"
      ]
     },
     "execution_count": 59,
     "metadata": {},
     "output_type": "execute_result"
    }
   ],
   "source": [
    "X_titanic_df.shape"
   ]
  },
  {
   "cell_type": "code",
   "execution_count": 60,
   "metadata": {},
   "outputs": [
    {
     "data": {
      "text/plain": [
       "<generator object _BaseKFold.split at 0x0000022A13A11D60>"
      ]
     },
     "execution_count": 60,
     "metadata": {},
     "output_type": "execute_result"
    }
   ],
   "source": [
    "kfold.split(X_titanic_df)"
   ]
  },
  {
   "cell_type": "code",
   "execution_count": 56,
   "metadata": {},
   "outputs": [
    {
     "name": "stdout",
     "output_type": "stream",
     "text": [
      "0 [  0   1   2   3   4   5   7   8   9  10  12  14  15  16  18  20  21  22\n",
      "  23  24  25  26  27  28  30  31  32  33  34  36  37  38  39  43  44  46\n",
      "  47  48  49  50  52  53  54  55  57  58  59  60  61  64  65  66  69  70\n",
      "  71  72  73  76  77  78  79  82  83  85  86  87  88  89  90  91  92  93\n",
      "  95  96  97  98 100 101 102 103 104 105 106 107 108 109 110 111 113 115\n",
      " 116 117 118 119 120 121 122 123 124 125 126 127 128 129 130 131 133 134\n",
      " 136 137 139 141 142 143 144 147 149 150 153 154 155 156 157 158 159 160\n",
      " 162 163 164 165 167 168 169 170 171 173 174 175 181 183 185 186 187 188\n",
      " 189 192 193 194 195 196 197 198 199 200 201 202 203 205 206 207 208 209\n",
      " 210 211 212 213 214 216 217 218 219 221 222 223 224 225 226 227 228 229\n",
      " 230 232 233 235 236 238 239 241 242 243 244 246 247 248 249 250 253 255\n",
      " 256 257 258 259 260 261 262 263 265 267 268 271 272 273 274 275 276 278\n",
      " 279 280 282 283 284 285 286 287 288 289 290 291 292 293 294 295 296 299\n",
      " 300 301 302 304 305 306 307 309 310 312 313 314 316 317 318 319 320 321\n",
      " 322 323 324 325 328 329 330 331 332 333 334 335 336 337 339 340 341 343\n",
      " 344 345 346 347 348 349 350 354 355 356 357 358 359 360 361 362 363 365\n",
      " 366 368 369 370 373 374 375 376 377 379 380 381 382 385 386 388 389 390\n",
      " 391 392 394 396 397 398 399 400 402 403 405 406 407 408 409 410 412 413\n",
      " 414 415 417 418 419 421 422 423 424 425 426 427 428 429 430 432 433 434\n",
      " 435 436 437 438 439 441 442 443 444 445 447 448 450 451 454 455 456 457\n",
      " 458 459 461 462 463 465 466 467 469 470 471 472 473 474 477 478 479 480\n",
      " 482 483 484 487 488 489 490 491 492 493 494 495 497 498 499 500 501 502\n",
      " 503 504 506 508 510 512 513 514 515 517 518 519 520 521 522 523 524 525\n",
      " 526 527 528 529 530 531 532 533 534 535 536 538 540 541 542 543 545 546\n",
      " 547 548 549 550 551 552 553 554 555 556 557 558 559 561 565 566 567 568\n",
      " 569 571 572 573 574 575 576 577 578 579 581 582 583 585 586 587 588 589\n",
      " 590 592 593 594 596 597 598 599 600 601 602 603 605 606 607 608 609 610\n",
      " 611 612 613 614 615 617 618 619 620 621 624 625 626 627 628 629 630 631\n",
      " 632 633 634 635 636 637 641 642 644 645 646 647 648 649 651 653 656 657\n",
      " 658 659 660 661 662 663 664 665 666 667 668 669 670 671 672 673 674 675\n",
      " 676 677 678 680 681 682 684 685 686 687 691 692 693 694 695 696 697 698\n",
      " 699 700 701 702 703 704 705 706 707 709 711 712 713 715 717 718 719 720\n",
      " 721 722 723 724 725 727 728 730 731 732 733 735 736 738 739 742 743 744\n",
      " 745 746 747 748 749 751 752 753 754 755 756 757 760 762 763 765 766 767\n",
      " 769 770 771 772 773 774 775 776 777 778 779 782 783 785 786 787 788 789\n",
      " 790 792 793 794 795 796 797 798 800 802 803 804 805 806 807 808 811 812\n",
      " 814 815 817 818 819 822 823 825 826 827 828 829 830 831 832 833 834 835\n",
      " 838 839 840 841 842 843 844 845 846 848 849 850 851 852 853 854 855 856\n",
      " 857 859 860 861 862 863 864 865 866 867 868 869 870 871 873 874 877 878\n",
      " 879 881 882 883 884 886 887 888 889 890]\n",
      "1 [  0   1   3   4   5   6   8   9  11  12  13  14  17  18  19  22  23  24\n",
      "  25  26  27  28  29  31  32  33  35  36  37  39  40  41  42  43  45  46\n",
      "  47  48  50  51  53  54  55  56  57  58  59  60  62  63  64  65  66  67\n",
      "  68  70  72  74  75  78  79  80  81  82  83  84  85  86  87  88  89  91\n",
      "  92  93  94  95  96  97  98  99 100 101 102 104 106 107 109 110 111 112\n",
      " 113 114 116 117 118 119 120 121 124 125 126 127 128 129 130 132 133 134\n",
      " 135 136 137 138 139 140 142 143 145 146 147 148 149 150 151 152 156 157\n",
      " 158 160 161 162 164 165 166 167 169 170 171 172 173 174 175 176 177 178\n",
      " 179 180 181 182 183 184 185 189 190 191 192 193 194 195 196 197 198 199\n",
      " 201 202 203 204 206 207 208 209 212 213 214 215 216 217 218 220 221 222\n",
      " 223 224 225 229 230 231 232 233 234 235 236 237 238 239 240 241 242 243\n",
      " 244 245 246 247 249 251 252 253 254 255 257 259 261 262 264 266 269 270\n",
      " 271 272 273 275 277 278 279 280 281 283 284 285 286 287 288 289 290 292\n",
      " 293 295 296 297 298 299 300 301 302 303 304 305 306 307 308 309 310 311\n",
      " 312 313 315 318 319 320 321 323 324 325 326 327 328 330 331 333 334 336\n",
      " 337 338 339 340 341 342 344 345 346 347 349 350 351 352 353 354 355 356\n",
      " 357 358 360 361 363 364 365 367 368 369 370 371 372 374 376 377 378 379\n",
      " 380 383 384 385 386 387 388 389 391 392 393 394 395 396 397 398 399 401\n",
      " 402 403 404 405 406 407 408 411 414 415 416 417 418 420 421 422 423 425\n",
      " 426 427 428 429 430 431 432 433 436 437 438 439 440 441 442 444 445 446\n",
      " 448 449 450 452 453 454 455 456 458 459 460 461 462 464 465 466 467 468\n",
      " 471 472 475 476 477 478 479 481 482 483 484 485 486 487 488 489 490 491\n",
      " 492 493 494 496 497 501 502 503 504 505 506 507 509 510 511 512 513 514\n",
      " 516 518 519 521 522 523 524 525 526 527 528 530 531 532 534 535 537 538\n",
      " 539 540 541 542 543 544 545 546 547 548 549 550 551 552 553 554 555 556\n",
      " 559 560 561 562 563 564 565 567 569 570 571 572 575 576 577 578 579 580\n",
      " 581 582 583 584 585 587 588 589 590 591 592 593 594 595 596 597 598 601\n",
      " 602 603 604 605 606 607 608 609 611 612 615 616 617 618 620 621 622 623\n",
      " 624 625 626 627 629 631 632 633 634 635 636 637 638 639 640 642 643 644\n",
      " 645 647 648 649 650 652 653 654 655 656 657 659 661 663 664 665 666 667\n",
      " 668 671 672 673 678 679 680 681 682 683 684 685 687 688 689 690 692 693\n",
      " 694 695 696 697 698 699 700 701 703 704 705 706 708 709 710 711 712 713\n",
      " 714 716 717 718 719 720 722 723 724 726 727 729 730 731 732 733 734 737\n",
      " 738 739 740 741 742 743 744 745 746 747 748 750 751 752 756 757 758 759\n",
      " 760 761 763 764 765 766 767 768 769 770 771 772 773 775 776 777 778 779\n",
      " 780 781 782 783 784 785 786 787 789 790 791 792 793 795 796 797 798 799\n",
      " 800 801 803 806 809 810 812 813 814 815 816 817 818 819 820 821 822 823\n",
      " 824 826 828 829 830 833 834 836 837 838 839 841 842 844 846 847 849 850\n",
      " 851 852 853 854 855 857 858 859 860 862 863 864 866 869 870 872 874 875\n",
      " 876 879 880 881 883 884 885 887 888 889 890]\n",
      "2 [  0   1   2   3   5   6   7   9  10  11  12  13  15  16  17  19  20  21\n",
      "  22  23  24  25  27  28  29  30  34  35  37  38  40  41  42  44  45  46\n",
      "  47  48  49  50  51  52  55  56  59  60  61  62  63  65  66  67  68  69\n",
      "  71  72  73  74  75  76  77  80  81  83  84  85  86  87  88  89  90  91\n",
      "  94  95  97  98  99 100 102 103 104 105 106 107 108 109 110 112 113 114\n",
      " 115 117 118 119 121 122 123 124 127 128 129 131 132 133 134 135 136 138\n",
      " 139 140 141 143 144 145 146 147 148 149 150 151 152 153 154 155 156 157\n",
      " 159 160 161 162 163 164 165 166 168 169 170 171 172 173 175 176 177 178\n",
      " 179 180 181 182 184 185 186 187 188 190 191 192 193 198 199 200 203 204\n",
      " 205 206 207 208 209 210 211 213 215 216 217 218 219 220 222 223 224 226\n",
      " 227 228 229 230 231 234 235 237 239 240 242 244 245 246 248 250 251 252\n",
      " 253 254 255 256 257 258 259 260 261 262 263 264 265 266 267 268 269 270\n",
      " 272 273 274 275 276 277 278 279 280 281 282 283 284 287 288 290 291 292\n",
      " 293 294 297 298 299 300 302 303 307 308 310 311 313 314 315 316 317 320\n",
      " 321 322 324 325 326 327 328 329 331 332 333 334 335 336 338 339 340 341\n",
      " 342 343 344 345 347 348 349 350 351 352 353 354 355 356 357 359 360 362\n",
      " 363 364 365 366 367 368 369 370 371 372 373 374 375 377 378 379 381 382\n",
      " 383 384 385 387 388 389 390 391 392 393 395 398 399 400 401 402 403 404\n",
      " 405 408 409 410 411 412 413 414 415 416 417 419 420 422 423 424 425 426\n",
      " 428 430 431 432 433 434 435 436 437 439 440 441 442 443 445 446 447 448\n",
      " 449 450 451 452 453 454 457 458 459 460 461 463 464 465 466 467 468 469\n",
      " 470 472 473 474 475 476 478 480 481 482 484 485 486 489 490 491 493 494\n",
      " 495 496 498 499 500 504 505 506 507 508 509 511 512 513 515 516 517 518\n",
      " 519 520 521 524 525 526 527 529 531 532 533 536 537 539 542 544 546 550\n",
      " 551 552 554 555 556 557 558 559 560 561 562 563 564 565 566 567 568 569\n",
      " 570 571 572 573 574 577 578 579 580 583 584 585 586 588 589 590 591 592\n",
      " 593 594 595 596 597 598 599 600 603 604 605 606 607 608 609 610 611 613\n",
      " 614 616 619 621 622 623 627 628 630 634 635 636 638 639 640 641 642 643\n",
      " 644 645 646 647 648 649 650 651 652 654 655 656 658 659 660 661 662 665\n",
      " 666 667 668 669 670 671 672 674 675 676 677 679 680 681 682 683 684 686\n",
      " 687 688 689 690 691 693 696 697 698 699 700 701 702 703 705 707 708 709\n",
      " 710 712 714 715 716 717 718 719 720 721 722 724 725 726 727 728 729 730\n",
      " 731 732 734 735 736 737 738 739 740 741 742 743 745 746 747 748 749 750\n",
      " 751 752 753 754 755 756 758 759 760 761 762 763 764 766 768 769 773 774\n",
      " 775 777 778 780 781 782 784 785 786 787 788 789 790 791 793 794 795 796\n",
      " 797 798 799 801 802 803 804 805 806 807 808 809 810 811 813 814 816 817\n",
      " 818 819 820 821 822 823 824 825 826 827 828 829 831 832 834 835 836 837\n",
      " 838 839 840 841 842 843 844 845 847 848 851 852 853 854 855 856 857 858\n",
      " 859 860 861 862 863 865 866 867 868 869 871 872 873 874 875 876 877 878\n",
      " 879 880 881 882 883 884 885 886 887 889 890]\n",
      "3 [  0   1   2   3   4   5   6   7   8   9  10  11  12  13  14  15  16  17\n",
      "  18  19  20  21  23  24  26  28  29  30  31  32  33  34  35  36  38  39\n",
      "  40  41  42  43  44  45  47  49  50  51  52  53  54  56  57  58  61  62\n",
      "  63  64  65  67  68  69  70  71  72  73  74  75  76  77  78  79  80  81\n",
      "  82  84  86  87  88  89  90  92  93  94  95  96  98  99 101 102 103 104\n",
      " 105 107 108 109 110 111 112 113 114 115 116 118 119 120 122 123 125 126\n",
      " 130 131 132 133 134 135 137 138 139 140 141 142 143 144 145 146 148 149\n",
      " 151 152 153 154 155 156 157 158 159 160 161 163 164 166 167 168 169 172\n",
      " 173 174 176 177 178 179 180 182 183 184 186 187 188 189 190 191 193 194\n",
      " 195 196 197 198 199 200 201 202 204 205 210 211 212 214 215 216 217 219\n",
      " 220 221 224 225 226 227 228 229 230 231 232 233 234 235 236 237 238 239\n",
      " 240 241 243 245 246 247 248 249 250 251 252 253 254 256 257 258 259 260\n",
      " 261 263 264 265 266 267 268 269 270 271 272 273 274 275 276 277 279 281\n",
      " 282 285 286 288 289 290 291 294 295 296 297 298 300 301 303 304 305 306\n",
      " 308 309 311 312 313 314 315 316 317 318 319 320 321 322 323 324 325 326\n",
      " 327 328 329 330 331 332 334 335 337 338 340 342 343 344 346 347 348 349\n",
      " 350 351 352 353 357 358 359 360 361 362 364 365 366 367 368 369 371 372\n",
      " 373 375 376 378 380 381 382 383 384 385 386 387 390 392 393 394 395 396\n",
      " 397 398 399 400 401 403 404 406 407 408 409 410 411 412 413 415 416 417\n",
      " 418 419 420 421 422 424 425 427 428 429 431 432 434 435 436 438 439 440\n",
      " 441 442 443 444 446 447 449 451 452 453 455 456 457 459 460 462 463 464\n",
      " 465 467 468 469 470 471 472 473 474 475 476 477 479 480 481 482 483 484\n",
      " 485 486 487 488 491 492 493 494 495 496 497 498 499 500 501 502 503 504\n",
      " 505 506 507 508 509 510 511 513 514 515 516 517 518 520 522 523 524 525\n",
      " 527 528 529 530 533 534 535 536 537 538 539 540 541 542 543 544 545 547\n",
      " 548 549 551 553 555 556 557 558 560 561 562 563 564 566 568 570 572 573\n",
      " 574 575 576 580 581 582 583 584 586 587 588 591 592 593 594 595 596 599\n",
      " 600 601 602 603 604 605 608 609 610 611 612 613 614 615 616 617 618 619\n",
      " 620 622 623 624 625 626 628 629 630 631 632 633 634 636 637 638 639 640\n",
      " 641 642 643 645 646 648 649 650 651 652 653 654 655 656 657 658 659 660\n",
      " 661 662 663 664 668 669 670 671 672 673 674 675 676 677 678 679 680 681\n",
      " 683 684 685 686 688 689 690 691 692 693 694 695 696 699 701 702 703 704\n",
      " 706 707 708 709 710 711 713 714 715 716 721 722 723 725 726 727 728 729\n",
      " 730 731 733 734 735 736 737 740 741 742 744 747 748 749 750 752 753 754\n",
      " 755 757 758 759 761 762 763 764 765 767 768 770 771 772 774 775 776 779\n",
      " 780 781 782 783 784 788 791 792 793 794 795 797 798 799 800 801 802 803\n",
      " 804 805 807 808 809 810 811 812 813 815 816 817 818 820 821 824 825 826\n",
      " 827 828 829 830 831 832 833 834 835 836 837 838 839 840 843 844 845 846\n",
      " 847 848 849 850 854 856 857 858 861 862 863 864 865 867 868 870 871 872\n",
      " 873 875 876 877 878 880 882 885 886 888 889]\n",
      "4 [  2   4   6   7   8  10  11  13  14  15  16  17  18  19  20  21  22  25\n",
      "  26  27  29  30  31  32  33  34  35  36  37  38  39  40  41  42  43  44\n",
      "  45  46  48  49  51  52  53  54  55  56  57  58  59  60  61  62  63  64\n",
      "  66  67  68  69  70  71  73  74  75  76  77  78  79  80  81  82  83  84\n",
      "  85  90  91  92  93  94  96  97  99 100 101 103 105 106 108 111 112 114\n",
      " 115 116 117 120 121 122 123 124 125 126 127 128 129 130 131 132 135 136\n",
      " 137 138 140 141 142 144 145 146 147 148 150 151 152 153 154 155 158 159\n",
      " 161 162 163 165 166 167 168 170 171 172 174 175 176 177 178 179 180 181\n",
      " 182 183 184 185 186 187 188 189 190 191 192 194 195 196 197 200 201 202\n",
      " 203 204 205 206 207 208 209 210 211 212 213 214 215 218 219 220 221 222\n",
      " 223 225 226 227 228 231 232 233 234 236 237 238 240 241 242 243 244 245\n",
      " 247 248 249 250 251 252 254 255 256 258 260 262 263 264 265 266 267 268\n",
      " 269 270 271 274 276 277 278 280 281 282 283 284 285 286 287 289 291 292\n",
      " 293 294 295 296 297 298 299 301 302 303 304 305 306 307 308 309 310 311\n",
      " 312 314 315 316 317 318 319 322 323 326 327 329 330 332 333 335 336 337\n",
      " 338 339 341 342 343 345 346 348 351 352 353 354 355 356 358 359 361 362\n",
      " 363 364 366 367 370 371 372 373 374 375 376 377 378 379 380 381 382 383\n",
      " 384 386 387 388 389 390 391 393 394 395 396 397 400 401 402 404 405 406\n",
      " 407 409 410 411 412 413 414 416 418 419 420 421 423 424 426 427 429 430\n",
      " 431 433 434 435 437 438 440 443 444 445 446 447 448 449 450 451 452 453\n",
      " 454 455 456 457 458 460 461 462 463 464 466 468 469 470 471 473 474 475\n",
      " 476 477 478 479 480 481 483 485 486 487 488 489 490 492 495 496 497 498\n",
      " 499 500 501 502 503 505 507 508 509 510 511 512 514 515 516 517 519 520\n",
      " 521 522 523 526 528 529 530 531 532 533 534 535 536 537 538 539 540 541\n",
      " 543 544 545 546 547 548 549 550 552 553 554 557 558 559 560 562 563 564\n",
      " 565 566 567 568 569 570 571 573 574 575 576 577 578 579 580 581 582 584\n",
      " 585 586 587 589 590 591 595 597 598 599 600 601 602 604 606 607 610 612\n",
      " 613 614 615 616 617 618 619 620 621 622 623 624 625 626 627 628 629 630\n",
      " 631 632 633 635 637 638 639 640 641 643 644 646 647 650 651 652 653 654\n",
      " 655 657 658 660 662 663 664 665 666 667 669 670 673 674 675 676 677 678\n",
      " 679 682 683 685 686 687 688 689 690 691 692 694 695 697 698 700 702 704\n",
      " 705 706 707 708 710 711 712 713 714 715 716 717 718 719 720 721 723 724\n",
      " 725 726 728 729 732 733 734 735 736 737 738 739 740 741 743 744 745 746\n",
      " 749 750 751 753 754 755 756 757 758 759 760 761 762 764 765 766 767 768\n",
      " 769 770 771 772 773 774 776 777 778 779 780 781 783 784 785 786 787 788\n",
      " 789 790 791 792 794 796 799 800 801 802 804 805 806 807 808 809 810 811\n",
      " 812 813 814 815 816 819 820 821 822 823 824 825 827 830 831 832 833 835\n",
      " 836 837 840 841 842 843 845 846 847 848 849 850 851 852 853 855 856 858\n",
      " 859 860 861 864 865 866 867 868 869 870 871 872 873 874 875 876 877 878\n",
      " 879 880 881 882 883 884 885 886 887 888 890]\n"
     ]
    }
   ],
   "source": [
    "# enumerate -> 인덱스와 내용물 출력, kfold.split -> 2개로 나눈것 투플로 뱉음\n",
    "for iter_count , (train_index, test_index) in enumerate(kfold.split(X_titanic_df)): \n",
    "        print(iter_count, train_index) #인덱스만 추출한 것임.\n",
    "        # 테스트 데이터의 인덱스가 계속 이동하는걸 확인 가능\n",
    "        # 0~178, 179~356 ..."
   ]
  },
  {
   "cell_type": "code",
   "execution_count": 40,
   "metadata": {},
   "outputs": [],
   "source": [
    "from sklearn.neighbors import KNeighborsClassifier\n",
    "from sklearn.metrics import accuracy_score\n",
    "from sklearn.svm import SVC # 'linear', 'poly', 'rbf', 'sigmoid'"
   ]
  },
  {
   "cell_type": "code",
   "execution_count": 41,
   "metadata": {},
   "outputs": [],
   "source": [
    "def exec_kfold(clf, folds=5): # clf = 테스트할 모델, folds = 테스트데이터 스플릿할 갯수\n",
    "    kfold = KFold(n_splits=folds, shuffle=True)\n",
    "    scores = []\n",
    "    \n",
    "    for iter_count , (train_index, test_index) in enumerate(kfold.split(X_titanic_df)):\n",
    "#         X_train, X_test = X_titanic_df.values[train_index], X_titanic_df.value_counts[test_index]\n",
    "#         y_train, y_test = X_titanic_df.values[train_index], X_titanic_df.value_counts[test_index]\n",
    "        X_train, X_test = X_titanic_df.values[train_index], X_titanic_df.values[test_index]\n",
    "        y_train, y_test = y_titanic_df.values[train_index], y_titanic_df.values[test_index]    \n",
    "        clf.fit(X_train, y_train)\n",
    "        pred = clf.predict(X_test)\n",
    "        score = accuracy_score(pred, y_test)\n",
    "        scores.append(score)\n",
    "        print(iter_count, score)\n",
    "    sum = 0\n",
    "    #best = 0\n",
    "    for i in scores:\n",
    "        sum = sum + i\n",
    "    mean = sum/len(scores)\n",
    "    print(\"평균\", mean)\n",
    "    return mean \n",
    "    #print(\"최고점수\", best)"
   ]
  },
  {
   "cell_type": "code",
   "execution_count": 42,
   "metadata": {},
   "outputs": [],
   "source": [
    "def all_kfold(clf, folds=5): # clf = 테스트할 모델, folds = 테스트데이터 스플릿할 갯수\n",
    "    kfold = KFold(n_splits=folds, shuffle=True)\n",
    "    scores = []\n",
    "    for iter_count , (train_index, test_index) in enumerate(kfold.split(X_titanic_df)):\n",
    "        X_train, X_test = X_titanic_df.values[train_index], X_titanic_df.values[test_index]\n",
    "        y_train, y_test = y_titanic_df.values[train_index], y_titanic_df.values[test_index]    \n",
    "        clf.fit(X_train, y_train)\n",
    "        pred = clf.predict(X_test)\n",
    "        score = accuracy_score(pred, y_test)\n",
    "        scores.append(score)\n",
    "        print(iter_count, score)\n",
    "    sum = 0\n",
    "    for i in scores:\n",
    "        sum = sum + i\n",
    "    mean = sum/len(scores)\n",
    "    print(\"평균\", mean)\n",
    "    return mean "
   ]
  },
  {
   "cell_type": "code",
   "execution_count": 43,
   "metadata": {},
   "outputs": [],
   "source": [
    "svc = SVC(kernel=\"linear\")"
   ]
  },
  {
   "cell_type": "code",
   "execution_count": 44,
   "metadata": {},
   "outputs": [],
   "source": [
    "svc2 = SVC(kernel=\"rbf\")"
   ]
  },
  {
   "cell_type": "code",
   "execution_count": 45,
   "metadata": {},
   "outputs": [],
   "source": [
    "knn = KNeighborsClassifier(n_neighbors=10)"
   ]
  },
  {
   "cell_type": "code",
   "execution_count": 46,
   "metadata": {},
   "outputs": [],
   "source": [
    "knn2 = KNeighborsClassifier(n_neighbors=5)"
   ]
  },
  {
   "cell_type": "code",
   "execution_count": 47,
   "metadata": {
    "scrolled": true
   },
   "outputs": [
    {
     "name": "stdout",
     "output_type": "stream",
     "text": [
      "0 0.7318435754189944\n",
      "1 0.8314606741573034\n",
      "2 0.8089887640449438\n",
      "3 0.7696629213483146\n",
      "4 0.797752808988764\n",
      "평균 0.787941748791664\n"
     ]
    }
   ],
   "source": [
    "svcr1 = exec_kfold(svc)\n"
   ]
  },
  {
   "cell_type": "code",
   "execution_count": 48,
   "metadata": {
    "scrolled": false
   },
   "outputs": [
    {
     "name": "stdout",
     "output_type": "stream",
     "text": [
      "0 0.6983240223463687\n",
      "1 0.6235955056179775\n",
      "2 0.6404494382022472\n",
      "3 0.6910112359550562\n",
      "4 0.6853932584269663\n",
      "평균 0.6677546921097232\n"
     ]
    },
    {
     "data": {
      "text/plain": [
       "0.6677546921097232"
      ]
     },
     "execution_count": 48,
     "metadata": {},
     "output_type": "execute_result"
    }
   ],
   "source": [
    "exec_kfold(svc2)"
   ]
  },
  {
   "cell_type": "code",
   "execution_count": 49,
   "metadata": {
    "scrolled": true
   },
   "outputs": [
    {
     "name": "stdout",
     "output_type": "stream",
     "text": [
      "0 0.7374301675977654\n",
      "1 0.6853932584269663\n",
      "2 0.7359550561797753\n",
      "3 0.7078651685393258\n",
      "4 0.6741573033707865\n",
      "평균 0.7081601908229238\n"
     ]
    },
    {
     "data": {
      "text/plain": [
       "0.7081601908229238"
      ]
     },
     "execution_count": 49,
     "metadata": {},
     "output_type": "execute_result"
    }
   ],
   "source": [
    "exec_kfold(knn)"
   ]
  },
  {
   "cell_type": "code",
   "execution_count": 50,
   "metadata": {},
   "outputs": [
    {
     "name": "stdout",
     "output_type": "stream",
     "text": [
      "0 0.6871508379888268\n",
      "1 0.6966292134831461\n",
      "2 0.7528089887640449\n",
      "3 0.6966292134831461\n",
      "4 0.7191011235955056\n",
      "평균 0.7104638754629339\n"
     ]
    },
    {
     "data": {
      "text/plain": [
       "0.7104638754629339"
      ]
     },
     "execution_count": 50,
     "metadata": {},
     "output_type": "execute_result"
    }
   ],
   "source": [
    "exec_kfold(knn2)"
   ]
  },
  {
   "cell_type": "code",
   "execution_count": 51,
   "metadata": {},
   "outputs": [],
   "source": [
    "clf_list = [svc, svc2, knn, knn2]"
   ]
  },
  {
   "cell_type": "code",
   "execution_count": 52,
   "metadata": {},
   "outputs": [
    {
     "data": {
      "text/plain": [
       "\"SVC(kernel='linear')\""
      ]
     },
     "execution_count": 52,
     "metadata": {},
     "output_type": "execute_result"
    }
   ],
   "source": [
    "str(clf_list[0])"
   ]
  },
  {
   "cell_type": "code",
   "execution_count": 53,
   "metadata": {},
   "outputs": [
    {
     "data": {
      "text/plain": [
       "SVC(kernel='linear')"
      ]
     },
     "execution_count": 53,
     "metadata": {},
     "output_type": "execute_result"
    }
   ],
   "source": [
    "clf_list[0]"
   ]
  },
  {
   "cell_type": "code",
   "execution_count": 54,
   "metadata": {},
   "outputs": [],
   "source": [
    "def call_kfold(clfs, folds=5):\n",
    "    clfscore = []\n",
    "    for i in range(len(clfs)):\n",
    "        kfold = KFold(n_splits=folds, shuffle=True)\n",
    "        scores = []\n",
    "        for iter_count , (train_index, test_index) in enumerate(kfold.split(X_titanic_df)):\n",
    "            X_train, X_test = X_titanic_df.values[train_index], X_titanic_df.values[test_index]\n",
    "            y_train, y_test = y_titanic_df.values[train_index], y_titanic_df.values[test_index]    \n",
    "            clfs[i].fit(X_train, y_train)\n",
    "            pred = clfs[i].predict(X_test)\n",
    "            score = accuracy_score(pred, y_test)\n",
    "            scores.append(score)\n",
    "            # print(iter_count, score)\n",
    "        sum = 0\n",
    "        for j in scores:\n",
    "            sum = sum + j\n",
    "        mean = sum/len(scores)\n",
    "        print(str(clfs[i]),\"의 평균\", mean)\n",
    "        clfscore.append(mean)\n",
    "    best = 0\n",
    "    for i in clfscore:\n",
    "        if i>best:\n",
    "            best = i\n",
    "    print(\"최적 모델은 \",clfs[clfscore.index(best)],\"정확도는 \",best) # find는 문자열만\n"
   ]
  },
  {
   "cell_type": "code",
   "execution_count": 55,
   "metadata": {},
   "outputs": [
    {
     "name": "stdout",
     "output_type": "stream",
     "text": [
      "SVC(kernel='linear') 의 평균 0.7867365513778168\n",
      "SVC() 의 평균 0.6801330738811123\n",
      "KNeighborsClassifier(n_neighbors=10) 의 평균 0.7149394262758145\n",
      "KNeighborsClassifier() 의 평균 0.7127173435440336\n",
      "최적 모델은  SVC(kernel='linear') 정확도는  0.7867365513778168\n"
     ]
    }
   ],
   "source": [
    "final_result = call_kfold(clf_list)\n",
    "final_result\n"
   ]
  },
  {
   "cell_type": "code",
   "execution_count": 56,
   "metadata": {},
   "outputs": [
    {
     "name": "stdout",
     "output_type": "stream",
     "text": [
      "123 123\n",
      "123123\n"
     ]
    }
   ],
   "source": [
    "print(\"123\",\"123\") # 공백 o\n",
    "print(\"123\"+\"123\") # 공백 x"
   ]
  },
  {
   "cell_type": "code",
   "execution_count": 11,
   "metadata": {
    "scrolled": false
   },
   "outputs": [
    {
     "ename": "NameError",
     "evalue": "name 'transform_features' is not defined",
     "output_type": "error",
     "traceback": [
      "\u001b[1;31m---------------------------------------------------------------------------\u001b[0m",
      "\u001b[1;31mNameError\u001b[0m                                 Traceback (most recent call last)",
      "\u001b[1;32mC:\\Users\\OHWONJ~1\\AppData\\Local\\Temp/ipykernel_12568/4218075378.py\u001b[0m in \u001b[0;36m<module>\u001b[1;34m\u001b[0m\n\u001b[0;32m      4\u001b[0m \u001b[0mX_titanic_df\u001b[0m\u001b[1;33m=\u001b[0m \u001b[0mtitanic_df\u001b[0m\u001b[1;33m.\u001b[0m\u001b[0mdrop\u001b[0m\u001b[1;33m(\u001b[0m\u001b[1;34m'Survived'\u001b[0m\u001b[1;33m,\u001b[0m\u001b[0maxis\u001b[0m\u001b[1;33m=\u001b[0m\u001b[1;36m1\u001b[0m\u001b[1;33m)\u001b[0m\u001b[1;33m\u001b[0m\u001b[1;33m\u001b[0m\u001b[0m\n\u001b[0;32m      5\u001b[0m \u001b[1;33m\u001b[0m\u001b[0m\n\u001b[1;32m----> 6\u001b[1;33m \u001b[0mX_titanic_df\u001b[0m \u001b[1;33m=\u001b[0m \u001b[0mtransform_features\u001b[0m\u001b[1;33m(\u001b[0m\u001b[0mX_titanic_df\u001b[0m\u001b[1;33m)\u001b[0m\u001b[1;33m\u001b[0m\u001b[1;33m\u001b[0m\u001b[0m\n\u001b[0m",
      "\u001b[1;31mNameError\u001b[0m: name 'transform_features' is not defined"
     ]
    }
   ],
   "source": [
    "# 원본 데이터를 재로딩 하고, feature데이터 셋과 Label 데이터 셋 추출. \n",
    "titanic_df = pd.read_csv('../data/titanic_train.csv')\n",
    "y_titanic_df = titanic_df['Survived']\n",
    "X_titanic_df= titanic_df.drop('Survived',axis=1)\n",
    "\n",
    "X_titanic_df = transform_features(X_titanic_df)"
   ]
  },
  {
   "cell_type": "code",
   "execution_count": 29,
   "metadata": {},
   "outputs": [],
   "source": [
    "from sklearn.model_selection import train_test_split\n",
    "X_train, X_test, y_train, y_test=train_test_split(X_titanic_df, y_titanic_df, \\\n",
    "                                                  test_size=0.2, random_state=11)"
   ]
  },
  {
   "cell_type": "code",
   "execution_count": 30,
   "metadata": {},
   "outputs": [],
   "source": [
    "from sklearn.model_selection import cross_val_score"
   ]
  },
  {
   "cell_type": "code",
   "execution_count": 31,
   "metadata": {},
   "outputs": [
    {
     "ename": "NameError",
     "evalue": "name 'svc' is not defined",
     "output_type": "error",
     "traceback": [
      "\u001b[1;31m---------------------------------------------------------------------------\u001b[0m",
      "\u001b[1;31mNameError\u001b[0m                                 Traceback (most recent call last)",
      "\u001b[1;32mC:\\Users\\OHWONJ~1\\AppData\\Local\\Temp/ipykernel_12568/1217384807.py\u001b[0m in \u001b[0;36m<module>\u001b[1;34m\u001b[0m\n\u001b[1;32m----> 1\u001b[1;33m \u001b[0mscores\u001b[0m \u001b[1;33m=\u001b[0m \u001b[0mcross_val_score\u001b[0m\u001b[1;33m(\u001b[0m\u001b[0msvc\u001b[0m\u001b[1;33m,\u001b[0m \u001b[0mX_titanic_df\u001b[0m \u001b[1;33m,\u001b[0m \u001b[0my_titanic_df\u001b[0m \u001b[1;33m,\u001b[0m \u001b[0mcv\u001b[0m\u001b[1;33m=\u001b[0m\u001b[1;36m5\u001b[0m\u001b[1;33m)\u001b[0m\u001b[1;33m\u001b[0m\u001b[1;33m\u001b[0m\u001b[0m\n\u001b[0m\u001b[0;32m      2\u001b[0m \u001b[1;32mfor\u001b[0m \u001b[0miter_count\u001b[0m\u001b[1;33m,\u001b[0m\u001b[0maccuracy\u001b[0m \u001b[1;32min\u001b[0m \u001b[0menumerate\u001b[0m\u001b[1;33m(\u001b[0m\u001b[0mscores\u001b[0m\u001b[1;33m)\u001b[0m\u001b[1;33m:\u001b[0m\u001b[1;33m\u001b[0m\u001b[1;33m\u001b[0m\u001b[0m\n\u001b[0;32m      3\u001b[0m     \u001b[0mprint\u001b[0m\u001b[1;33m(\u001b[0m\u001b[1;34m\"교차 검증 {0} 정확도: {1:.4f}\"\u001b[0m\u001b[1;33m.\u001b[0m\u001b[0mformat\u001b[0m\u001b[1;33m(\u001b[0m\u001b[0miter_count\u001b[0m\u001b[1;33m,\u001b[0m \u001b[0maccuracy\u001b[0m\u001b[1;33m)\u001b[0m\u001b[1;33m)\u001b[0m\u001b[1;33m\u001b[0m\u001b[1;33m\u001b[0m\u001b[0m\n\u001b[0;32m      4\u001b[0m \u001b[1;33m\u001b[0m\u001b[0m\n\u001b[0;32m      5\u001b[0m \u001b[0mprint\u001b[0m\u001b[1;33m(\u001b[0m\u001b[1;34m\"평균 정확도: {0:.4f}\"\u001b[0m\u001b[1;33m.\u001b[0m\u001b[0mformat\u001b[0m\u001b[1;33m(\u001b[0m\u001b[0mnp\u001b[0m\u001b[1;33m.\u001b[0m\u001b[0mmean\u001b[0m\u001b[1;33m(\u001b[0m\u001b[0mscores\u001b[0m\u001b[1;33m)\u001b[0m\u001b[1;33m)\u001b[0m\u001b[1;33m)\u001b[0m\u001b[1;33m\u001b[0m\u001b[1;33m\u001b[0m\u001b[0m\n",
      "\u001b[1;31mNameError\u001b[0m: name 'svc' is not defined"
     ]
    }
   ],
   "source": [
    "scores = cross_val_score(svc, X_titanic_df , y_titanic_df , cv=5)\n",
    "for iter_count,accuracy in enumerate(scores):\n",
    "    print(\"교차 검증 {0} 정확도: {1:.4f}\".format(iter_count, accuracy))\n",
    "\n",
    "print(\"평균 정확도: {0:.4f}\".format(np.mean(scores)))"
   ]
  },
  {
   "cell_type": "code",
   "execution_count": 32,
   "metadata": {},
   "outputs": [],
   "source": [
    "from sklearn.model_selection import GridSearchCV"
   ]
  },
  {
   "cell_type": "code",
   "execution_count": 33,
   "metadata": {},
   "outputs": [],
   "source": [
    "from sklearn.tree import DecisionTreeClassifier"
   ]
  },
  {
   "cell_type": "code",
   "execution_count": 34,
   "metadata": {},
   "outputs": [],
   "source": [
    "dt_clf = DecisionTreeClassifier(random_state=11)"
   ]
  },
  {
   "cell_type": "code",
   "execution_count": 35,
   "metadata": {},
   "outputs": [],
   "source": [
    "parameters = {\"max_depth\":[2,3,5,10],\n",
    "              \"min_samples_split\": [2,3,5],\n",
    "              \"min_samples_leaf\": [1,5,8]\n",
    "             }"
   ]
  },
  {
   "cell_type": "code",
   "execution_count": 36,
   "metadata": {},
   "outputs": [],
   "source": [
    "grid_dclf = GridSearchCV(dt_clf, param_grid=parameters, scoring=\"accuracy\", cv=5)"
   ]
  },
  {
   "cell_type": "code",
   "execution_count": 37,
   "metadata": {
    "scrolled": true
   },
   "outputs": [
    {
     "data": {
      "text/plain": [
       "GridSearchCV(cv=5, estimator=DecisionTreeClassifier(random_state=11),\n",
       "             param_grid={'max_depth': [2, 3, 5, 10],\n",
       "                         'min_samples_leaf': [1, 5, 8],\n",
       "                         'min_samples_split': [2, 3, 5]},\n",
       "             scoring='accuracy')"
      ]
     },
     "execution_count": 37,
     "metadata": {},
     "output_type": "execute_result"
    }
   ],
   "source": [
    "grid_dclf.fit(X_train, y_train)"
   ]
  },
  {
   "cell_type": "code",
   "execution_count": 41,
   "metadata": {},
   "outputs": [],
   "source": [
    "best_dcclf = grid_dclf.best_estimator_"
   ]
  },
  {
   "cell_type": "code",
   "execution_count": 39,
   "metadata": {},
   "outputs": [
    {
     "data": {
      "text/plain": [
       "{'max_depth': 3, 'min_samples_leaf': 5, 'min_samples_split': 2}"
      ]
     },
     "execution_count": 39,
     "metadata": {},
     "output_type": "execute_result"
    }
   ],
   "source": [
    "grid_dclf.best_params_"
   ]
  },
  {
   "cell_type": "code",
   "execution_count": 40,
   "metadata": {},
   "outputs": [
    {
     "data": {
      "text/plain": [
       "0.7991825076332119"
      ]
     },
     "execution_count": 40,
     "metadata": {},
     "output_type": "execute_result"
    }
   ],
   "source": [
    "grid_dclf.best_score_"
   ]
  },
  {
   "cell_type": "code",
   "execution_count": 43,
   "metadata": {},
   "outputs": [
    {
     "data": {
      "text/plain": [
       "array([1, 0, 0, 0, 0, 0, 0, 1, 0, 1, 0, 0, 0, 0, 0, 0, 0, 0, 0, 1, 0, 0,\n",
       "       0, 0, 0, 0, 0, 0, 0, 0, 1, 1, 0, 1, 0, 0, 0, 1, 0, 0, 0, 0, 1, 1,\n",
       "       1, 1, 1, 0, 1, 0, 0, 0, 0, 1, 0, 0, 0, 0, 0, 0, 0, 0, 0, 0, 0, 0,\n",
       "       1, 1, 1, 0, 0, 0, 0, 1, 0, 0, 1, 0, 1, 0, 1, 1, 1, 0, 1, 1, 0, 0,\n",
       "       1, 0, 0, 0, 0, 0, 1, 0, 1, 0, 0, 1, 0, 1, 1, 0, 1, 0, 0, 0, 0, 0,\n",
       "       0, 0, 1, 0, 0, 0, 0, 0, 1, 0, 0, 0, 0, 0, 0, 0, 0, 0, 1, 0, 1, 0,\n",
       "       1, 0, 1, 0, 1, 0, 0, 1, 1, 0, 0, 0, 0, 1, 0, 0, 1, 0, 0, 1, 1, 0,\n",
       "       1, 1, 0, 0, 1, 1, 0, 1, 0, 1, 0, 1, 1, 0, 0, 1, 0, 1, 0, 0, 0, 0,\n",
       "       0, 0, 0], dtype=int64)"
      ]
     },
     "execution_count": 43,
     "metadata": {},
     "output_type": "execute_result"
    }
   ],
   "source": [
    "pred = best_dcclf.predict(X_test)\n",
    "pred"
   ]
  },
  {
   "cell_type": "code",
   "execution_count": 44,
   "metadata": {},
   "outputs": [
    {
     "data": {
      "text/plain": [
       "0.8715083798882681"
      ]
     },
     "execution_count": 44,
     "metadata": {},
     "output_type": "execute_result"
    }
   ],
   "source": [
    "accuracy_score(pred, y_test)"
   ]
  },
  {
   "cell_type": "code",
   "execution_count": 61,
   "metadata": {},
   "outputs": [],
   "source": [
    "from sklearn.metrics import accuracy_score, precision_score, recall_score\n",
    "from sklearn.metrics import f1_score, roc_auc_score"
   ]
  },
  {
   "cell_type": "code",
   "execution_count": null,
   "metadata": {},
   "outputs": [],
   "source": []
  }
 ],
 "metadata": {
  "colab": {
   "name": "2.6 사이킷런으로 수행하는 타이타닉 생존자 예측 .ipynb",
   "provenance": []
  },
  "kernelspec": {
   "display_name": "Python 3 (ipykernel)",
   "language": "python",
   "name": "python3"
  },
  "language_info": {
   "codemirror_mode": {
    "name": "ipython",
    "version": 3
   },
   "file_extension": ".py",
   "mimetype": "text/x-python",
   "name": "python",
   "nbconvert_exporter": "python",
   "pygments_lexer": "ipython3",
   "version": "3.8.12"
  },
  "toc": {
   "base_numbering": 1,
   "nav_menu": {},
   "number_sections": true,
   "sideBar": true,
   "skip_h1_title": false,
   "title_cell": "Table of Contents",
   "title_sidebar": "Contents",
   "toc_cell": false,
   "toc_position": {},
   "toc_section_display": true,
   "toc_window_display": false
  }
 },
 "nbformat": 4,
 "nbformat_minor": 1
}
