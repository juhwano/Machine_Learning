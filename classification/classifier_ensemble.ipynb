{
 "cells": [
  {
   "cell_type": "code",
   "execution_count": 1,
   "id": "6e2aa80f",
   "metadata": {
    "ExecuteTime": {
     "end_time": "2021-12-09T00:11:21.760523Z",
     "start_time": "2021-12-09T00:11:15.381264Z"
    },
    "scrolled": true
   },
   "outputs": [],
   "source": [
    "# 필요한 모듈과 데이터 불러오기\n",
    "import pandas as pd\n",
    "import numpy as np\n",
    "np.random.seed(5)\n",
    "\n",
    "from sklearn.datasets import load_breast_cancer\n",
    "\n",
    "from sklearn.linear_model import LogisticRegression\n",
    "from sklearn.tree import DecisionTreeClassifier\n",
    "from sklearn.neighbors import KNeighborsClassifier\n",
    "from sklearn.svm import SVC\n",
    "\n",
    "from sklearn.ensemble import VotingClassifier\n",
    "from sklearn.ensemble import RandomForestClassifier\n",
    "\n",
    "from sklearn.model_selection import cross_val_score\n",
    "from sklearn.model_selection import cross_validate\n",
    "from sklearn.model_selection import train_test_split\n",
    "from sklearn.metrics import accuracy_score\n",
    "\n",
    "from xgboost import XGBClassifier\n",
    "\n",
    "from warnings import filterwarnings\n",
    "filterwarnings('ignore')"
   ]
  },
  {
   "cell_type": "markdown",
   "id": "065b6b9f",
   "metadata": {},
   "source": [
    "**암 데이터 로드**"
   ]
  },
  {
   "cell_type": "code",
   "execution_count": 2,
   "id": "061ae703",
   "metadata": {
    "ExecuteTime": {
     "end_time": "2021-12-09T00:11:21.791981Z",
     "start_time": "2021-12-09T00:11:21.762214Z"
    }
   },
   "outputs": [],
   "source": [
    "cancer = load_breast_cancer()\n",
    "features, labels = cancer.data, cancer.target\n",
    "\n",
    "# 데이터를 훈련셋과 테스트셋으로 나누기\n",
    "X_train, X_test, y_train, y_test = train_test_split(features, labels, test_size=0.2, random_state=156)"
   ]
  },
  {
   "cell_type": "markdown",
   "id": "b7fad08c",
   "metadata": {},
   "source": [
    "# dataset 설명변수, 종속변수 print"
   ]
  },
  {
   "cell_type": "code",
   "execution_count": 3,
   "id": "0bfed686",
   "metadata": {
    "ExecuteTime": {
     "end_time": "2021-12-09T00:11:21.807144Z",
     "start_time": "2021-12-09T00:11:21.793645Z"
    }
   },
   "outputs": [
    {
     "name": "stdout",
     "output_type": "stream",
     "text": [
      "(455, 30) (455,)\n"
     ]
    }
   ],
   "source": [
    "print(X_train.shape, y_train.shape)"
   ]
  },
  {
   "cell_type": "code",
   "execution_count": 4,
   "id": "4aa1aaa8",
   "metadata": {
    "ExecuteTime": {
     "end_time": "2021-12-09T00:11:21.822430Z",
     "start_time": "2021-12-09T00:11:21.809358Z"
    }
   },
   "outputs": [
    {
     "name": "stdout",
     "output_type": "stream",
     "text": [
      "(114, 30) (114,)\n"
     ]
    }
   ],
   "source": [
    "print(X_test.shape, y_test.shape)"
   ]
  },
  {
   "cell_type": "markdown",
   "id": "8ab27dbf",
   "metadata": {},
   "source": [
    "# dataset의 row count, column count print"
   ]
  },
  {
   "cell_type": "code",
   "execution_count": 5,
   "id": "3f817ae7",
   "metadata": {
    "ExecuteTime": {
     "end_time": "2021-12-09T00:11:21.838475Z",
     "start_time": "2021-12-09T00:11:21.825431Z"
    }
   },
   "outputs": [
    {
     "name": "stdout",
     "output_type": "stream",
     "text": [
      "455 455\n"
     ]
    }
   ],
   "source": [
    "print( len(X_train), len(y_train))"
   ]
  },
  {
   "cell_type": "code",
   "execution_count": 6,
   "id": "c8f7d495",
   "metadata": {
    "ExecuteTime": {
     "end_time": "2021-12-09T00:11:21.854477Z",
     "start_time": "2021-12-09T00:11:21.840434Z"
    }
   },
   "outputs": [
    {
     "name": "stdout",
     "output_type": "stream",
     "text": [
      "114 114\n"
     ]
    }
   ],
   "source": [
    "print( len(X_test), len(y_test))"
   ]
  },
  {
   "cell_type": "markdown",
   "id": "05daadce",
   "metadata": {},
   "source": [
    "# Voting(single model 3개 이상), hard/soft 성능 비교<br/>"
   ]
  },
  {
   "cell_type": "markdown",
   "id": "deabec06",
   "metadata": {},
   "source": [
    "단일 모델 정확도 측정"
   ]
  },
  {
   "cell_type": "code",
   "execution_count": 7,
   "id": "52b6636d",
   "metadata": {
    "ExecuteTime": {
     "end_time": "2021-12-09T00:11:22.151387Z",
     "start_time": "2021-12-09T00:11:21.856443Z"
    }
   },
   "outputs": [],
   "source": [
    "dt = DecisionTreeClassifier(\n",
    "    criterion=\"gini\", max_depth=3, max_features=12,random_state=35)\n",
    "\n",
    "dt = dt.fit(X_train, y_train)\n",
    "dt_predicted = dt.predict(X_test)\n",
    "\n",
    "knn = KNeighborsClassifier(n_neighbors=11).fit(X_train, y_train)\n",
    "knn_predicted = knn.predict(X_test)\n",
    "\n",
    "svm = SVC(C=0.1, gamma=0.003,\n",
    "          probability=True,random_state=42).fit(X_train, y_train)\n",
    "svm_predicted = svm.predict(X_test)\n",
    "\n",
    "lr = LogisticRegression().fit(X_train, y_train)\n",
    "lr_predicted = lr.predict(X_test)"
   ]
  },
  {
   "cell_type": "code",
   "execution_count": 8,
   "id": "87eda43e",
   "metadata": {
    "ExecuteTime": {
     "end_time": "2021-12-09T00:11:22.167387Z",
     "start_time": "2021-12-09T00:11:22.153387Z"
    }
   },
   "outputs": [
    {
     "name": "stdout",
     "output_type": "stream",
     "text": [
      "[accuarcy]\n",
      "d-tree:  0.9298245614035088\n",
      "knn   :  0.956140350877193\n",
      "svm   :  0.6754385964912281\n",
      "logistic :  0.9385964912280702\n"
     ]
    }
   ],
   "source": [
    "print(\"[accuarcy]\")\n",
    "print(\"d-tree: \",accuracy_score(y_test, dt_predicted))\n",
    "print(\"knn   : \",accuracy_score(y_test, knn_predicted))\n",
    "print(\"svm   : \",accuracy_score(y_test, svm_predicted))\n",
    "print(\"logistic : \",accuracy_score(y_test, lr_predicted))"
   ]
  },
  {
   "cell_type": "markdown",
   "id": "c28b9f4b",
   "metadata": {},
   "source": [
    "소프트 보팅"
   ]
  },
  {
   "cell_type": "code",
   "execution_count": 9,
   "id": "6478eebd",
   "metadata": {
    "ExecuteTime": {
     "end_time": "2021-12-09T00:11:22.311387Z",
     "start_time": "2021-12-09T00:11:22.169387Z"
    }
   },
   "outputs": [
    {
     "data": {
      "text/plain": [
       "0.9298245614035088"
      ]
     },
     "execution_count": 9,
     "metadata": {},
     "output_type": "execute_result"
    }
   ],
   "source": [
    "voting_clf = VotingClassifier(estimators=[\n",
    "    ('decision_tree', dt), ('knn', knn), ('svm', svm)], \n",
    "    weights=[1,1,1], voting='soft').fit(X_train, y_train)\n",
    "soft_voting_predicted = voting_clf.predict(X_test)\n",
    "accuracy_score(y_test, soft_voting_predicted)"
   ]
  },
  {
   "cell_type": "markdown",
   "id": "bdd34ddf",
   "metadata": {},
   "source": [
    "하드 보팅"
   ]
  },
  {
   "cell_type": "code",
   "execution_count": 10,
   "id": "967ff3b2",
   "metadata": {
    "ExecuteTime": {
     "end_time": "2021-12-09T00:11:22.469388Z",
     "start_time": "2021-12-09T00:11:22.314387Z"
    }
   },
   "outputs": [
    {
     "data": {
      "text/plain": [
       "0.9385964912280702"
      ]
     },
     "execution_count": 10,
     "metadata": {},
     "output_type": "execute_result"
    }
   ],
   "source": [
    "voting_clf = VotingClassifier(estimators=[\n",
    "    ('decision_tree', dt), ('knn', knn), ('svm', svm)], \n",
    "    weights=[1,1,1], voting='hard').fit(X_train, y_train)\n",
    "hard_voting_predicted = voting_clf.predict(X_test)\n",
    "accuracy_score(y_test, hard_voting_predicted)"
   ]
  },
  {
   "cell_type": "markdown",
   "id": "b5b88f32",
   "metadata": {},
   "source": [
    "보통은 하드 보팅보다는 소프트 보팅이 예측 성능이 좋아서 더 많이 사용된다."
   ]
  },
  {
   "cell_type": "markdown",
   "id": "e5df020e",
   "metadata": {},
   "source": [
    "# RandomForest/xgBoost 성능 비교"
   ]
  },
  {
   "cell_type": "code",
   "execution_count": 11,
   "id": "ee2f3e08",
   "metadata": {
    "ExecuteTime": {
     "end_time": "2021-12-09T00:11:22.485386Z",
     "start_time": "2021-12-09T00:11:22.471388Z"
    }
   },
   "outputs": [],
   "source": [
    "def cross_validation(classifier, features, labels):\n",
    "    cv_scores = []\n",
    "\n",
    "    for i in range(10):\n",
    "        scores = cross_val_score(classifier,\n",
    "                                 features,\n",
    "                                 labels,\n",
    "                                 cv=10,\n",
    "                                 scoring='accuracy')\n",
    "        cv_scores.append(scores.mean())\n",
    "        print(f'평균 정확도 : {scores.mean()}')\n",
    "\n",
    "    return cv_scores"
   ]
  },
  {
   "cell_type": "code",
   "execution_count": 12,
   "id": "88df6bdb",
   "metadata": {
    "ExecuteTime": {
     "end_time": "2021-12-09T00:11:23.124388Z",
     "start_time": "2021-12-09T00:11:22.487386Z"
    }
   },
   "outputs": [
    {
     "name": "stdout",
     "output_type": "stream",
     "text": [
      "평균 정확도 : 0.9165217391304348\n",
      "평균 정확도 : 0.9188405797101449\n",
      "평균 정확도 : 0.9209661835748791\n",
      "평균 정확도 : 0.9274879227053141\n",
      "평균 정확도 : 0.9143478260869566\n",
      "평균 정확도 : 0.9209661835748791\n",
      "평균 정확도 : 0.918792270531401\n",
      "평균 정확도 : 0.9165700483091788\n",
      "평균 정확도 : 0.912270531400966\n",
      "평균 정확도 : 0.9099999999999999\n"
     ]
    }
   ],
   "source": [
    "dt_cv_scores = cross_validation(DecisionTreeClassifier(), X_train, y_train)"
   ]
  },
  {
   "cell_type": "code",
   "execution_count": 13,
   "id": "7ecb57cc",
   "metadata": {
    "ExecuteTime": {
     "end_time": "2021-12-09T00:11:39.975392Z",
     "start_time": "2021-12-09T00:11:23.126387Z"
    }
   },
   "outputs": [
    {
     "name": "stdout",
     "output_type": "stream",
     "text": [
      "평균 정확도 : 0.9649275362318841\n",
      "평균 정확도 : 0.9584057971014494\n",
      "평균 정확도 : 0.9627536231884057\n",
      "평균 정확도 : 0.9584057971014494\n",
      "평균 정확도 : 0.9540579710144927\n",
      "평균 정확도 : 0.9518840579710146\n",
      "평균 정확도 : 0.9584541062801932\n",
      "평균 정확도 : 0.956231884057971\n",
      "평균 정확도 : 0.9605797101449275\n",
      "평균 정확도 : 0.9628019323671497\n"
     ]
    }
   ],
   "source": [
    "rf_cv_scores = cross_validation(RandomForestClassifier(), X_train, y_train)"
   ]
  },
  {
   "cell_type": "code",
   "execution_count": 14,
   "id": "ef0f8acf",
   "metadata": {
    "ExecuteTime": {
     "end_time": "2021-12-09T00:11:51.294408Z",
     "start_time": "2021-12-09T00:11:39.979394Z"
    }
   },
   "outputs": [
    {
     "name": "stdout",
     "output_type": "stream",
     "text": [
      "평균 정확도 : 0.9583574879227055\n",
      "평균 정확도 : 0.9583574879227055\n",
      "평균 정확도 : 0.9583574879227055\n",
      "평균 정확도 : 0.9583574879227055\n",
      "평균 정확도 : 0.9583574879227055\n",
      "평균 정확도 : 0.9583574879227055\n",
      "평균 정확도 : 0.9583574879227055\n",
      "평균 정확도 : 0.9583574879227055\n",
      "평균 정확도 : 0.9583574879227055\n",
      "평균 정확도 : 0.9583574879227055\n"
     ]
    }
   ],
   "source": [
    "xb_cv_scores = cross_validation(XGBClassifier(eval_metric='mlogloss'), X_train, y_train)"
   ]
  },
  {
   "cell_type": "markdown",
   "id": "385414c0",
   "metadata": {
    "ExecuteTime": {
     "end_time": "2021-12-08T07:08:38.027397Z",
     "start_time": "2021-12-08T07:08:38.024357Z"
    }
   },
   "source": [
    "# 정확도 비교 시각화"
   ]
  },
  {
   "cell_type": "code",
   "execution_count": 15,
   "id": "cd040dbb",
   "metadata": {
    "ExecuteTime": {
     "end_time": "2021-12-09T00:11:52.610406Z",
     "start_time": "2021-12-09T00:11:51.298389Z"
    }
   },
   "outputs": [
    {
     "data": {
      "image/png": "[encoded data removed]",
      "text/plain": [
       "<Figure size 432x288 with 1 Axes>"
      ]
     },
     "metadata": {
      "needs_background": "light"
     },
     "output_type": "display_data"
    }
   ],
   "source": [
    "import matplotlib.pyplot as plt\n",
    "import numpy as np\n",
    "%matplotlib inline\n",
    "\n",
    "x = np.arange(5)\n",
    "plt.bar(x, height= [accuracy_score(y_test, dt_predicted),\n",
    "                    accuracy_score(y_test, knn_predicted),\n",
    "                    accuracy_score(y_test, svm_predicted),\n",
    "                    accuracy_score(y_test, hard_voting_predicted),\n",
    "                    accuracy_score(y_test, soft_voting_predicted)])\n",
    "plt.xticks(x, ['decision tree','knn','svm','hard voting','soft voting']);"
   ]
  },
  {
   "cell_type": "code",
   "execution_count": 16,
   "id": "23307d1d",
   "metadata": {
    "ExecuteTime": {
     "end_time": "2021-12-09T00:11:52.928426Z",
     "start_time": "2021-12-09T00:11:52.613391Z"
    }
   },
   "outputs": [
    {
     "data": {
      "text/plain": [
       "<AxesSubplot:>"
      ]
     },
     "execution_count": 16,
     "metadata": {},
     "output_type": "execute_result"
    },
    {
     "data": {
      "image/png": "[encoded data removed]",
      "text/plain": [
       "<Figure size 432x288 with 1 Axes>"
      ]
     },
     "metadata": {
      "needs_background": "light"
     },
     "output_type": "display_data"
    }
   ],
   "source": [
    "#랜덤포레스트 vs 의사결정트리vs xgboost 시각화\n",
    "cv_list = [    \n",
    "            ['random_forest',rf_cv_scores],\n",
    "            ['decision_tree',dt_cv_scores],\n",
    "            ['xgBoost',xb_cv_scores]\n",
    "          ]\n",
    "df = pd.DataFrame.from_dict( dict(cv_list) )\n",
    "df.plot()"
   ]
  },
  {
   "cell_type": "code",
   "execution_count": null,
   "id": "74590b2e",
   "metadata": {},
   "outputs": [],
   "source": [
    "plt.scatter(X_train, y-)"
   ]
  },
  {
   "cell_type": "markdown",
   "id": "8e460529",
   "metadata": {},
   "source": [
    "# 설명 변수 설명력"
   ]
  },
  {
   "cell_type": "code",
   "execution_count": 17,
   "id": "17d55b9c",
   "metadata": {
    "ExecuteTime": {
     "end_time": "2021-12-09T00:11:53.532387Z",
     "start_time": "2021-12-09T00:11:52.931388Z"
    }
   },
   "outputs": [
    {
     "ename": "NameError",
     "evalue": "name 'rf' is not defined",
     "output_type": "error",
     "traceback": [
      "\u001b[1;31m---------------------------------------------------------------------------\u001b[0m",
      "\u001b[1;31mNameError\u001b[0m                                 Traceback (most recent call last)",
      "\u001b[1;32m~\\AppData\\Local\\Temp/ipykernel_11808/863079067.py\u001b[0m in \u001b[0;36m<module>\u001b[1;34m\u001b[0m\n\u001b[0;32m      1\u001b[0m \u001b[1;31m# random forest\u001b[0m\u001b[1;33m\u001b[0m\u001b[1;33m\u001b[0m\u001b[1;33m\u001b[0m\u001b[0m\n\u001b[1;32m----> 2\u001b[1;33m \u001b[0mrf\u001b[0m\u001b[1;33m.\u001b[0m\u001b[0mfit\u001b[0m\u001b[1;33m(\u001b[0m\u001b[0mX_train\u001b[0m\u001b[1;33m,\u001b[0m \u001b[0my_train\u001b[0m\u001b[1;33m)\u001b[0m\u001b[1;33m\u001b[0m\u001b[1;33m\u001b[0m\u001b[0m\n\u001b[0m\u001b[0;32m      3\u001b[0m \u001b[0mprint\u001b[0m\u001b[1;33m(\u001b[0m\u001b[0mrf\u001b[0m\u001b[1;33m.\u001b[0m\u001b[0mfeature_importances_\u001b[0m\u001b[1;33m)\u001b[0m\u001b[1;33m\u001b[0m\u001b[1;33m\u001b[0m\u001b[0m\n",
      "\u001b[1;31mNameError\u001b[0m: name 'rf' is not defined"
     ]
    }
   ],
   "source": [
    "# random forest\n",
    "rf.fit(X_train, y_train)\n",
    "print(rf.feature_importances_)"
   ]
  },
  {
   "cell_type": "code",
   "execution_count": null,
   "id": "30e2c71e",
   "metadata": {
    "ExecuteTime": {
     "end_time": "2021-12-09T00:11:53.535390Z",
     "start_time": "2021-12-09T00:11:53.535390Z"
    }
   },
   "outputs": [],
   "source": [
    "# xgboost\n",
    "xgb.fit(X_train, y_train)\n",
    "print(xgb.feature_importances_)"
   ]
  },
  {
   "cell_type": "code",
   "execution_count": null,
   "id": "7a08afa0",
   "metadata": {
    "ExecuteTime": {
     "end_time": "2021-12-09T00:11:53.538397Z",
     "start_time": "2021-12-09T00:11:53.538397Z"
    }
   },
   "outputs": [],
   "source": [
    "# print(lr.coef_)\n",
    "# print(lr.intercept_)"
   ]
  }
 ],
 "metadata": {
  "kernelspec": {
   "display_name": "Python 3 (ipykernel)",
   "language": "python",
   "name": "python3"
  },
  "language_info": {
   "codemirror_mode": {
    "name": "ipython",
    "version": 3
   },
   "file_extension": ".py",
   "mimetype": "text/x-python",
   "name": "python",
   "nbconvert_exporter": "python",
   "pygments_lexer": "ipython3",
   "version": "3.8.12"
  },
  "toc": {
   "base_numbering": 1,
   "nav_menu": {},
   "number_sections": true,
   "sideBar": true,
   "skip_h1_title": false,
   "title_cell": "Table of Contents",
   "title_sidebar": "Contents",
   "toc_cell": false,
   "toc_position": {},
   "toc_section_display": true,
   "toc_window_display": false
  }
 },
 "nbformat": 4,
 "nbformat_minor": 5
}
